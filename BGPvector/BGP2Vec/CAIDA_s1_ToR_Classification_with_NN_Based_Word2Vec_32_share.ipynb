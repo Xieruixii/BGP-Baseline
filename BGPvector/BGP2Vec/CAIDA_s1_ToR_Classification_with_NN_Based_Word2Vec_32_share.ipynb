{
 "cells": [
  {
   "cell_type": "markdown",
   "metadata": {},
   "source": [
    "# Import python packages"
   ]
  },
  {
   "cell_type": "code",
   "metadata": {
    "ExecuteTime": {
     "end_time": "2025-02-27T10:35:23.033519Z",
     "start_time": "2025-02-27T10:35:22.243831Z"
    }
   },
   "source": [
    "import pickle\n",
    "import numpy as np\n",
    "from sklearn.model_selection import train_test_split\n",
    "\n",
    "from keras.models import Sequential\n",
    "from keras.layers import Dense, Reshape, Flatten\n",
    "from keras.layers import LSTM\n",
    "from keras.layers.convolutional import Convolution1D\n",
    "from keras.layers.convolutional import MaxPooling1D\n",
    "from keras.layers.embeddings import Embedding\n",
    "from keras.preprocessing import sequence\n",
    "from keras.callbacks import TensorBoard,ModelCheckpoint\n",
    "from keras.utils import to_categorical\n",
    "\n",
    "SEED = 7\n",
    "np.random.seed(SEED)"
   ],
   "outputs": [
    {
     "name": "stderr",
     "output_type": "stream",
     "text": [
      "Using TensorFlow backend.\n",
      "/home/zhouyy/anaconda3/envs/BGP2Vec/lib/python3.6/site-packages/tensorflow/python/framework/dtypes.py:526: FutureWarning: Passing (type, 1) or '1type' as a synonym of type is deprecated; in a future version of numpy, it will be understood as (type, (1,)) / '(1,)type'.\n",
      "  _np_qint8 = np.dtype([(\"qint8\", np.int8, 1)])\n",
      "/home/zhouyy/anaconda3/envs/BGP2Vec/lib/python3.6/site-packages/tensorflow/python/framework/dtypes.py:527: FutureWarning: Passing (type, 1) or '1type' as a synonym of type is deprecated; in a future version of numpy, it will be understood as (type, (1,)) / '(1,)type'.\n",
      "  _np_quint8 = np.dtype([(\"quint8\", np.uint8, 1)])\n",
      "/home/zhouyy/anaconda3/envs/BGP2Vec/lib/python3.6/site-packages/tensorflow/python/framework/dtypes.py:528: FutureWarning: Passing (type, 1) or '1type' as a synonym of type is deprecated; in a future version of numpy, it will be understood as (type, (1,)) / '(1,)type'.\n",
      "  _np_qint16 = np.dtype([(\"qint16\", np.int16, 1)])\n",
      "/home/zhouyy/anaconda3/envs/BGP2Vec/lib/python3.6/site-packages/tensorflow/python/framework/dtypes.py:529: FutureWarning: Passing (type, 1) or '1type' as a synonym of type is deprecated; in a future version of numpy, it will be understood as (type, (1,)) / '(1,)type'.\n",
      "  _np_quint16 = np.dtype([(\"quint16\", np.uint16, 1)])\n",
      "/home/zhouyy/anaconda3/envs/BGP2Vec/lib/python3.6/site-packages/tensorflow/python/framework/dtypes.py:530: FutureWarning: Passing (type, 1) or '1type' as a synonym of type is deprecated; in a future version of numpy, it will be understood as (type, (1,)) / '(1,)type'.\n",
      "  _np_qint32 = np.dtype([(\"qint32\", np.int32, 1)])\n",
      "/home/zhouyy/anaconda3/envs/BGP2Vec/lib/python3.6/site-packages/tensorflow/python/framework/dtypes.py:535: FutureWarning: Passing (type, 1) or '1type' as a synonym of type is deprecated; in a future version of numpy, it will be understood as (type, (1,)) / '(1,)type'.\n",
      "  np_resource = np.dtype([(\"resource\", np.ubyte, 1)])\n"
     ]
    }
   ],
   "execution_count": 1
  },
  {
   "cell_type": "markdown",
   "metadata": {},
   "source": [
    "# Define parameters and load dataset"
   ]
  },
  {
   "cell_type": "code",
   "metadata": {
    "ExecuteTime": {
     "end_time": "2025-02-27T10:35:28.655735Z",
     "start_time": "2025-02-27T10:35:28.592991Z"
    }
   },
   "source": [
    "MODEL_NAME = \"CAIDA_s1_ToR_Classification_with_NN_Based_Word2Vec_32\"\n",
    "\n",
    "Word2Vec_MODEL_NAME = \"Word2Vec_No_Indexed_3_iters_5_negative_1_window\"  #################\n",
    "\n",
    "TEST_SIZE = 0.2\n",
    "TOR_LABELS_DICT = {'P2P':0, 'C2P': 1,'P2C': 2}\n",
    "class_names = ['P2P', 'C2P', 'P2C']\n",
    "num_classes = len(class_names)\n",
    "DATA_PATH = 'Data/'\n",
    "MODELS_PATH = 'Models/'\n",
    "RESULTS_PATH = 'Results/'\n",
    "\n",
    "DATA = \"caida_s1_tor\"\n",
    "dataset = np.load(DATA_PATH + DATA + \"_dataset.npy\")\n",
    "labels = np.load(DATA_PATH + DATA + \"_labels.npy\")\n",
    "\n",
    "print(dataset.shape, labels.shape)"
   ],
   "outputs": [
    {
     "name": "stdout",
     "output_type": "stream",
     "text": [
      "(861840, 2) (861840,)\n"
     ]
    }
   ],
   "execution_count": 2
  },
  {
   "cell_type": "code",
   "metadata": {
    "ExecuteTime": {
     "end_time": "2025-02-27T10:35:31.146936Z",
     "start_time": "2025-02-27T10:35:31.144185Z"
    }
   },
   "source": [
    "print(dataset[0])"
   ],
   "outputs": [
    {
     "name": "stdout",
     "output_type": "stream",
     "text": [
      "['1' '11537']\n"
     ]
    }
   ],
   "execution_count": 3
  },
  {
   "cell_type": "code",
   "metadata": {
    "ExecuteTime": {
     "end_time": "2025-02-27T10:35:33.144189Z",
     "start_time": "2025-02-27T10:35:32.782170Z"
    }
   },
   "source": [
    "ASN_set = set()\n",
    "for tor in dataset:\n",
    "    ASN_set.add(tor[0])\n",
    "    ASN_set.add(tor[1])\n",
    "\n",
    "print(len(ASN_set))"
   ],
   "outputs": [
    {
     "name": "stdout",
     "output_type": "stream",
     "text": [
      "60578\n"
     ]
    }
   ],
   "execution_count": 4
  },
  {
   "cell_type": "code",
   "metadata": {
    "ExecuteTime": {
     "end_time": "2025-02-27T10:35:35.040436Z",
     "start_time": "2025-02-27T10:35:34.976224Z"
    }
   },
   "source": [
    "from collections import Counter\n",
    "c_caida = Counter(labels)\n",
    "print(c_caida)"
   ],
   "outputs": [
    {
     "name": "stdout",
     "output_type": "stream",
     "text": [
      "Counter({0: 619648, 3: 121096, 1: 121096})\n"
     ]
    }
   ],
   "execution_count": 5
  },
  {
   "cell_type": "markdown",
   "metadata": {},
   "source": [
    "# Load Word2Vec embedding"
   ]
  },
  {
   "cell_type": "code",
   "metadata": {
    "ExecuteTime": {
     "end_time": "2025-02-27T10:35:37.320071Z",
     "start_time": "2025-02-27T10:35:36.952651Z"
    }
   },
   "source": [
    "from gensim.models import Word2Vec\n",
    "word2vec_model = Word2Vec.load(MODELS_PATH + Word2Vec_MODEL_NAME + \".word2vec\")\n",
    "emdeddings = word2vec_model.wv.syn0\n",
    "total_ASNs, embedding_vecor_length = emdeddings.shape\n",
    "print(total_ASNs, embedding_vecor_length)"
   ],
   "outputs": [
    {
     "name": "stdout",
     "output_type": "stream",
     "text": [
      "60876 32\n"
     ]
    },
    {
     "name": "stderr",
     "output_type": "stream",
     "text": [
      "/home/zhouyy/anaconda3/envs/BGP2Vec/lib/python3.6/site-packages/ipykernel/__main__.py:3: DeprecationWarning: Call to deprecated `syn0` (Attribute will be removed in 4.0.0, use self.vectors instead).\n",
      "  app.launch_new_instance()\n"
     ]
    }
   ],
   "execution_count": 6
  },
  {
   "cell_type": "markdown",
   "metadata": {},
   "source": [
    "## Generate indexed data with fixed length"
   ]
  },
  {
   "cell_type": "code",
   "metadata": {
    "ExecuteTime": {
     "end_time": "2025-02-27T10:35:40.502504Z",
     "start_time": "2025-02-27T10:35:40.313824Z"
    }
   },
   "source": [
    "def asn2idx(asn):\n",
    "    return word2vec_model.wv.vocab[asn].index\n",
    "def idx2asn(idx):\n",
    "    return word2vec_model.wv.index2word[idx]\n",
    "\n",
    "def dataset_asn2idx(dataset):\n",
    "    dataset_idx = np.zeros([len(dataset), 2], dtype=np.int32)\n",
    "\n",
    "    for i, pair in enumerate(dataset):\n",
    "            dataset_idx[i, 0] = asn2idx(pair[0])\n",
    "            dataset_idx[i, 1] = asn2idx(pair[1])\n",
    "    return dataset_idx\n",
    "\n",
    "def dataset_idx2asn(dataset_idx):\n",
    "    dataset_asn = np.zeros([len(dataset_idx), 2], dtype = np.dtype('U6'))\n",
    "\n",
    "    for i, pair in enumerate(dataset_idx):\n",
    "            dataset_asn[i, 0] = idx2asn(pair[0])\n",
    "            dataset_asn[i, 1] = idx2asn(pair[1])\n",
    "    return dataset_asn\n",
    "        \n",
    "dataset = dataset_asn2idx(dataset)\n",
    "print(dataset.shape)"
   ],
   "outputs": [
    {
     "ename": "KeyError",
     "evalue": "'23815'",
     "output_type": "error",
     "traceback": [
      "\u001B[0;31m---------------------------------------------------------------------------\u001B[0m",
      "\u001B[0;31mKeyError\u001B[0m                                  Traceback (most recent call last)",
      "\u001B[0;32m<ipython-input-7-b3588c884d3e>\u001B[0m in \u001B[0;36m<module>\u001B[0;34m()\u001B[0m\n\u001B[1;32m     20\u001B[0m     \u001B[0;32mreturn\u001B[0m \u001B[0mdataset_asn\u001B[0m\u001B[0;34m\u001B[0m\u001B[0m\n\u001B[1;32m     21\u001B[0m \u001B[0;34m\u001B[0m\u001B[0m\n\u001B[0;32m---> 22\u001B[0;31m \u001B[0mdataset\u001B[0m \u001B[0;34m=\u001B[0m \u001B[0mdataset_asn2idx\u001B[0m\u001B[0;34m(\u001B[0m\u001B[0mdataset\u001B[0m\u001B[0;34m)\u001B[0m\u001B[0;34m\u001B[0m\u001B[0m\n\u001B[0m\u001B[1;32m     23\u001B[0m \u001B[0mprint\u001B[0m\u001B[0;34m(\u001B[0m\u001B[0mdataset\u001B[0m\u001B[0;34m.\u001B[0m\u001B[0mshape\u001B[0m\u001B[0;34m)\u001B[0m\u001B[0;34m\u001B[0m\u001B[0m\n",
      "\u001B[0;32m<ipython-input-7-b3588c884d3e>\u001B[0m in \u001B[0;36mdataset_asn2idx\u001B[0;34m(dataset)\u001B[0m\n\u001B[1;32m      9\u001B[0m     \u001B[0;32mfor\u001B[0m \u001B[0mi\u001B[0m\u001B[0;34m,\u001B[0m \u001B[0mpair\u001B[0m \u001B[0;32min\u001B[0m \u001B[0menumerate\u001B[0m\u001B[0;34m(\u001B[0m\u001B[0mdataset\u001B[0m\u001B[0;34m)\u001B[0m\u001B[0;34m:\u001B[0m\u001B[0;34m\u001B[0m\u001B[0m\n\u001B[1;32m     10\u001B[0m             \u001B[0mdataset_idx\u001B[0m\u001B[0;34m[\u001B[0m\u001B[0mi\u001B[0m\u001B[0;34m,\u001B[0m \u001B[0;36m0\u001B[0m\u001B[0;34m]\u001B[0m \u001B[0;34m=\u001B[0m \u001B[0masn2idx\u001B[0m\u001B[0;34m(\u001B[0m\u001B[0mpair\u001B[0m\u001B[0;34m[\u001B[0m\u001B[0;36m0\u001B[0m\u001B[0;34m]\u001B[0m\u001B[0;34m)\u001B[0m\u001B[0;34m\u001B[0m\u001B[0m\n\u001B[0;32m---> 11\u001B[0;31m             \u001B[0mdataset_idx\u001B[0m\u001B[0;34m[\u001B[0m\u001B[0mi\u001B[0m\u001B[0;34m,\u001B[0m \u001B[0;36m1\u001B[0m\u001B[0;34m]\u001B[0m \u001B[0;34m=\u001B[0m \u001B[0masn2idx\u001B[0m\u001B[0;34m(\u001B[0m\u001B[0mpair\u001B[0m\u001B[0;34m[\u001B[0m\u001B[0;36m1\u001B[0m\u001B[0;34m]\u001B[0m\u001B[0;34m)\u001B[0m\u001B[0;34m\u001B[0m\u001B[0m\n\u001B[0m\u001B[1;32m     12\u001B[0m     \u001B[0;32mreturn\u001B[0m \u001B[0mdataset_idx\u001B[0m\u001B[0;34m\u001B[0m\u001B[0m\n\u001B[1;32m     13\u001B[0m \u001B[0;34m\u001B[0m\u001B[0m\n",
      "\u001B[0;32m<ipython-input-7-b3588c884d3e>\u001B[0m in \u001B[0;36masn2idx\u001B[0;34m(asn)\u001B[0m\n\u001B[1;32m      1\u001B[0m \u001B[0;32mdef\u001B[0m \u001B[0masn2idx\u001B[0m\u001B[0;34m(\u001B[0m\u001B[0masn\u001B[0m\u001B[0;34m)\u001B[0m\u001B[0;34m:\u001B[0m\u001B[0;34m\u001B[0m\u001B[0m\n\u001B[0;32m----> 2\u001B[0;31m     \u001B[0;32mreturn\u001B[0m \u001B[0mword2vec_model\u001B[0m\u001B[0;34m.\u001B[0m\u001B[0mwv\u001B[0m\u001B[0;34m.\u001B[0m\u001B[0mvocab\u001B[0m\u001B[0;34m[\u001B[0m\u001B[0masn\u001B[0m\u001B[0;34m]\u001B[0m\u001B[0;34m.\u001B[0m\u001B[0mindex\u001B[0m\u001B[0;34m\u001B[0m\u001B[0m\n\u001B[0m\u001B[1;32m      3\u001B[0m \u001B[0;32mdef\u001B[0m \u001B[0midx2asn\u001B[0m\u001B[0;34m(\u001B[0m\u001B[0midx\u001B[0m\u001B[0;34m)\u001B[0m\u001B[0;34m:\u001B[0m\u001B[0;34m\u001B[0m\u001B[0m\n\u001B[1;32m      4\u001B[0m     \u001B[0;32mreturn\u001B[0m \u001B[0mword2vec_model\u001B[0m\u001B[0;34m.\u001B[0m\u001B[0mwv\u001B[0m\u001B[0;34m.\u001B[0m\u001B[0mindex2word\u001B[0m\u001B[0;34m[\u001B[0m\u001B[0midx\u001B[0m\u001B[0;34m]\u001B[0m\u001B[0;34m\u001B[0m\u001B[0m\n\u001B[1;32m      5\u001B[0m \u001B[0;34m\u001B[0m\u001B[0m\n",
      "\u001B[0;31mKeyError\u001B[0m: '23815'"
     ]
    }
   ],
   "execution_count": 7
  },
  {
   "cell_type": "markdown",
   "metadata": {},
   "source": [
    "# Generate training and test sets"
   ]
  },
  {
   "cell_type": "markdown",
   "metadata": {},
   "source": [
    "## Shuffle dataset"
   ]
  },
  {
   "cell_type": "code",
   "metadata": {
    "ExecuteTime": {
     "end_time": "2025-02-27T10:35:44.989721Z",
     "start_time": "2025-02-27T10:35:44.929808Z"
    }
   },
   "source": [
    "from sklearn.utils import shuffle\n",
    "indices = np.arange(len(dataset))\n",
    "np.random.shuffle(indices)\n",
    "dataset = dataset[indices]\n",
    "labels = labels[indices]\n",
    "# dataset, labels = shuffle(dataset, labels, random_state=7)"
   ],
   "outputs": [],
   "execution_count": 8
  },
  {
   "cell_type": "markdown",
   "metadata": {},
   "source": [
    "## Train-Test split"
   ]
  },
  {
   "cell_type": "code",
   "metadata": {
    "ExecuteTime": {
     "end_time": "2025-02-27T10:35:46.928506Z",
     "start_time": "2025-02-27T10:35:46.863920Z"
    }
   },
   "source": [
    "indices = np.arange(len(dataset))\n",
    "x_training, x_test, indices_training, indices_test = train_test_split(dataset, indices, test_size=TEST_SIZE)\n",
    "y_training = labels[indices_training]\n",
    "y_test = labels[indices_test]\n",
    "\n",
    "del dataset, labels"
   ],
   "outputs": [],
   "execution_count": 9
  },
  {
   "cell_type": "code",
   "metadata": {
    "ExecuteTime": {
     "end_time": "2025-02-27T10:35:48.387803Z",
     "start_time": "2025-02-27T10:35:48.319753Z"
    }
   },
   "source": [
    "print(x_training.shape, y_training.shape)\n",
    "print(x_test.shape, y_test.shape)\n",
    "\n",
    "print(1.0*len(x_training)/(len(x_test)+len(x_training)))\n",
    "\n",
    "from collections import Counter\n",
    "training_c = Counter(y_training)\n",
    "test_c = Counter(y_test)\n",
    "print(training_c, test_c)"
   ],
   "outputs": [
    {
     "name": "stdout",
     "output_type": "stream",
     "text": [
      "(689472, 2) (689472,)\n",
      "(172368, 2) (172368,)\n",
      "0.8\n",
      "Counter({0: 495542, 1: 97122, 3: 96808}) Counter({0: 124106, 3: 24288, 1: 23974})\n"
     ]
    }
   ],
   "execution_count": 10
  },
  {
   "cell_type": "markdown",
   "metadata": {},
   "source": [
    "# Define and run NN model\n",
    "## Define model"
   ]
  },
  {
   "cell_type": "code",
   "metadata": {
    "ExecuteTime": {
     "end_time": "2025-02-27T10:35:50.480092Z",
     "start_time": "2025-02-27T10:35:50.382459Z"
    }
   },
   "source": [
    "embedding_trainable = False\n",
    "\n",
    "input_length = 2\n",
    "\n",
    "model = Sequential()\n",
    "model.add(Embedding(total_ASNs, embedding_vecor_length, input_length=input_length,\n",
    "                    weights=[emdeddings], trainable=embedding_trainable))\n",
    "model.add(Convolution1D(filters=32, kernel_size=3, padding='same', activation='relu'))\n",
    "model.add(Reshape((model.output_shape[2],model.output_shape[1])))\n",
    "model.add(MaxPooling1D(pool_size=2))\n",
    "model.add(Convolution1D(filters=32, kernel_size=3, padding='same', activation='relu'))\n",
    "model.add(Reshape((model.output_shape[2],model.output_shape[1])))\n",
    "model.add(MaxPooling1D(pool_size=2))\n",
    "model.add(Flatten())\n",
    "model.add(Dense(100, activation='relu'))\n",
    "model.add(Dense(num_classes, activation='softmax'))\n",
    "model.compile(loss='categorical_crossentropy', optimizer='adam', metrics=['accuracy'])\n",
    "print(model.summary())"
   ],
   "outputs": [
    {
     "name": "stdout",
     "output_type": "stream",
     "text": [
      "WARNING:tensorflow:From /home/zhouyy/anaconda3/envs/BGP2Vec/lib/python3.6/site-packages/tensorflow/python/framework/op_def_library.py:263: colocate_with (from tensorflow.python.framework.ops) is deprecated and will be removed in a future version.\n",
      "Instructions for updating:\n",
      "Colocations handled automatically by placer.\n",
      "_________________________________________________________________\n",
      "Layer (type)                 Output Shape              Param #   \n",
      "=================================================================\n",
      "embedding_1 (Embedding)      (None, 2, 32)             1948032   \n",
      "_________________________________________________________________\n",
      "conv1d_1 (Conv1D)            (None, 2, 32)             3104      \n",
      "_________________________________________________________________\n",
      "reshape_1 (Reshape)          (None, 32, 2)             0         \n",
      "_________________________________________________________________\n",
      "max_pooling1d_1 (MaxPooling1 (None, 16, 2)             0         \n",
      "_________________________________________________________________\n",
      "conv1d_2 (Conv1D)            (None, 16, 32)            224       \n",
      "_________________________________________________________________\n",
      "reshape_2 (Reshape)          (None, 32, 16)            0         \n",
      "_________________________________________________________________\n",
      "max_pooling1d_2 (MaxPooling1 (None, 16, 16)            0         \n",
      "_________________________________________________________________\n",
      "flatten_1 (Flatten)          (None, 256)               0         \n",
      "_________________________________________________________________\n",
      "dense_1 (Dense)              (None, 100)               25700     \n",
      "_________________________________________________________________\n",
      "dense_2 (Dense)              (None, 3)                 303       \n",
      "=================================================================\n",
      "Total params: 1,977,363\n",
      "Trainable params: 29,331\n",
      "Non-trainable params: 1,948,032\n",
      "_________________________________________________________________\n",
      "None\n"
     ]
    }
   ],
   "execution_count": 11
  },
  {
   "cell_type": "code",
   "metadata": {
    "ExecuteTime": {
     "end_time": "2025-02-27T10:46:34.543638Z",
     "start_time": "2025-02-27T10:46:34.468507Z"
    }
   },
   "source": [
    "from keras.utils import plot_model\n",
    "plot_model(model, show_shapes=True,to_file=RESULTS_PATH + MODEL_NAME + \"_\" + 'model.png')"
   ],
   "outputs": [
    {
     "ename": "Exception",
     "evalue": "\"dot\" not found in path.",
     "output_type": "error",
     "traceback": [
      "\u001B[0;31m---------------------------------------------------------------------------\u001B[0m",
      "\u001B[0;31mFileNotFoundError\u001B[0m                         Traceback (most recent call last)",
      "\u001B[0;32m~/anaconda3/envs/BGP2Vec/lib/python3.6/site-packages/pydot.py\u001B[0m in \u001B[0;36mcreate\u001B[0;34m(self, prog, format)\u001B[0m\n\u001B[1;32m   1877\u001B[0m                 \u001B[0mshell\u001B[0m\u001B[0;34m=\u001B[0m\u001B[0;32mFalse\u001B[0m\u001B[0;34m,\u001B[0m\u001B[0;34m\u001B[0m\u001B[0m\n\u001B[0;32m-> 1878\u001B[0;31m                 stderr=subprocess.PIPE, stdout=subprocess.PIPE)\n\u001B[0m\u001B[1;32m   1879\u001B[0m         \u001B[0;32mexcept\u001B[0m \u001B[0mOSError\u001B[0m \u001B[0;32mas\u001B[0m \u001B[0me\u001B[0m\u001B[0;34m:\u001B[0m\u001B[0;34m\u001B[0m\u001B[0m\n",
      "\u001B[0;32m~/anaconda3/envs/BGP2Vec/lib/python3.6/subprocess.py\u001B[0m in \u001B[0;36m__init__\u001B[0;34m(self, args, bufsize, executable, stdin, stdout, stderr, preexec_fn, close_fds, shell, cwd, env, universal_newlines, startupinfo, creationflags, restore_signals, start_new_session, pass_fds, encoding, errors)\u001B[0m\n\u001B[1;32m    708\u001B[0m                                 \u001B[0merrread\u001B[0m\u001B[0;34m,\u001B[0m \u001B[0merrwrite\u001B[0m\u001B[0;34m,\u001B[0m\u001B[0;34m\u001B[0m\u001B[0m\n\u001B[0;32m--> 709\u001B[0;31m                                 restore_signals, start_new_session)\n\u001B[0m\u001B[1;32m    710\u001B[0m         \u001B[0;32mexcept\u001B[0m\u001B[0;34m:\u001B[0m\u001B[0;34m\u001B[0m\u001B[0m\n",
      "\u001B[0;32m~/anaconda3/envs/BGP2Vec/lib/python3.6/subprocess.py\u001B[0m in \u001B[0;36m_execute_child\u001B[0;34m(self, args, executable, preexec_fn, close_fds, pass_fds, cwd, env, startupinfo, creationflags, shell, p2cread, p2cwrite, c2pread, c2pwrite, errread, errwrite, restore_signals, start_new_session)\u001B[0m\n\u001B[1;32m   1343\u001B[0m                             \u001B[0merr_msg\u001B[0m \u001B[0;34m+=\u001B[0m \u001B[0;34m': '\u001B[0m \u001B[0;34m+\u001B[0m \u001B[0mrepr\u001B[0m\u001B[0;34m(\u001B[0m\u001B[0merr_filename\u001B[0m\u001B[0;34m)\u001B[0m\u001B[0;34m\u001B[0m\u001B[0m\n\u001B[0;32m-> 1344\u001B[0;31m                     \u001B[0;32mraise\u001B[0m \u001B[0mchild_exception_type\u001B[0m\u001B[0;34m(\u001B[0m\u001B[0merrno_num\u001B[0m\u001B[0;34m,\u001B[0m \u001B[0merr_msg\u001B[0m\u001B[0;34m,\u001B[0m \u001B[0merr_filename\u001B[0m\u001B[0;34m)\u001B[0m\u001B[0;34m\u001B[0m\u001B[0m\n\u001B[0m\u001B[1;32m   1345\u001B[0m                 \u001B[0;32mraise\u001B[0m \u001B[0mchild_exception_type\u001B[0m\u001B[0;34m(\u001B[0m\u001B[0merr_msg\u001B[0m\u001B[0;34m)\u001B[0m\u001B[0;34m\u001B[0m\u001B[0m\n",
      "\u001B[0;31mFileNotFoundError\u001B[0m: [Errno 2] No such file or directory: 'dot': 'dot'",
      "\nDuring handling of the above exception, another exception occurred:\n",
      "\u001B[0;31mException\u001B[0m                                 Traceback (most recent call last)",
      "\u001B[0;32m<ipython-input-14-c3db4ce0b85b>\u001B[0m in \u001B[0;36m<module>\u001B[0;34m()\u001B[0m\n\u001B[1;32m      1\u001B[0m \u001B[0;32mfrom\u001B[0m \u001B[0mkeras\u001B[0m\u001B[0;34m.\u001B[0m\u001B[0mutils\u001B[0m \u001B[0;32mimport\u001B[0m \u001B[0mplot_model\u001B[0m\u001B[0;34m\u001B[0m\u001B[0m\n\u001B[0;32m----> 2\u001B[0;31m \u001B[0mplot_model\u001B[0m\u001B[0;34m(\u001B[0m\u001B[0mmodel\u001B[0m\u001B[0;34m,\u001B[0m \u001B[0mshow_shapes\u001B[0m\u001B[0;34m=\u001B[0m\u001B[0;32mTrue\u001B[0m\u001B[0;34m,\u001B[0m\u001B[0mto_file\u001B[0m\u001B[0;34m=\u001B[0m\u001B[0mRESULTS_PATH\u001B[0m \u001B[0;34m+\u001B[0m \u001B[0mMODEL_NAME\u001B[0m \u001B[0;34m+\u001B[0m \u001B[0;34m\"_\"\u001B[0m \u001B[0;34m+\u001B[0m \u001B[0;34m'model.png'\u001B[0m\u001B[0;34m)\u001B[0m\u001B[0;34m\u001B[0m\u001B[0m\n\u001B[0m",
      "\u001B[0;32m~/anaconda3/envs/BGP2Vec/lib/python3.6/site-packages/keras/utils/vis_utils.py\u001B[0m in \u001B[0;36mplot_model\u001B[0;34m(model, to_file, show_shapes, show_layer_names, rankdir)\u001B[0m\n\u001B[1;32m    130\u001B[0m             \u001B[0;34m'LR'\u001B[0m \u001B[0mcreates\u001B[0m \u001B[0ma\u001B[0m \u001B[0mhorizontal\u001B[0m \u001B[0mplot\u001B[0m\u001B[0;34m.\u001B[0m\u001B[0;34m\u001B[0m\u001B[0m\n\u001B[1;32m    131\u001B[0m     \"\"\"\n\u001B[0;32m--> 132\u001B[0;31m     \u001B[0mdot\u001B[0m \u001B[0;34m=\u001B[0m \u001B[0mmodel_to_dot\u001B[0m\u001B[0;34m(\u001B[0m\u001B[0mmodel\u001B[0m\u001B[0;34m,\u001B[0m \u001B[0mshow_shapes\u001B[0m\u001B[0;34m,\u001B[0m \u001B[0mshow_layer_names\u001B[0m\u001B[0;34m,\u001B[0m \u001B[0mrankdir\u001B[0m\u001B[0;34m)\u001B[0m\u001B[0;34m\u001B[0m\u001B[0m\n\u001B[0m\u001B[1;32m    133\u001B[0m     \u001B[0m_\u001B[0m\u001B[0;34m,\u001B[0m \u001B[0mextension\u001B[0m \u001B[0;34m=\u001B[0m \u001B[0mos\u001B[0m\u001B[0;34m.\u001B[0m\u001B[0mpath\u001B[0m\u001B[0;34m.\u001B[0m\u001B[0msplitext\u001B[0m\u001B[0;34m(\u001B[0m\u001B[0mto_file\u001B[0m\u001B[0;34m)\u001B[0m\u001B[0;34m\u001B[0m\u001B[0m\n\u001B[1;32m    134\u001B[0m     \u001B[0;32mif\u001B[0m \u001B[0;32mnot\u001B[0m \u001B[0mextension\u001B[0m\u001B[0;34m:\u001B[0m\u001B[0;34m\u001B[0m\u001B[0m\n",
      "\u001B[0;32m~/anaconda3/envs/BGP2Vec/lib/python3.6/site-packages/keras/utils/vis_utils.py\u001B[0m in \u001B[0;36mmodel_to_dot\u001B[0;34m(model, show_shapes, show_layer_names, rankdir)\u001B[0m\n\u001B[1;32m     53\u001B[0m     \u001B[0;32mfrom\u001B[0m \u001B[0;34m.\u001B[0m\u001B[0;34m.\u001B[0m\u001B[0mmodels\u001B[0m \u001B[0;32mimport\u001B[0m \u001B[0mSequential\u001B[0m\u001B[0;34m\u001B[0m\u001B[0m\n\u001B[1;32m     54\u001B[0m \u001B[0;34m\u001B[0m\u001B[0m\n\u001B[0;32m---> 55\u001B[0;31m     \u001B[0m_check_pydot\u001B[0m\u001B[0;34m(\u001B[0m\u001B[0;34m)\u001B[0m\u001B[0;34m\u001B[0m\u001B[0m\n\u001B[0m\u001B[1;32m     56\u001B[0m     \u001B[0mdot\u001B[0m \u001B[0;34m=\u001B[0m \u001B[0mpydot\u001B[0m\u001B[0;34m.\u001B[0m\u001B[0mDot\u001B[0m\u001B[0;34m(\u001B[0m\u001B[0;34m)\u001B[0m\u001B[0;34m\u001B[0m\u001B[0m\n\u001B[1;32m     57\u001B[0m     \u001B[0mdot\u001B[0m\u001B[0;34m.\u001B[0m\u001B[0mset\u001B[0m\u001B[0;34m(\u001B[0m\u001B[0;34m'rankdir'\u001B[0m\u001B[0;34m,\u001B[0m \u001B[0mrankdir\u001B[0m\u001B[0;34m)\u001B[0m\u001B[0;34m\u001B[0m\u001B[0m\n",
      "\u001B[0;32m~/anaconda3/envs/BGP2Vec/lib/python3.6/site-packages/keras/utils/vis_utils.py\u001B[0m in \u001B[0;36m_check_pydot\u001B[0;34m()\u001B[0m\n\u001B[1;32m     24\u001B[0m         \u001B[0;31m# Attempt to create an image of a blank graph\u001B[0m\u001B[0;34m\u001B[0m\u001B[0;34m\u001B[0m\u001B[0m\n\u001B[1;32m     25\u001B[0m         \u001B[0;31m# to check the pydot/graphviz installation.\u001B[0m\u001B[0;34m\u001B[0m\u001B[0;34m\u001B[0m\u001B[0m\n\u001B[0;32m---> 26\u001B[0;31m         \u001B[0mpydot\u001B[0m\u001B[0;34m.\u001B[0m\u001B[0mDot\u001B[0m\u001B[0;34m.\u001B[0m\u001B[0mcreate\u001B[0m\u001B[0;34m(\u001B[0m\u001B[0mpydot\u001B[0m\u001B[0;34m.\u001B[0m\u001B[0mDot\u001B[0m\u001B[0;34m(\u001B[0m\u001B[0;34m)\u001B[0m\u001B[0;34m)\u001B[0m\u001B[0;34m\u001B[0m\u001B[0m\n\u001B[0m\u001B[1;32m     27\u001B[0m     \u001B[0;32mexcept\u001B[0m \u001B[0mOSError\u001B[0m\u001B[0;34m:\u001B[0m\u001B[0;34m\u001B[0m\u001B[0m\n\u001B[1;32m     28\u001B[0m         raise OSError(\n",
      "\u001B[0;32m~/anaconda3/envs/BGP2Vec/lib/python3.6/site-packages/pydot.py\u001B[0m in \u001B[0;36mcreate\u001B[0;34m(self, prog, format)\u001B[0m\n\u001B[1;32m   1881\u001B[0m                 raise Exception(\n\u001B[1;32m   1882\u001B[0m                     '\"{prog}\" not found in path.'.format(\n\u001B[0;32m-> 1883\u001B[0;31m                         prog=prog))\n\u001B[0m\u001B[1;32m   1884\u001B[0m             \u001B[0;32melse\u001B[0m\u001B[0;34m:\u001B[0m\u001B[0;34m\u001B[0m\u001B[0m\n\u001B[1;32m   1885\u001B[0m                 \u001B[0;32mraise\u001B[0m\u001B[0;34m\u001B[0m\u001B[0m\n",
      "\u001B[0;31mException\u001B[0m: \"dot\" not found in path."
     ]
    }
   ],
   "execution_count": 14
  },
  {
   "cell_type": "markdown",
   "metadata": {},
   "source": [
    "## convert class vectors to binary class matrices"
   ]
  },
  {
   "cell_type": "code",
   "metadata": {
    "ExecuteTime": {
     "end_time": "2025-02-27T10:47:09.285839Z",
     "start_time": "2025-02-27T10:47:09.273640Z"
    }
   },
   "source": [
    "y_training_vector = to_categorical(y_training, num_classes)\n",
    "y_test_vector = to_categorical(y_test, num_classes)"
   ],
   "outputs": [
    {
     "ename": "IndexError",
     "evalue": "index 3 is out of bounds for axis 1 with size 3",
     "output_type": "error",
     "traceback": [
      "\u001B[0;31m---------------------------------------------------------------------------\u001B[0m",
      "\u001B[0;31mIndexError\u001B[0m                                Traceback (most recent call last)",
      "\u001B[0;32m<ipython-input-15-57da25e48be3>\u001B[0m in \u001B[0;36m<module>\u001B[0;34m()\u001B[0m\n\u001B[0;32m----> 1\u001B[0;31m \u001B[0my_training_vector\u001B[0m \u001B[0;34m=\u001B[0m \u001B[0mto_categorical\u001B[0m\u001B[0;34m(\u001B[0m\u001B[0my_training\u001B[0m\u001B[0;34m,\u001B[0m \u001B[0mnum_classes\u001B[0m\u001B[0;34m)\u001B[0m\u001B[0;34m\u001B[0m\u001B[0m\n\u001B[0m\u001B[1;32m      2\u001B[0m \u001B[0my_test_vector\u001B[0m \u001B[0;34m=\u001B[0m \u001B[0mto_categorical\u001B[0m\u001B[0;34m(\u001B[0m\u001B[0my_test\u001B[0m\u001B[0;34m,\u001B[0m \u001B[0mnum_classes\u001B[0m\u001B[0;34m)\u001B[0m\u001B[0;34m\u001B[0m\u001B[0m\n",
      "\u001B[0;32m~/anaconda3/envs/BGP2Vec/lib/python3.6/site-packages/keras/utils/np_utils.py\u001B[0m in \u001B[0;36mto_categorical\u001B[0;34m(y, num_classes, dtype)\u001B[0m\n\u001B[1;32m     32\u001B[0m     \u001B[0mn\u001B[0m \u001B[0;34m=\u001B[0m \u001B[0my\u001B[0m\u001B[0;34m.\u001B[0m\u001B[0mshape\u001B[0m\u001B[0;34m[\u001B[0m\u001B[0;36m0\u001B[0m\u001B[0;34m]\u001B[0m\u001B[0;34m\u001B[0m\u001B[0m\n\u001B[1;32m     33\u001B[0m     \u001B[0mcategorical\u001B[0m \u001B[0;34m=\u001B[0m \u001B[0mnp\u001B[0m\u001B[0;34m.\u001B[0m\u001B[0mzeros\u001B[0m\u001B[0;34m(\u001B[0m\u001B[0;34m(\u001B[0m\u001B[0mn\u001B[0m\u001B[0;34m,\u001B[0m \u001B[0mnum_classes\u001B[0m\u001B[0;34m)\u001B[0m\u001B[0;34m,\u001B[0m \u001B[0mdtype\u001B[0m\u001B[0;34m=\u001B[0m\u001B[0mdtype\u001B[0m\u001B[0;34m)\u001B[0m\u001B[0;34m\u001B[0m\u001B[0m\n\u001B[0;32m---> 34\u001B[0;31m     \u001B[0mcategorical\u001B[0m\u001B[0;34m[\u001B[0m\u001B[0mnp\u001B[0m\u001B[0;34m.\u001B[0m\u001B[0marange\u001B[0m\u001B[0;34m(\u001B[0m\u001B[0mn\u001B[0m\u001B[0;34m)\u001B[0m\u001B[0;34m,\u001B[0m \u001B[0my\u001B[0m\u001B[0;34m]\u001B[0m \u001B[0;34m=\u001B[0m \u001B[0;36m1\u001B[0m\u001B[0;34m\u001B[0m\u001B[0m\n\u001B[0m\u001B[1;32m     35\u001B[0m     \u001B[0moutput_shape\u001B[0m \u001B[0;34m=\u001B[0m \u001B[0minput_shape\u001B[0m \u001B[0;34m+\u001B[0m \u001B[0;34m(\u001B[0m\u001B[0mnum_classes\u001B[0m\u001B[0;34m,\u001B[0m\u001B[0;34m)\u001B[0m\u001B[0;34m\u001B[0m\u001B[0m\n\u001B[1;32m     36\u001B[0m     \u001B[0mcategorical\u001B[0m \u001B[0;34m=\u001B[0m \u001B[0mnp\u001B[0m\u001B[0;34m.\u001B[0m\u001B[0mreshape\u001B[0m\u001B[0;34m(\u001B[0m\u001B[0mcategorical\u001B[0m\u001B[0;34m,\u001B[0m \u001B[0moutput_shape\u001B[0m\u001B[0;34m)\u001B[0m\u001B[0;34m\u001B[0m\u001B[0m\n",
      "\u001B[0;31mIndexError\u001B[0m: index 3 is out of bounds for axis 1 with size 3"
     ]
    }
   ],
   "execution_count": 15
  },
  {
   "cell_type": "markdown",
   "metadata": {},
   "source": [
    "## Use class_weight to deal with unbalanced dataset"
   ]
  },
  {
   "cell_type": "code",
   "execution_count": 17,
   "metadata": {
    "ExecuteTime": {
     "end_time": "2020-01-02T12:25:43.201016Z",
     "start_time": "2020-01-02T12:25:43.194561Z"
    }
   },
   "outputs": [],
   "source": [
    "from sklearn.utils import class_weight\n",
    "\n",
    "# class_weights = class_weight.compute_class_weight('balanced', list(range(num_classes)), y_training)\n",
    "# print(class_weights)\n",
    "class_weights = None"
   ]
  },
  {
   "cell_type": "markdown",
   "metadata": {},
   "source": [
    "## Fit model"
   ]
  },
  {
   "cell_type": "code",
   "execution_count": 18,
   "metadata": {
    "ExecuteTime": {
     "end_time": "2019-12-28T14:38:13.710028Z",
     "start_time": "2019-12-28T14:38:13.704026Z"
    }
   },
   "outputs": [],
   "source": [
    "checkpointer_loss = ModelCheckpoint(filepath= MODELS_PATH + MODEL_NAME + '_loss.hdf5', verbose=1, save_best_only=True, save_weights_only=True)\n",
    "checkpointer_acc = ModelCheckpoint(monitor='val_acc', filepath= MODELS_PATH + MODEL_NAME + '_acc.hdf5', verbose=1, save_best_only=True, save_weights_only=True)\n",
    "\n",
    "callbacks = [checkpointer_loss,checkpointer_acc] #tensorboard"
   ]
  },
  {
   "cell_type": "code",
   "execution_count": 18,
   "metadata": {
    "ExecuteTime": {
     "end_time": "2020-01-02T12:25:46.948296Z",
     "start_time": "2020-01-02T12:25:46.934589Z"
    }
   },
   "outputs": [],
   "source": [
    "import math\n",
    "\n",
    "epochs = 40 #################################   3  ##########\n",
    "\n",
    "batch_size = 64\n",
    "\n",
    "steps_per_epoch = math.ceil(len(x_training)/batch_size)\n",
    "\n",
    "val_batch_size = 1024\n",
    "\n",
    "validation_steps = math.ceil(len(x_test)/val_batch_size)\n",
    "\n",
    "def val_generator(features, labels, val_batch_size):\n",
    "    index = 0\n",
    "    while True:\n",
    "        index += val_batch_size\n",
    "        batch_features, batch_labels = features[index-val_batch_size:index], labels[index-val_batch_size:index]\n",
    "        if index >= len(features):\n",
    "            index = 0\n",
    "        yield batch_features, batch_labels\n",
    "        \n",
    "def generator(features, labels, batch_size):\n",
    "    index = 0\n",
    "    while True:\n",
    "        index += batch_size\n",
    "        if index >= len(features):\n",
    "            batch_features = np.append(features[index-batch_size:len(features)], features[0:index-len(features)], axis=0)\n",
    "            batch_labels = np.append(labels[index-batch_size:len(features)], labels[0:index-len(features)], axis=0)\n",
    "            index -= len(features)\n",
    "            yield batch_features, batch_labels\n",
    "        else:\n",
    "            yield features[index-batch_size:index], labels[index-batch_size:index]"
   ]
  },
  {
   "cell_type": "code",
   "execution_count": 20,
   "metadata": {
    "ExecuteTime": {
     "end_time": "2019-12-28T14:59:22.762572Z",
     "start_time": "2019-12-28T14:38:17.581642Z"
    }
   },
   "outputs": [
    {
     "name": "stdout",
     "output_type": "stream",
     "text": [
      "WARNING:tensorflow:From /home/tal/anaconda3/lib/python3.7/site-packages/tensorflow/python/ops/math_ops.py:3066: to_int32 (from tensorflow.python.ops.math_ops) is deprecated and will be removed in a future version.\n",
      "Instructions for updating:\n",
      "Use tf.cast instead.\n",
      "Epoch 1/40\n",
      "7260/7260 [==============================] - 37s 5ms/step - loss: 0.2786 - acc: 0.8976 - val_loss: 0.2332 - val_acc: 0.9177\n",
      "\n",
      "Epoch 00001: val_loss improved from inf to 0.23322, saving model to ../../Models/CAIDA_s1_ToR_Classification_with_NN_Based_Word2Vec_32_loss.hdf5\n",
      "\n",
      "Epoch 00001: val_acc improved from -inf to 0.91774, saving model to ../../Models/CAIDA_s1_ToR_Classification_with_NN_Based_Word2Vec_32_acc.hdf5\n",
      "Epoch 2/40\n",
      "7260/7260 [==============================] - 37s 5ms/step - loss: 0.2127 - acc: 0.9244 - val_loss: 0.2050 - val_acc: 0.9284\n",
      "\n",
      "Epoch 00002: val_loss improved from 0.23322 to 0.20505, saving model to ../../Models/CAIDA_s1_ToR_Classification_with_NN_Based_Word2Vec_32_loss.hdf5\n",
      "\n",
      "Epoch 00002: val_acc improved from 0.91774 to 0.92843, saving model to ../../Models/CAIDA_s1_ToR_Classification_with_NN_Based_Word2Vec_32_acc.hdf5\n",
      "Epoch 3/40\n",
      "7260/7260 [==============================] - 37s 5ms/step - loss: 0.1946 - acc: 0.9319 - val_loss: 0.1941 - val_acc: 0.9322\n",
      "\n",
      "Epoch 00003: val_loss improved from 0.20505 to 0.19412, saving model to ../../Models/CAIDA_s1_ToR_Classification_with_NN_Based_Word2Vec_32_loss.hdf5\n",
      "\n",
      "Epoch 00003: val_acc improved from 0.92843 to 0.93219, saving model to ../../Models/CAIDA_s1_ToR_Classification_with_NN_Based_Word2Vec_32_acc.hdf5\n",
      "Epoch 4/40\n",
      "7260/7260 [==============================] - 37s 5ms/step - loss: 0.1837 - acc: 0.9360 - val_loss: 0.1872 - val_acc: 0.9350\n",
      "\n",
      "Epoch 00004: val_loss improved from 0.19412 to 0.18723, saving model to ../../Models/CAIDA_s1_ToR_Classification_with_NN_Based_Word2Vec_32_loss.hdf5\n",
      "\n",
      "Epoch 00004: val_acc improved from 0.93219 to 0.93504, saving model to ../../Models/CAIDA_s1_ToR_Classification_with_NN_Based_Word2Vec_32_acc.hdf5\n",
      "Epoch 5/40\n",
      "7260/7260 [==============================] - 37s 5ms/step - loss: 0.1764 - acc: 0.9386 - val_loss: 0.1819 - val_acc: 0.9370\n",
      "\n",
      "Epoch 00005: val_loss improved from 0.18723 to 0.18190, saving model to ../../Models/CAIDA_s1_ToR_Classification_with_NN_Based_Word2Vec_32_loss.hdf5\n",
      "\n",
      "Epoch 00005: val_acc improved from 0.93504 to 0.93705, saving model to ../../Models/CAIDA_s1_ToR_Classification_with_NN_Based_Word2Vec_32_acc.hdf5\n",
      "Epoch 6/40\n",
      "7260/7260 [==============================] - 36s 5ms/step - loss: 0.1705 - acc: 0.9409 - val_loss: 0.1808 - val_acc: 0.9376\n",
      "\n",
      "Epoch 00006: val_loss improved from 0.18190 to 0.18083, saving model to ../../Models/CAIDA_s1_ToR_Classification_with_NN_Based_Word2Vec_32_loss.hdf5\n",
      "\n",
      "Epoch 00006: val_acc improved from 0.93705 to 0.93759, saving model to ../../Models/CAIDA_s1_ToR_Classification_with_NN_Based_Word2Vec_32_acc.hdf5\n",
      "Epoch 7/40\n",
      "7260/7260 [==============================] - 37s 5ms/step - loss: 0.1660 - acc: 0.9423 - val_loss: 0.1780 - val_acc: 0.9389\n",
      "\n",
      "Epoch 00007: val_loss improved from 0.18083 to 0.17795, saving model to ../../Models/CAIDA_s1_ToR_Classification_with_NN_Based_Word2Vec_32_loss.hdf5\n",
      "\n",
      "Epoch 00007: val_acc improved from 0.93759 to 0.93890, saving model to ../../Models/CAIDA_s1_ToR_Classification_with_NN_Based_Word2Vec_32_acc.hdf5\n",
      "Epoch 8/40\n",
      "7260/7260 [==============================] - 37s 5ms/step - loss: 0.1620 - acc: 0.9435 - val_loss: 0.1759 - val_acc: 0.9391\n",
      "\n",
      "Epoch 00008: val_loss improved from 0.17795 to 0.17589, saving model to ../../Models/CAIDA_s1_ToR_Classification_with_NN_Based_Word2Vec_32_loss.hdf5\n",
      "\n",
      "Epoch 00008: val_acc improved from 0.93890 to 0.93913, saving model to ../../Models/CAIDA_s1_ToR_Classification_with_NN_Based_Word2Vec_32_acc.hdf5\n",
      "Epoch 9/40\n",
      "7260/7260 [==============================] - 37s 5ms/step - loss: 0.1588 - acc: 0.9447 - val_loss: 0.1747 - val_acc: 0.9396\n",
      "\n",
      "Epoch 00009: val_loss improved from 0.17589 to 0.17466, saving model to ../../Models/CAIDA_s1_ToR_Classification_with_NN_Based_Word2Vec_32_loss.hdf5\n",
      "\n",
      "Epoch 00009: val_acc improved from 0.93913 to 0.93961, saving model to ../../Models/CAIDA_s1_ToR_Classification_with_NN_Based_Word2Vec_32_acc.hdf5\n",
      "Epoch 10/40\n",
      "7260/7260 [==============================] - 37s 5ms/step - loss: 0.1558 - acc: 0.9457 - val_loss: 0.1733 - val_acc: 0.9405\n",
      "\n",
      "Epoch 00010: val_loss improved from 0.17466 to 0.17328, saving model to ../../Models/CAIDA_s1_ToR_Classification_with_NN_Based_Word2Vec_32_loss.hdf5\n",
      "\n",
      "Epoch 00010: val_acc improved from 0.93961 to 0.94051, saving model to ../../Models/CAIDA_s1_ToR_Classification_with_NN_Based_Word2Vec_32_acc.hdf5\n",
      "Epoch 11/40\n",
      "7260/7260 [==============================] - 37s 5ms/step - loss: 0.1533 - acc: 0.9465 - val_loss: 0.1732 - val_acc: 0.9410\n",
      "\n",
      "Epoch 00011: val_loss improved from 0.17328 to 0.17321, saving model to ../../Models/CAIDA_s1_ToR_Classification_with_NN_Based_Word2Vec_32_loss.hdf5\n",
      "\n",
      "Epoch 00011: val_acc improved from 0.94051 to 0.94102, saving model to ../../Models/CAIDA_s1_ToR_Classification_with_NN_Based_Word2Vec_32_acc.hdf5\n",
      "Epoch 12/40\n",
      "7260/7260 [==============================] - 37s 5ms/step - loss: 0.1511 - acc: 0.9475 - val_loss: 0.1724 - val_acc: 0.9411\n",
      "\n",
      "Epoch 00012: val_loss improved from 0.17321 to 0.17244, saving model to ../../Models/CAIDA_s1_ToR_Classification_with_NN_Based_Word2Vec_32_loss.hdf5\n",
      "\n",
      "Epoch 00012: val_acc improved from 0.94102 to 0.94112, saving model to ../../Models/CAIDA_s1_ToR_Classification_with_NN_Based_Word2Vec_32_acc.hdf5\n",
      "Epoch 13/40\n",
      "7260/7260 [==============================] - 36s 5ms/step - loss: 0.1492 - acc: 0.9481 - val_loss: 0.1729 - val_acc: 0.9409\n",
      "\n",
      "Epoch 00013: val_loss did not improve from 0.17244\n",
      "\n",
      "Epoch 00013: val_acc did not improve from 0.94112\n",
      "Epoch 14/40\n",
      "7260/7260 [==============================] - 36s 5ms/step - loss: 0.1472 - acc: 0.9487 - val_loss: 0.1736 - val_acc: 0.9406\n",
      "\n",
      "Epoch 00014: val_loss did not improve from 0.17244\n",
      "\n",
      "Epoch 00014: val_acc did not improve from 0.94112\n",
      "Epoch 15/40\n",
      "7260/7260 [==============================] - 37s 5ms/step - loss: 0.1455 - acc: 0.9493 - val_loss: 0.1745 - val_acc: 0.9403\n",
      "\n",
      "Epoch 00015: val_loss did not improve from 0.17244\n",
      "\n",
      "Epoch 00015: val_acc did not improve from 0.94112\n",
      "Epoch 16/40\n",
      "7260/7260 [==============================] - 36s 5ms/step - loss: 0.1441 - acc: 0.9497 - val_loss: 0.1735 - val_acc: 0.9407\n",
      "\n",
      "Epoch 00016: val_loss did not improve from 0.17244\n",
      "\n",
      "Epoch 00016: val_acc did not improve from 0.94112\n",
      "Epoch 17/40\n",
      "7260/7260 [==============================] - 36s 5ms/step - loss: 0.1426 - acc: 0.9502 - val_loss: 0.1740 - val_acc: 0.9407\n",
      "\n",
      "Epoch 00017: val_loss did not improve from 0.17244\n",
      "\n",
      "Epoch 00017: val_acc did not improve from 0.94112\n",
      "Epoch 18/40\n",
      "7260/7260 [==============================] - 36s 5ms/step - loss: 0.1413 - acc: 0.9507 - val_loss: 0.1742 - val_acc: 0.9406\n",
      "\n",
      "Epoch 00018: val_loss did not improve from 0.17244\n",
      "\n",
      "Epoch 00018: val_acc did not improve from 0.94112\n",
      "Epoch 19/40\n",
      "7260/7260 [==============================] - 37s 5ms/step - loss: 0.1398 - acc: 0.9512 - val_loss: 0.1743 - val_acc: 0.9414\n",
      "\n",
      "Epoch 00019: val_loss did not improve from 0.17244\n",
      "\n",
      "Epoch 00019: val_acc improved from 0.94112 to 0.94140, saving model to ../../Models/CAIDA_s1_ToR_Classification_with_NN_Based_Word2Vec_32_acc.hdf5\n",
      "Epoch 20/40\n",
      "7260/7260 [==============================] - 36s 5ms/step - loss: 0.1386 - acc: 0.9515 - val_loss: 0.1740 - val_acc: 0.9416\n",
      "\n",
      "Epoch 00020: val_loss did not improve from 0.17244\n",
      "\n",
      "Epoch 00020: val_acc improved from 0.94140 to 0.94165, saving model to ../../Models/CAIDA_s1_ToR_Classification_with_NN_Based_Word2Vec_32_acc.hdf5\n",
      "Epoch 21/40\n",
      "7260/7260 [==============================] - 26s 4ms/step - loss: 0.1374 - acc: 0.9521 - val_loss: 0.1759 - val_acc: 0.9413\n",
      "\n",
      "Epoch 00021: val_loss did not improve from 0.17244\n",
      "\n",
      "Epoch 00021: val_acc did not improve from 0.94165\n",
      "Epoch 22/40\n",
      "7260/7260 [==============================] - 25s 3ms/step - loss: 0.1365 - acc: 0.9524 - val_loss: 0.1760 - val_acc: 0.9414\n",
      "\n",
      "Epoch 00022: val_loss did not improve from 0.17244\n",
      "\n",
      "Epoch 00022: val_acc did not improve from 0.94165\n",
      "Epoch 23/40\n",
      "7260/7260 [==============================] - 25s 3ms/step - loss: 0.1354 - acc: 0.9526 - val_loss: 0.1771 - val_acc: 0.9410\n",
      "\n",
      "Epoch 00023: val_loss did not improve from 0.17244\n",
      "\n",
      "Epoch 00023: val_acc did not improve from 0.94165\n",
      "Epoch 24/40\n"
     ]
    },
    {
     "name": "stdout",
     "output_type": "stream",
     "text": [
      "7260/7260 [==============================] - 26s 4ms/step - loss: 0.1343 - acc: 0.9532 - val_loss: 0.1773 - val_acc: 0.9415\n",
      "\n",
      "Epoch 00024: val_loss did not improve from 0.17244\n",
      "\n",
      "Epoch 00024: val_acc did not improve from 0.94165\n",
      "Epoch 25/40\n",
      "7260/7260 [==============================] - 25s 3ms/step - loss: 0.1335 - acc: 0.9533 - val_loss: 0.1776 - val_acc: 0.9417\n",
      "\n",
      "Epoch 00025: val_loss did not improve from 0.17244\n",
      "\n",
      "Epoch 00025: val_acc improved from 0.94165 to 0.94172, saving model to ../../Models/CAIDA_s1_ToR_Classification_with_NN_Based_Word2Vec_32_acc.hdf5\n",
      "Epoch 26/40\n",
      "7260/7260 [==============================] - 27s 4ms/step - loss: 0.1326 - acc: 0.9537 - val_loss: 0.1780 - val_acc: 0.9416\n",
      "\n",
      "Epoch 00026: val_loss did not improve from 0.17244\n",
      "\n",
      "Epoch 00026: val_acc did not improve from 0.94172\n",
      "Epoch 27/40\n",
      "7260/7260 [==============================] - 33s 5ms/step - loss: 0.1318 - acc: 0.9539 - val_loss: 0.1791 - val_acc: 0.9413\n",
      "\n",
      "Epoch 00027: val_loss did not improve from 0.17244\n",
      "\n",
      "Epoch 00027: val_acc did not improve from 0.94172\n",
      "Epoch 28/40\n",
      "7260/7260 [==============================] - 34s 5ms/step - loss: 0.1308 - acc: 0.9545 - val_loss: 0.1784 - val_acc: 0.9416\n",
      "\n",
      "Epoch 00028: val_loss did not improve from 0.17244\n",
      "\n",
      "Epoch 00028: val_acc did not improve from 0.94172\n",
      "Epoch 29/40\n",
      "7260/7260 [==============================] - 26s 4ms/step - loss: 0.1302 - acc: 0.9547 - val_loss: 0.1787 - val_acc: 0.9415\n",
      "\n",
      "Epoch 00029: val_loss did not improve from 0.17244\n",
      "\n",
      "Epoch 00029: val_acc did not improve from 0.94172\n",
      "Epoch 30/40\n",
      "7260/7260 [==============================] - 27s 4ms/step - loss: 0.1294 - acc: 0.9551 - val_loss: 0.1793 - val_acc: 0.9411\n",
      "\n",
      "Epoch 00030: val_loss did not improve from 0.17244\n",
      "\n",
      "Epoch 00030: val_acc did not improve from 0.94172\n",
      "Epoch 31/40\n",
      "7260/7260 [==============================] - 25s 3ms/step - loss: 0.1287 - acc: 0.9552 - val_loss: 0.1793 - val_acc: 0.9419\n",
      "\n",
      "Epoch 00031: val_loss did not improve from 0.17244\n",
      "\n",
      "Epoch 00031: val_acc improved from 0.94172 to 0.94186, saving model to ../../Models/CAIDA_s1_ToR_Classification_with_NN_Based_Word2Vec_32_acc.hdf5\n",
      "Epoch 32/40\n",
      "7260/7260 [==============================] - 25s 3ms/step - loss: 0.1280 - acc: 0.9554 - val_loss: 0.1804 - val_acc: 0.9412\n",
      "\n",
      "Epoch 00032: val_loss did not improve from 0.17244\n",
      "\n",
      "Epoch 00032: val_acc did not improve from 0.94186\n",
      "Epoch 33/40\n",
      "7260/7260 [==============================] - 25s 3ms/step - loss: 0.1274 - acc: 0.9555 - val_loss: 0.1804 - val_acc: 0.9414\n",
      "\n",
      "Epoch 00033: val_loss did not improve from 0.17244\n",
      "\n",
      "Epoch 00033: val_acc did not improve from 0.94186\n",
      "Epoch 34/40\n",
      "7260/7260 [==============================] - 25s 3ms/step - loss: 0.1266 - acc: 0.9560 - val_loss: 0.1812 - val_acc: 0.9411\n",
      "\n",
      "Epoch 00034: val_loss did not improve from 0.17244\n",
      "\n",
      "Epoch 00034: val_acc did not improve from 0.94186\n",
      "Epoch 35/40\n",
      "7260/7260 [==============================] - 25s 3ms/step - loss: 0.1261 - acc: 0.9562 - val_loss: 0.1811 - val_acc: 0.9411\n",
      "\n",
      "Epoch 00035: val_loss did not improve from 0.17244\n",
      "\n",
      "Epoch 00035: val_acc did not improve from 0.94186\n",
      "Epoch 36/40\n",
      "7260/7260 [==============================] - 25s 3ms/step - loss: 0.1255 - acc: 0.9563 - val_loss: 0.1813 - val_acc: 0.9413\n",
      "\n",
      "Epoch 00036: val_loss did not improve from 0.17244\n",
      "\n",
      "Epoch 00036: val_acc did not improve from 0.94186\n",
      "Epoch 37/40\n",
      "7260/7260 [==============================] - 25s 3ms/step - loss: 0.1249 - acc: 0.9563 - val_loss: 0.1823 - val_acc: 0.9412\n",
      "\n",
      "Epoch 00037: val_loss did not improve from 0.17244\n",
      "\n",
      "Epoch 00037: val_acc did not improve from 0.94186\n",
      "Epoch 38/40\n",
      "7260/7260 [==============================] - 25s 3ms/step - loss: 0.1245 - acc: 0.9567 - val_loss: 0.1822 - val_acc: 0.9410\n",
      "\n",
      "Epoch 00038: val_loss did not improve from 0.17244\n",
      "\n",
      "Epoch 00038: val_acc did not improve from 0.94186\n",
      "Epoch 39/40\n",
      "7260/7260 [==============================] - 25s 3ms/step - loss: 0.1238 - acc: 0.9568 - val_loss: 0.1833 - val_acc: 0.9415\n",
      "\n",
      "Epoch 00039: val_loss did not improve from 0.17244\n",
      "\n",
      "Epoch 00039: val_acc did not improve from 0.94186\n",
      "Epoch 40/40\n",
      "7260/7260 [==============================] - 25s 4ms/step - loss: 0.1232 - acc: 0.9573 - val_loss: 0.1846 - val_acc: 0.9408\n",
      "\n",
      "Epoch 00040: val_loss did not improve from 0.17244\n",
      "\n",
      "Epoch 00040: val_acc did not improve from 0.94186\n"
     ]
    }
   ],
   "source": [
    "history = model.fit_generator(val_generator(x_training, y_training_vector, batch_size), steps_per_epoch=steps_per_epoch,\n",
    "                        epochs=epochs, callbacks=callbacks, class_weight=class_weights,\n",
    "                        validation_data=val_generator(x_test, y_test_vector,val_batch_size),\n",
    "                        validation_steps=validation_steps)"
   ]
  },
  {
   "cell_type": "markdown",
   "metadata": {},
   "source": [
    "# Plot history accuracy"
   ]
  },
  {
   "cell_type": "code",
   "execution_count": 21,
   "metadata": {
    "ExecuteTime": {
     "end_time": "2019-12-28T15:03:07.020940Z",
     "start_time": "2019-12-28T15:03:06.430813Z"
    }
   },
   "outputs": [
    {
     "name": "stdout",
     "output_type": "stream",
     "text": [
      "dict_keys(['val_loss', 'val_acc', 'loss', 'acc'])\n"
     ]
    },
    {
     "data": {
      "image/png": "[encoded data removed]",
      "text/plain": [
       "<Figure size 432x288 with 1 Axes>"
      ]
     },
     "metadata": {
      "needs_background": "light"
     },
     "output_type": "display_data"
    }
   ],
   "source": [
    "import matplotlib.pyplot as plt\n",
    "import pickle\n",
    "%matplotlib inline\n",
    "\n",
    "def smooth(y, box_pts):\n",
    "    box = np.ones(box_pts)/box_pts\n",
    "    y_smooth = np.convolve(y, box, mode='same')\n",
    "    return y_smooth\n",
    "\n",
    "\n",
    "with open(RESULTS_PATH + MODEL_NAME +  \"_accuracy.pkl\", 'wb') as output:\n",
    "    pickle.dump(history.history, output, pickle.HIGHEST_PROTOCOL)\n",
    "\n",
    "# list all data in history\n",
    "print(history.history.keys())\n",
    "x = np.asarray(range(1,epochs + 1))\n",
    "# summarize history for accuracy\n",
    "plt.figure()\n",
    "plt.plot(x, smooth([y*100 for y in history.history['acc']],2))\n",
    "# plt.plot(x, [y*100 for y in history_history['val_acc']])\n",
    "plt.plot(x, smooth([y*100 for y in history.history['val_acc']],2))\n",
    "plt.ylabel('Accuracy (%)')\n",
    "plt.xlabel('Epochs')\n",
    "plt.ylim(70,100) ###########################\n",
    "plt.legend(['Training', 'Test'], loc='lower right')\n",
    "plt.grid()\n",
    "plt.savefig(RESULTS_PATH + MODEL_NAME +  \" accuracy history\", bbox_inches='tight')\n",
    "plt.show()"
   ]
  },
  {
   "cell_type": "markdown",
   "metadata": {
    "ExecuteTime": {
     "end_time": "2018-10-20T11:24:40.580036Z",
     "start_time": "2018-10-20T11:24:33.351927Z"
    }
   },
   "source": [
    "# Final evaluation of the model\n",
    "## Evaluate accuracy over the test set"
   ]
  },
  {
   "cell_type": "code",
   "execution_count": 19,
   "metadata": {
    "ExecuteTime": {
     "end_time": "2020-01-02T12:25:51.170733Z",
     "start_time": "2020-01-02T12:25:51.063227Z"
    }
   },
   "outputs": [],
   "source": [
    "model.load_weights(MODELS_PATH + MODEL_NAME + '_acc.hdf5')"
   ]
  },
  {
   "cell_type": "code",
   "execution_count": 19,
   "metadata": {
    "ExecuteTime": {
     "end_time": "2019-12-28T19:09:54.116273Z",
     "start_time": "2019-12-28T19:09:52.384951Z"
    }
   },
   "outputs": [
    {
     "name": "stdout",
     "output_type": "stream",
     "text": [
      "116153/116153 [==============================] - 2s 15us/step\n",
      "Accuracy: 94.19%\n"
     ]
    }
   ],
   "source": [
    "test_scores = model.evaluate(x_test, y_test_vector, batch_size=val_batch_size, verbose=1)\n",
    "    \n",
    "    \n",
    "print(\"Accuracy: %.2f%%\" % (test_scores[1]*100))"
   ]
  },
  {
   "cell_type": "code",
   "execution_count": 20,
   "metadata": {
    "ExecuteTime": {
     "end_time": "2020-01-02T12:25:55.291973Z",
     "start_time": "2020-01-02T12:25:54.533215Z"
    }
   },
   "outputs": [
    {
     "name": "stdout",
     "output_type": "stream",
     "text": [
      "116153/116153 [==============================] - 1s 6us/step\n"
     ]
    }
   ],
   "source": [
    "y_test_prediction = model.predict_classes(x_test, batch_size=val_batch_size, verbose=1)"
   ]
  },
  {
   "cell_type": "code",
   "execution_count": 21,
   "metadata": {
    "ExecuteTime": {
     "end_time": "2019-12-28T19:10:02.654305Z",
     "start_time": "2019-12-28T19:09:57.530148Z"
    }
   },
   "outputs": [
    {
     "name": "stdout",
     "output_type": "stream",
     "text": [
      "464609/464609 [==============================] - 5s 11us/step\n"
     ]
    }
   ],
   "source": [
    "y_training_prediction = model.predict_classes(x_training, batch_size=val_batch_size, verbose=1)"
   ]
  },
  {
   "cell_type": "markdown",
   "metadata": {},
   "source": [
    "## Test if by learning (asn1, asn2) -> p2c then (asn2, asn1) -> c2p and vice versa"
   ]
  },
  {
   "cell_type": "code",
   "execution_count": 45,
   "metadata": {
    "ExecuteTime": {
     "end_time": "2019-09-13T16:11:27.120529Z",
     "start_time": "2019-09-13T16:11:26.778878Z"
    }
   },
   "outputs": [
    {
     "name": "stdout",
     "output_type": "stream",
     "text": [
      "(65736, 2) (65736, 2) (65736, 3)\n"
     ]
    }
   ],
   "source": [
    "p2c = 2\n",
    "c2p = 1\n",
    "\n",
    "p2c_training = np.asarray([np.asarray(x_training[i]) for i in range(len(x_training)) if y_training[i] == p2c])\n",
    "p2c_training_oposite = np.asarray([np.asarray([pair[1], pair[0]]) for pair in p2c_training])\n",
    "\n",
    "p2c_training_label_vector = to_categorical([p2c]*len(p2c_training), num_classes)\n",
    "p2c_training_oposite_label_vector = to_categorical([c2p]*len(p2c_training_oposite), num_classes)\n",
    "\n",
    "print(p2c_training.shape, p2c_training_oposite.shape, p2c_training_oposite_label_vector.shape)"
   ]
  },
  {
   "cell_type": "code",
   "execution_count": 46,
   "metadata": {
    "ExecuteTime": {
     "end_time": "2019-09-13T16:11:36.207091Z",
     "start_time": "2019-09-13T16:11:32.349371Z"
    }
   },
   "outputs": [
    {
     "name": "stdout",
     "output_type": "stream",
     "text": [
      "65736/65736 [==============================] - 2s 30us/step\n",
      "Accuracy: 99.08%\n",
      "65736/65736 [==============================] - 2s 29us/step\n",
      "Accuracy: 95.81%\n"
     ]
    }
   ],
   "source": [
    "p2c_training_scores = model.evaluate(p2c_training, p2c_training_label_vector, verbose=1)\n",
    "print(\"Accuracy: %.2f%%\" % (p2c_training_scores[1]*100))\n",
    "\n",
    "p2c_training_oposite_scores = model.evaluate(p2c_training_oposite, p2c_training_oposite_label_vector, verbose=1)\n",
    "print(\"Accuracy: %.2f%%\" % (p2c_training_oposite_scores[1]*100))"
   ]
  },
  {
   "cell_type": "markdown",
   "metadata": {},
   "source": [
    "## Test if by learning (asn1, asn2) -> p2p then (asn2, asn1) -> p2p and vice versa"
   ]
  },
  {
   "cell_type": "code",
   "execution_count": 47,
   "metadata": {
    "ExecuteTime": {
     "end_time": "2019-09-13T16:11:40.613392Z",
     "start_time": "2019-09-13T16:11:40.512947Z"
    }
   },
   "outputs": [],
   "source": [
    "p2p = 0\n",
    "\n",
    "p2p_training = np.asarray([np.asarray(x_training[i]) for i in range(len(x_training)) if y_training[i] == p2p])\n",
    "p2p_training_oposite = np.asarray([np.asarray([pair[1], pair[0]]) for pair in p2p_training])\n",
    "\n",
    "p2p_training_label_vector = to_categorical([p2p]*len(p2p_training), num_classes)\n",
    "p2p_training_oposite_label_vector = to_categorical([p2p]*len(p2p_training_oposite), num_classes)"
   ]
  },
  {
   "cell_type": "code",
   "execution_count": 48,
   "metadata": {
    "ExecuteTime": {
     "end_time": "2019-09-13T16:11:42.561946Z",
     "start_time": "2019-09-13T16:11:41.737183Z"
    }
   },
   "outputs": [
    {
     "name": "stdout",
     "output_type": "stream",
     "text": [
      "14229/14229 [==============================] - 0s 29us/step\n",
      "Accuracy: 92.09%\n",
      "14229/14229 [==============================] - 0s 28us/step\n",
      "Accuracy: 87.49%\n"
     ]
    }
   ],
   "source": [
    "p2p_training_scores = model.evaluate(p2p_training, p2p_training_label_vector, verbose=1)\n",
    "print(\"Accuracy: %.2f%%\" % (p2p_training_scores[1]*100))\n",
    "\n",
    "p2p_training_oposite_scores = model.evaluate(p2p_training_oposite, p2p_training_oposite_label_vector, verbose=1)\n",
    "print(\"Accuracy: %.2f%%\" % (p2p_training_oposite_scores[1]*100))"
   ]
  },
  {
   "cell_type": "markdown",
   "metadata": {},
   "source": [
    "## Plot and save a confusion matrix for results over the test set"
   ]
  },
  {
   "cell_type": "markdown",
   "metadata": {},
   "source": [
    "### Define a function"
   ]
  },
  {
   "cell_type": "code",
   "execution_count": 49,
   "metadata": {
    "ExecuteTime": {
     "end_time": "2019-09-13T16:12:02.999821Z",
     "start_time": "2019-09-13T16:12:02.929676Z"
    }
   },
   "outputs": [],
   "source": [
    "%matplotlib inline\n",
    "\n",
    "import matplotlib\n",
    "import pylab as pl\n",
    "from sklearn.metrics import confusion_matrix\n",
    "import itertools\n",
    "import matplotlib.pyplot as plt\n",
    "import matplotlib.cm as cm\n",
    "\n",
    "def plot_confusion_matrix(cm, classes,\n",
    "                          normalize=False,\n",
    "                          title='Confusion matrix',\n",
    "                          fname='Confusion matrix',\n",
    "                          cmap=plt.cm.Blues):\n",
    "    \"\"\"\n",
    "    This function prints and plots the confusion matrix.\n",
    "    Normalization can be applied by setting `normalize=True`.\n",
    "    \"\"\"\n",
    "    if normalize:\n",
    "        cm = cm.astype('float') / cm.sum(axis=1)[:, np.newaxis]\n",
    "        print(\"Normalized confusion matrix\")\n",
    "        plt.imshow([[100*j for j in i] for i in cm], interpolation='nearest', cmap=cmap)\n",
    "        cbar = plt.colorbar()\n",
    "        cbar.ax.set_yticklabels(['0%','20%','40%','60%','80%','100%'])\n",
    "    else:\n",
    "        print('Confusion matrix, without normalization')\n",
    "        plt.imshow(cm, interpolation='nearest', cmap=cmap)\n",
    "        plt.colorbar()\n",
    "    \n",
    "    tick_marks = np.arange(len(classes))\n",
    "    plt.xticks(tick_marks, classes, rotation=45)\n",
    "    plt.yticks(tick_marks, classes)\n",
    "\n",
    "    fmt = '.1f' if normalize else 'd'\n",
    "    thresh = cm.max() / 2.\n",
    "    for i, j in itertools.product(range(cm.shape[0]), range(cm.shape[1])):\n",
    "        if normalize:\n",
    "            plt.text(j, i, format(cm[i, j]*100, fmt) + '%',\n",
    "                 horizontalalignment=\"center\",\n",
    "                 color=\"white\" if cm[i, j] > thresh else \"black\")\n",
    "        else:\n",
    "            plt.text(j, i, format(cm[i, j], fmt),\n",
    "                 horizontalalignment=\"center\",\n",
    "                 color=\"white\" if cm[i, j] > thresh else \"black\")    \n",
    "        \n",
    "    plt.tight_layout()\n",
    "    plt.ylabel('True Label')\n",
    "    plt.xlabel('Predicted Label')\n",
    "    plt.savefig(fname, bbox_inches='tight')"
   ]
  },
  {
   "cell_type": "code",
   "execution_count": 50,
   "metadata": {
    "ExecuteTime": {
     "end_time": "2019-09-13T16:12:39.756540Z",
     "start_time": "2019-09-13T16:12:38.908132Z"
    }
   },
   "outputs": [
    {
     "name": "stdout",
     "output_type": "stream",
     "text": [
      "Confusion matrix, without normalization\n",
      "Normalized confusion matrix\n"
     ]
    },
    {
     "data": {
      "image/png": "[encoded data removed]",
      "text/plain": [
       "<Figure size 432x288 with 2 Axes>"
      ]
     },
     "metadata": {
      "needs_background": "light"
     },
     "output_type": "display_data"
    },
    {
     "data": {
      "image/png": "[encoded data removed]",
      "text/plain": [
       "<Figure size 432x288 with 2 Axes>"
      ]
     },
     "metadata": {
      "needs_background": "light"
     },
     "output_type": "display_data"
    }
   ],
   "source": [
    "# Compute confusion matrix\n",
    "cnf_matrix = confusion_matrix(y_test, y_test_prediction)\n",
    "np.set_printoptions(precision=2)\n",
    "\n",
    "# Plot non-normalized confusion matrix\n",
    "plt.figure()\n",
    "plot_confusion_matrix(cnf_matrix, classes=class_names,\n",
    "                      title='Confusion matrix, without normalization',\n",
    "                      fname=RESULTS_PATH + MODEL_NAME + \"_\" + 'Confusion_matrix_without_normalization')\n",
    "\n",
    "# Plot normalized confusion matrix\n",
    "plt.figure()\n",
    "plot_confusion_matrix(cnf_matrix, classes=class_names, normalize=True,\n",
    "                      title='Normalized Confusion Msatrix',\n",
    "                      fname=RESULTS_PATH +MODEL_NAME + \"_\" + 'Normalized_confusion_matrix')\n",
    "\n",
    "plt.show()"
   ]
  },
  {
   "cell_type": "markdown",
   "metadata": {},
   "source": [
    "## Plot cm for training set"
   ]
  },
  {
   "cell_type": "code",
   "execution_count": 51,
   "metadata": {
    "ExecuteTime": {
     "end_time": "2019-09-13T16:13:13.383658Z",
     "start_time": "2019-09-13T16:13:12.591168Z"
    }
   },
   "outputs": [
    {
     "name": "stdout",
     "output_type": "stream",
     "text": [
      "Confusion matrix, without normalization\n",
      "Normalized confusion matrix\n"
     ]
    },
    {
     "data": {
      "image/png": "[encoded data removed]",
      "text/plain": [
       "<Figure size 432x288 with 2 Axes>"
      ]
     },
     "metadata": {
      "needs_background": "light"
     },
     "output_type": "display_data"
    },
    {
     "data": {
      "image/png": "[encoded data removed]",
      "text/plain": [
       "<Figure size 432x288 with 2 Axes>"
      ]
     },
     "metadata": {
      "needs_background": "light"
     },
     "output_type": "display_data"
    }
   ],
   "source": [
    "# Compute confusion matrix\n",
    "cnf_matrix = confusion_matrix(y_training, y_training_prediction)\n",
    "np.set_printoptions(precision=2)\n",
    "\n",
    "# Plot non-normalized confusion matrix\n",
    "plt.figure()\n",
    "plot_confusion_matrix(cnf_matrix, classes=class_names,\n",
    "                      title='Confusion matrix, without normalization',\n",
    "                      fname=RESULTS_PATH + MODEL_NAME + \"_\" + 'training_Confusion_matrix_without_normalization')\n",
    "\n",
    "# Plot normalized confusion matrix\n",
    "plt.figure()\n",
    "plot_confusion_matrix(cnf_matrix, classes=class_names, normalize=True,\n",
    "                      title='Normalized Confusion Matrix',\n",
    "                      fname=RESULTS_PATH +MODEL_NAME + \"_\" + 'training_Normalized_confusion_matrix')\n",
    "\n",
    "plt.show()"
   ]
  },
  {
   "cell_type": "markdown",
   "metadata": {},
   "source": [
    "# Export the model to a file"
   ]
  },
  {
   "cell_type": "code",
   "execution_count": 52,
   "metadata": {
    "ExecuteTime": {
     "end_time": "2019-09-13T16:13:35.680589Z",
     "start_time": "2019-09-13T16:13:35.655242Z"
    }
   },
   "outputs": [
    {
     "name": "stdout",
     "output_type": "stream",
     "text": [
      "Save Model\n"
     ]
    }
   ],
   "source": [
    "model_json = model.to_json()\n",
    "with open(MODELS_PATH + MODEL_NAME + '.json', \"w\") as json_file:\n",
    "    json_file.write(model_json)\n",
    "model.save_weights(MODELS_PATH + MODEL_NAME + '.h5')\n",
    "print(\"Save Model\")"
   ]
  },
  {
   "cell_type": "markdown",
   "metadata": {},
   "source": [
    "# Export results to a csv file (with original ASNs)\n",
    "## Define functions"
   ]
  },
  {
   "cell_type": "code",
   "execution_count": 26,
   "metadata": {
    "ExecuteTime": {
     "end_time": "2020-01-02T12:27:52.420379Z",
     "start_time": "2020-01-02T12:27:52.393487Z"
    }
   },
   "outputs": [],
   "source": [
    "def dataset_idx2asn(dataset, indexes=None):\n",
    "    dataset_asn = []\n",
    "    if indexes is not None:\n",
    "        dataset = np.take(dataset, indexes, axis=0)\n",
    "\n",
    "    for i, route in enumerate(dataset):\n",
    "        route_asn = []\n",
    "        for idx in route:\n",
    "            route_asn.append(idx2asn(idx))\n",
    "        dataset_asn.append(route_asn) \n",
    "    return dataset_asn\n",
    "\n",
    "def dataset_idx2asn_labels(dataset, labels, class_names=class_names, indexes=None):\n",
    "    dataset_asn = []\n",
    "    if indexes is not None:\n",
    "        dataset = np.take(dataset, indexes, axis=0)\n",
    "        labels = np.take(labels, indexes, axis=0)\n",
    "    \n",
    "    for i, route in enumerate(dataset):\n",
    "        route_asn = []\n",
    "        for idx in route:\n",
    "            route_asn.append(idx2asn(idx))\n",
    "        route_asn.append(class_names[labels[i]])\n",
    "        dataset_asn.append(route_asn) \n",
    "    return dataset_asn\n",
    "\n",
    "\n",
    "def dataset_idx2asn_labels_predictions(dataset, labels, predictions, class_names=class_names, indexes=None):\n",
    "    dataset_asn = []\n",
    "    if indexes is not None:\n",
    "        dataset = np.take(dataset, indexes, axis=0)\n",
    "        labels = np.take(labels, indexes, axis=0)\n",
    "        predictions = np.take(predictions, indexes, axis=0)\n",
    "    \n",
    "    for i, route in enumerate(dataset):\n",
    "        route_asn = []\n",
    "        for idx in route:\n",
    "            route_asn.append(idx2asn(idx))\n",
    "        route_asn.append(class_names[labels[i]])\n",
    "        route_asn.append(class_names[predictions[i]])\n",
    "        dataset_asn.append(route_asn) \n",
    "    return dataset_asn\n",
    "\n",
    "def dataset_idx2asn_labels_predictions_prob(dataset, labels, predictions, prob, class_names=class_names, indexes=None):\n",
    "    dataset_asn = []\n",
    "    if indexes is not None:\n",
    "        dataset = np.take(dataset, indexes, axis=0)\n",
    "        labels = np.take(labels, indexes, axis=0)\n",
    "        predictions = np.take(predictions, indexes, axis=0)\n",
    "        prob = np.take(prob, indexes, axis=0)\n",
    "    \n",
    "    for i, route in enumerate(dataset):\n",
    "        route_asn = []\n",
    "        for idx in route:\n",
    "            route_asn.append(idx2asn(idx))\n",
    "        route_asn.append(class_names[labels[i]])\n",
    "        route_asn.append(class_names[predictions[i]])\n",
    "        for p in prob[i]:\n",
    "            route_asn.append(round(p,4))\n",
    "        \n",
    "        dataset_asn.append(route_asn) \n",
    "    return dataset_asn\n",
    "\n",
    "import csv\n",
    "def export_csv(dataset, csv_name, header_type='with_gt'):\n",
    "    header_types = {\n",
    "        'reg': [\"AS1\", \"AS2\", \"Label\", \"Prediction\", \"P2P_Prob\", \"C2P_Prob\", \"P2C_Prob\"],\n",
    "        'with_gt': [\"AS1\", \"AS2\", \"Label\", 'GT', \"Prediction\", \"P2P_Prob\", \"C2P_Prob\", \"P2C_Prob\"]\n",
    "    }\n",
    "    \n",
    "    with open(csv_name + '.csv', 'w') as csv_file:\n",
    "        csv_writer = csv.writer(csv_file)\n",
    "        if header_type is not None:\n",
    "            csv_writer.writerow(header_types[header_type])\n",
    "        for row in dataset:\n",
    "            csv_writer.writerow(row)"
   ]
  },
  {
   "cell_type": "markdown",
   "metadata": {},
   "source": [
    "## Load a relevant dataset {all, misclassified, decided, undecided} and get model predictions"
   ]
  },
  {
   "cell_type": "code",
   "execution_count": 27,
   "metadata": {
    "ExecuteTime": {
     "end_time": "2020-01-02T12:28:15.287278Z",
     "start_time": "2020-01-02T12:28:14.512854Z"
    }
   },
   "outputs": [
    {
     "name": "stdout",
     "output_type": "stream",
     "text": [
      "116153/116153 [==============================] - 1s 7us/step\n"
     ]
    }
   ],
   "source": [
    "y_test_prob = model.predict_proba(x_test, batch_size=val_batch_size, verbose=1)\n",
    "# y_training_prob = model.predict_proba(x_training, batch_size=val_batch_size, verbose=1)"
   ]
  },
  {
   "cell_type": "code",
   "execution_count": 28,
   "metadata": {
    "ExecuteTime": {
     "end_time": "2020-01-02T12:28:25.482915Z",
     "start_time": "2020-01-02T12:28:25.093115Z"
    }
   },
   "outputs": [
    {
     "name": "stdout",
     "output_type": "stream",
     "text": [
      "6753 6753 6753 6753\n",
      "(6753, 3)\n"
     ]
    }
   ],
   "source": [
    "# # Create test misclassified dataset\n",
    "x_test_misclassified = np.asarray([route for i,route in enumerate(x_test) if y_test[i] != y_test_prediction[i]])\n",
    "y_test_misclassified_prediction = np.asarray([label for i,label in enumerate(y_test_prediction) if y_test[i] != y_test_prediction[i]])\n",
    "y_test_misclassified = np.asarray([label for i,label in enumerate(y_test) if y_test[i] != y_test_prediction[i]])\n",
    "y_test_misclassified_prob = np.asarray([prob for i,prob in enumerate(y_test_prob) if y_test[i] != y_test_prediction[i]])\n",
    "\n",
    "print(len(x_test_misclassified), len(y_test_misclassified_prediction), len(y_test_misclassified))\n",
    "print(y_test_misclassified_prob.shape)"
   ]
  },
  {
   "cell_type": "code",
   "execution_count": 29,
   "metadata": {
    "ExecuteTime": {
     "end_time": "2020-01-02T12:28:40.895288Z",
     "start_time": "2020-01-02T12:28:40.682670Z"
    }
   },
   "outputs": [],
   "source": [
    "dataset_test_misclassified = dataset_idx2asn_labels_predictions_prob(x_test_misclassified, y_test_misclassified,\n",
    "                                        y_test_misclassified_prediction, y_test_misclassified_prob)\n",
    "export_csv(dataset_test_misclassified, RESULTS_PATH + MODEL_NAME + \"_test_misclassified\")"
   ]
  },
  {
   "cell_type": "code",
   "execution_count": 30,
   "metadata": {
    "ExecuteTime": {
     "end_time": "2020-01-02T12:28:50.624154Z",
     "start_time": "2020-01-02T12:28:50.612628Z"
    }
   },
   "outputs": [
    {
     "name": "stdout",
     "output_type": "stream",
     "text": [
      "[0.96811545 0.56680095 0.8645542  0.9803387  0.7388056  0.9407794\n",
      " 0.9536408  0.9981211  0.9132586  0.5935503 ]\n"
     ]
    }
   ],
   "source": [
    "y_test_misclassified_prob_max = np.array([y_test_misclassified_prob[i][pred] for i, pred in enumerate(y_test_misclassified_prediction)])\n",
    "print(y_test_misclassified_prob_max[:10])"
   ]
  },
  {
   "cell_type": "code",
   "execution_count": 31,
   "metadata": {
    "ExecuteTime": {
     "end_time": "2020-01-02T12:29:00.460559Z",
     "start_time": "2020-01-02T12:29:00.443226Z"
    }
   },
   "outputs": [
    {
     "name": "stdout",
     "output_type": "stream",
     "text": [
      "[4085, 3980, 678, 1566, 6738, 5789, 2122, 72, 679, 1927, 1261, 1043, 5839, 30, 2664, 4697, 4711, 3824, 561, 1362, 3325, 5737, 5792, 2048, 2549, 5591, 323, 2706, 3973, 2506, 4700, 2961, 5761, 6244, 5950, 947, 4891, 4096, 1737, 3749, 6101, 4034, 700, 1148, 5064, 2071, 2585, 6191, 5199, 2559, 5444, 1973, 1135, 5710, 3573, 3462, 3127, 5061, 1801, 1145, 424, 5363, 2954, 5132, 2708, 2187, 2422, 3601, 6265, 1307, 4008, 456, 1946, 3773, 5095, 2243, 2483, 1680, 6060, 6435, 3247, 3258, 3892, 6653, 673, 404, 5873, 3531, 2785, 5949, 711, 1414, 3602, 2305, 1110, 6392, 6143, 2118, 2864, 3431]\n",
      "0.999998\n"
     ]
    }
   ],
   "source": [
    "indexes = np.array(list(range(len(x_test_misclassified))))\n",
    "indexes = [x for _, x in sorted(zip(y_test_misclassified_prob_max,indexes), reverse=True)]\n",
    "print(indexes[:100])\n",
    "print(y_test_misclassified_prob_max[indexes[0]])"
   ]
  },
  {
   "cell_type": "markdown",
   "metadata": {},
   "source": [
    "## Export Results"
   ]
  },
  {
   "cell_type": "code",
   "execution_count": null,
   "metadata": {
    "ExecuteTime": {
     "end_time": "2019-05-04T15:44:11.090069Z",
     "start_time": "2019-05-04T15:44:11.008017Z"
    }
   },
   "outputs": [],
   "source": [
    "dataset_misclassified = dataset_idx2asn_and_labels(x_test_misclassified, y_test_misclassified_prediction)\n",
    "export_csv(dataset_misclassified, RESULTS_PATH + MODEL_NAME + \"_misclassified\")"
   ]
  }
 ],
 "metadata": {
  "hide_input": false,
  "kernelspec": {
   "display_name": "Python 3",
   "language": "python",
   "name": "python3"
  },
  "language_info": {
   "codemirror_mode": {
    "name": "ipython",
    "version": 3
   },
   "file_extension": ".py",
   "mimetype": "text/x-python",
   "name": "python",
   "nbconvert_exporter": "python",
   "pygments_lexer": "ipython3",
   "version": "3.7.4"
  },
  "toc": {
   "base_numbering": 1,
   "nav_menu": {},
   "number_sections": true,
   "sideBar": true,
   "skip_h1_title": false,
   "title_cell": "Table of Contents",
   "title_sidebar": "Contents",
   "toc_cell": false,
   "toc_position": {},
   "toc_section_display": true,
   "toc_window_display": true
  },
  "varInspector": {
   "cols": {
    "lenName": 16,
    "lenType": 16,
    "lenVar": 40
   },
   "kernels_config": {
    "python": {
     "delete_cmd_postfix": "",
     "delete_cmd_prefix": "del ",
     "library": "var_list.py",
     "varRefreshCmd": "print(var_dic_list())"
    },
    "r": {
     "delete_cmd_postfix": ") ",
     "delete_cmd_prefix": "rm(",
     "library": "var_list.r",
     "varRefreshCmd": "cat(var_dic_list()) "
    }
   },
   "types_to_exclude": [
    "module",
    "function",
    "builtin_function_or_method",
    "instance",
    "_Feature"
   ],
   "window_display": false
  }
 },
 "nbformat": 4,
 "nbformat_minor": 2
}
