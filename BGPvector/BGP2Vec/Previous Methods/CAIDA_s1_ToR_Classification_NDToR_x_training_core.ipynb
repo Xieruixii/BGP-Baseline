{
 "cells": [
  {
   "cell_type": "markdown",
   "metadata": {},
   "source": [
    "# Import python packages"
   ]
  },
  {
   "cell_type": "code",
   "execution_count": 1,
   "metadata": {
    "ExecuteTime": {
     "end_time": "2019-12-28T17:28:20.117880Z",
     "start_time": "2019-12-28T17:28:18.438334Z"
    }
   },
   "outputs": [],
   "source": [
    "from collections import defaultdict\n",
    "import pickle\n",
    "import numpy as np\n",
    "from sklearn.model_selection import train_test_split\n",
    "from collections import Counter\n",
    "import random\n",
    "\n",
    "np.random.seed(7)"
   ]
  },
  {
   "cell_type": "markdown",
   "metadata": {},
   "source": [
    "# Define parameters and load bgp_routes and ToR datasets"
   ]
  },
  {
   "cell_type": "code",
   "execution_count": 2,
   "metadata": {
    "ExecuteTime": {
     "end_time": "2019-12-28T17:28:43.899211Z",
     "start_time": "2019-12-28T17:28:27.494409Z"
    }
   },
   "outputs": [
    {
     "name": "stdout",
     "output_type": "stream",
     "text": [
      "(3669655,) (3669655,)\n",
      "(580762, 2) (580762,)\n"
     ]
    }
   ],
   "source": [
    "ToR_MODEL_NAME = \"CAIDA_s1_ToR_Classification_NDToR_x_training_core\"\n",
    "\n",
    "TEST_SIZE = 0.2\n",
    "TOR_LABELS_DICT = {'P2P':0, 'C2P': 1,'P2C': 2}\n",
    "class_names = ['P2P', 'C2P', 'P2C']\n",
    "DATA_PATH = '../../Data/'\n",
    "MODELS_PATH = '../../Models/'\n",
    "RESULTS_PATH = '../../Results/'\n",
    "\n",
    "\n",
    "bgp_routes = np.load(DATA_PATH + \"bgp_routes_dataset.npy\")\n",
    "bgp_routes_labels = np.load(DATA_PATH + \"bgp_routes_labels.npy\")\n",
    "print(bgp_routes.shape, bgp_routes_labels.shape)\n",
    "\n",
    "DATA = \"caida_s1_tor\"\n",
    "tor_dataset = np.load(DATA_PATH + DATA + \"_dataset.npy\")\n",
    "tor_labels = np.load(DATA_PATH + DATA + \"_labels.npy\")\n",
    "\n",
    "print(tor_dataset.shape, tor_labels.shape)"
   ]
  },
  {
   "cell_type": "markdown",
   "metadata": {},
   "source": [
    "# Generate training and test sets\n",
    "## Shauffle dataset"
   ]
  },
  {
   "cell_type": "code",
   "execution_count": 3,
   "metadata": {
    "ExecuteTime": {
     "end_time": "2019-12-28T17:28:44.101826Z",
     "start_time": "2019-12-28T17:28:43.956771Z"
    }
   },
   "outputs": [],
   "source": [
    "from sklearn.utils import shuffle\n",
    "dataset, labels = shuffle(tor_dataset, tor_labels, random_state=7)"
   ]
  },
  {
   "cell_type": "markdown",
   "metadata": {},
   "source": [
    "## Generate a balanced dataset"
   ]
  },
  {
   "cell_type": "code",
   "execution_count": null,
   "metadata": {
    "ExecuteTime": {
     "end_time": "2018-11-17T13:08:27.960627Z",
     "start_time": "2018-11-17T13:08:27.890678Z"
    }
   },
   "outputs": [],
   "source": [
    "# def generate_balanced_dataset(dataset, labels, labels_set):\n",
    "#     sets_dict = dict()\n",
    "#     for label in labels_set:\n",
    "#         sets_dict[label] = np.asarray([np.asarray(dataset[i]) for i in range(len(dataset)) if labels[i] == label])\n",
    "    \n",
    "#     min_set_len = min([len(label_set) for label_set in sets_dict.values()])\n",
    "    \n",
    "#     for label, label_set in sets_dict.items():\n",
    "#         sets_dict[label] = label_set[np.random.choice(label_set.shape[0], min_set_len, replace=False)]\n",
    "    \n",
    "#     dataset = np.concatenate((sets_dict.values()))\n",
    "#     labels = []\n",
    "#     for label, label_set in sets_dict.items():\n",
    "#         labels += [label]*len(label_set)\n",
    "#         print label, len(label_set)\n",
    "#     labels = np.asarray(labels)\n",
    "#     return shuffle(dataset, labels, random_state=7)\n",
    "\n",
    "# dataset, labels = generate_balanced_dataset(dataset, labels, (0,1,3))\n",
    "# print dataset.shape, labels.shape"
   ]
  },
  {
   "cell_type": "markdown",
   "metadata": {},
   "source": [
    "## Train Test Split"
   ]
  },
  {
   "cell_type": "code",
   "execution_count": 4,
   "metadata": {
    "ExecuteTime": {
     "end_time": "2019-12-28T17:28:44.335462Z",
     "start_time": "2019-12-28T17:28:44.160729Z"
    }
   },
   "outputs": [],
   "source": [
    "x_training, x_test, y_training, y_test = train_test_split(dataset, labels, test_size=TEST_SIZE)\n",
    "\n",
    "del dataset, labels"
   ]
  },
  {
   "cell_type": "code",
   "execution_count": 5,
   "metadata": {
    "ExecuteTime": {
     "end_time": "2019-12-28T17:28:45.027426Z",
     "start_time": "2019-12-28T17:28:44.424443Z"
    }
   },
   "outputs": [
    {
     "name": "stdout",
     "output_type": "stream",
     "text": [
      "(464609, 2) (464609,)\n",
      "(116153, 2) (116153,)\n",
      "0.7999989668745545\n",
      "Counter({0: 275382, 1: 94716, 2: 94511}) Counter({0: 68570, 2: 23894, 1: 23689})\n"
     ]
    }
   ],
   "source": [
    "print(x_training.shape, y_training.shape)\n",
    "print(x_test.shape, y_test.shape)\n",
    "\n",
    "print(1.0*len(x_training)/(len(x_test)+len(x_training)))\n",
    "\n",
    "from collections import Counter\n",
    "training_c = Counter(y_training)\n",
    "test_c = Counter(y_test)\n",
    "print(training_c, test_c)"
   ]
  },
  {
   "cell_type": "code",
   "execution_count": 6,
   "metadata": {
    "ExecuteTime": {
     "end_time": "2019-12-28T17:28:45.114353Z",
     "start_time": "2019-12-28T17:28:45.097817Z"
    }
   },
   "outputs": [
    {
     "name": "stdout",
     "output_type": "stream",
     "text": [
      "1 20.386174180870366\n",
      "0 59.27177476114324\n",
      "2 20.342051057986392\n",
      "0 59.03420488493625\n",
      "2 20.571143233493753\n",
      "1 20.39465188157\n"
     ]
    }
   ],
   "source": [
    "for k,v in training_c.items():\n",
    "    print(k, 100.0*v/len(x_training))\n",
    "print\n",
    "for k,v in test_c.items():\n",
    "    print(k, 100.0*v/len(x_test))"
   ]
  },
  {
   "cell_type": "markdown",
   "metadata": {},
   "source": [
    "# Run ND-ToR Algo"
   ]
  },
  {
   "cell_type": "markdown",
   "metadata": {},
   "source": [
    "## Load k_shell"
   ]
  },
  {
   "cell_type": "code",
   "execution_count": 7,
   "metadata": {
    "ExecuteTime": {
     "end_time": "2019-12-28T17:28:45.241978Z",
     "start_time": "2019-12-28T17:28:45.176096Z"
    }
   },
   "outputs": [
    {
     "name": "stdout",
     "output_type": "stream",
     "text": [
      "62523\n"
     ]
    }
   ],
   "source": [
    "with open(MODELS_PATH + 's1_k_shell.pickle', 'rb') as handle:\n",
    "    k_shell = pickle.load(handle)\n",
    "print(len(k_shell))"
   ]
  },
  {
   "cell_type": "markdown",
   "metadata": {
    "heading_collapsed": true
   },
   "source": [
    "## Load CAIDA results and create CP-Core with NetworkX"
   ]
  },
  {
   "cell_type": "code",
   "execution_count": 10,
   "metadata": {
    "ExecuteTime": {
     "end_time": "2019-12-28T16:09:02.332513Z",
     "start_time": "2019-12-28T16:08:58.992148Z"
    },
    "hidden": true
   },
   "outputs": [
    {
     "name": "stdout",
     "output_type": "stream",
     "text": [
      "343952\n"
     ]
    }
   ],
   "source": [
    "caida_p2p = [tor for i, tor in enumerate(tor_dataset) if tor_labels[i] == 0]\n",
    "\n",
    "TIER1 = [\"174\", \"209\", \"286\", \"701\", \"1239\", \"1299\", \"2828\", \"2914\", \"3257\", \"3320\", \"3356\",\n",
    "         \"3491\", \"5511\", \"6453\", \"6461\", \"6762\", \"6830\", \"7018\", \"12956\"]\n",
    "# with open(caida_path, \"r\") as f:\n",
    "#     for line in f:\n",
    "#         as0, as1, label = [int(part) for part in line.split()[0].split('|')]\n",
    "#         if label == 0 and as0 in ASN_index_map and as1 in ASN_index_map:\n",
    "#             caida_p2p.append((ASN_index_map[as0], ASN_index_map[as1]))\n",
    "caida_p2p = [tor for i, tor in enumerate(tor_dataset) if tor_labels[i] == 0]\n",
    "print(len(caida_p2p))"
   ]
  },
  {
   "cell_type": "code",
   "execution_count": 11,
   "metadata": {
    "ExecuteTime": {
     "end_time": "2019-12-28T16:09:54.311120Z",
     "start_time": "2019-12-28T16:09:41.690522Z"
    },
    "hidden": true
   },
   "outputs": [
    {
     "name": "stdout",
     "output_type": "stream",
     "text": [
      "12254\n",
      "12254 12254\n"
     ]
    }
   ],
   "source": [
    "import networkx as nx\n",
    "\n",
    "verteces = set()\n",
    "for pair in caida_p2p:\n",
    "    verteces.add(pair[0])\n",
    "    verteces.add(pair[1])\n",
    "print(len(verteces))\n",
    "\n",
    "vertex2ind = dict()\n",
    "ind2vertex = dict()\n",
    "for i, vertex in enumerate(verteces):\n",
    "    vertex2ind[vertex] = i\n",
    "    ind2vertex[i] = vertex\n",
    "\n",
    "print(len(vertex2ind), len(ind2vertex))\n",
    "\n",
    "g = nx.DiGraph()\n",
    "g.add_edges_from([(vertex2ind[pair[0]], vertex2ind[pair[1]]) for pair in caida_p2p])\n",
    "g.add_edges_from([(vertex2ind[pair[1]], vertex2ind[pair[0]]) for pair in caida_p2p])\n",
    "\n",
    "SCCs = [c for c in sorted(nx.strongly_connected_components(g),key=len, reverse=True)]"
   ]
  },
  {
   "cell_type": "code",
   "execution_count": 12,
   "metadata": {
    "ExecuteTime": {
     "end_time": "2019-12-28T16:10:33.810535Z",
     "start_time": "2019-12-28T16:10:33.771861Z"
    },
    "hidden": true
   },
   "outputs": [
    {
     "name": "stdout",
     "output_type": "stream",
     "text": [
      "114\n",
      "0\n",
      "0\n",
      "0\n",
      "0\n",
      "0\n",
      "0\n",
      "0\n",
      "0\n",
      "0\n",
      "0\n",
      "0\n",
      "0\n",
      "0\n",
      "0\n",
      "0\n",
      "0\n",
      "0\n",
      "0\n",
      "0\n",
      "11889\n",
      "11889\n"
     ]
    }
   ],
   "source": [
    "print(len(SCCs))\n",
    "for i, scc in enumerate(SCCs):\n",
    "    for as_tier1 in TIER1:\n",
    "        if vertex2ind[as_tier1] not in scc:\n",
    "            break\n",
    "        print(i)\n",
    "print(len(SCCs[0]))\n",
    "scc = SCCs[0]\n",
    "scc = set([ind2vertex[ind] for ind in scc])\n",
    "print(len(scc))"
   ]
  },
  {
   "cell_type": "code",
   "execution_count": 15,
   "metadata": {
    "ExecuteTime": {
     "end_time": "2019-12-28T16:12:51.275044Z",
     "start_time": "2019-12-28T16:12:46.031280Z"
    },
    "hidden": true
   },
   "outputs": [
    {
     "name": "stdout",
     "output_type": "stream",
     "text": [
      "343446\n",
      "numbr of edges 171723.0\n"
     ]
    }
   ],
   "source": [
    "cp_core = set()\n",
    "for pair in caida_p2p:\n",
    "    if pair[0] in scc and pair[1] in scc:\n",
    "        cp_core.add(tuple(pair))\n",
    "        cp_core.add(tuple((pair[1], pair[0])))\n",
    "print(len(cp_core))\n",
    "print(\"numbr of edges \" + str(len(cp_core)/2))"
   ]
  },
  {
   "cell_type": "markdown",
   "metadata": {
    "heading_collapsed": true
   },
   "source": [
    "## Load CAIDA results and create CP-Core"
   ]
  },
  {
   "cell_type": "code",
   "execution_count": 8,
   "metadata": {
    "ExecuteTime": {
     "end_time": "2019-01-05T10:25:50.178920Z",
     "start_time": "2019-01-05T10:25:49.237305Z"
    },
    "hidden": true
   },
   "outputs": [
    {
     "name": "stdout",
     "output_type": "stream",
     "text": [
      "192088\n"
     ]
    }
   ],
   "source": [
    "caida_path = 'CAIDA_20181001.as-rel_cleaned.txt'\n",
    "caida_p2p = list()\n",
    "\n",
    "TIER1 = [7018, 209, 3356, 3549, 4323, 3320, 3257, 286, 6830, 2914, 5511, 3491, 1239, 6453, 6762, 12956, 701, 702, 703, 2828, 6461]\n",
    "TIER1 = [ASN_index_map[asn] for asn in TIER1]\n",
    "\n",
    "with open(caida_path, \"r\") as f:\n",
    "    for line in f:\n",
    "        as0, as1, label = [int(part) for part in line.split()[0].split('|')]\n",
    "        if label == 0 and as0 in ASN_index_map and as1 in ASN_index_map:\n",
    "            caida_p2p.append((ASN_index_map[as0], ASN_index_map[as1]))\n",
    "print(len(caida_p2p))"
   ]
  },
  {
   "cell_type": "code",
   "execution_count": 13,
   "metadata": {
    "ExecuteTime": {
     "end_time": "2019-01-05T10:32:15.437000Z",
     "start_time": "2019-01-05T10:32:15.379704Z"
    },
    "code_folding": [
     3
    ],
    "hidden": true
   },
   "outputs": [],
   "source": [
    "#This class represents a directed graph using adjacency list representation \n",
    "class Graph: \n",
    "   \n",
    "    def __init__(self,vertices): \n",
    "        self.V = vertices #No. of vertices \n",
    "        self.graph = defaultdict(list) # default dictionary to store graph\n",
    "        self.scc_list = []\n",
    "   \n",
    "    # function to add an edge to graph \n",
    "    def addEdge(self,u,v): \n",
    "        self.graph[u].append(v) \n",
    "   \n",
    "    # A function used by DFS \n",
    "    def DFSUtil(self,v,visited): \n",
    "        # Mark the current node as visited and print it \n",
    "        visited[v]= True\n",
    "#         print v,\n",
    "        self.scc_list[-1].append(v)\n",
    "        #Recur for all the vertices adjacent to this vertex \n",
    "        for i in self.graph[v]: \n",
    "            if visited[i]==False: \n",
    "                self.DFSUtil(i,visited) \n",
    "  \n",
    "  \n",
    "    def fillOrder(self,v,visited, stack): \n",
    "        # Mark the current node as visited  \n",
    "        visited[v]= True\n",
    "        #Recur for all the vertices adjacent to this vertex \n",
    "        for i in self.graph[v]: \n",
    "            if visited[i]==False: \n",
    "                self.fillOrder(i, visited, stack) \n",
    "        stack = stack.append(v) \n",
    "      \n",
    "  \n",
    "    # Function that returns reverse (or transpose) of this graph \n",
    "    def getTranspose(self): \n",
    "        g = Graph(self.V) \n",
    "  \n",
    "        # Recur for all the vertices adjacent to this vertex \n",
    "        for i in self.graph: \n",
    "            for j in self.graph[i]: \n",
    "                g.addEdge(j,i) \n",
    "        return g \n",
    "  \n",
    "   \n",
    "   \n",
    "    # The main function that finds and prints all strongly \n",
    "    # connected components \n",
    "    def printSCCs(self): \n",
    "          \n",
    "        stack = [] \n",
    "        # Mark all the vertices as not visited (For first DFS) \n",
    "        visited =[False]*(self.V) \n",
    "        # Fill vertices in stack according to their finishing \n",
    "        # times \n",
    "        for i in range(self.V): \n",
    "            if visited[i]==False: \n",
    "                self.fillOrder(i, visited, stack) \n",
    "  \n",
    "        # Create a reversed graph \n",
    "        gr = self.getTranspose() \n",
    "          \n",
    "        # Mark all the vertices as not visited (For second DFS) \n",
    "        visited =[False]*(self.V) \n",
    "  \n",
    "        # Now process all vertices in order defined by Stack \n",
    "        while stack: \n",
    "            i = stack.pop() \n",
    "            if visited[i]==False:\n",
    "                gr.scc_list.append([])\n",
    "                gr.DFSUtil(i, visited) \n",
    "#                 print\"\"\n",
    "        \n",
    "        scc = gr.scc_list\n",
    "        return scc\n",
    "\n"
   ]
  },
  {
   "cell_type": "code",
   "execution_count": 30,
   "metadata": {
    "ExecuteTime": {
     "end_time": "2019-01-05T10:45:11.810632Z",
     "start_time": "2019-01-05T10:45:11.347684Z"
    },
    "hidden": true
   },
   "outputs": [
    {
     "name": "stdout",
     "output_type": "stream",
     "text": [
      "13083\n",
      "(13083, 13083)\n"
     ]
    }
   ],
   "source": [
    "verteces = set()\n",
    "for pair in caida_p2p:\n",
    "    verteces.add(pair[0])\n",
    "    verteces.add(pair[1])\n",
    "print(len(verteces))\n",
    "\n",
    "vertex2ind = dict()\n",
    "ind2vertex = dict()\n",
    "for i, vertex in enumerate(verteces):\n",
    "    vertex2ind[vertex] = i\n",
    "    ind2vertex[i] = vertex\n",
    "\n",
    "print(len(vertex2ind), len(ind2vertex))\n",
    "\n",
    "g = Graph(len(verteces))\n",
    "for pair in caida_p2p:\n",
    "    g.addEdge(vertex2ind[pair[0]], vertex2ind[pair[1]])\n",
    "    g.addEdge(vertex2ind[pair[1]], vertex2ind[pair[0]])\n",
    "\n",
    "SCCs = g.printSCCs()"
   ]
  },
  {
   "cell_type": "code",
   "execution_count": 32,
   "metadata": {
    "ExecuteTime": {
     "end_time": "2019-01-05T10:48:02.516359Z",
     "start_time": "2019-01-05T10:48:02.492207Z"
    },
    "hidden": true
   },
   "outputs": [
    {
     "name": "stdout",
     "output_type": "stream",
     "text": [
      "135\n",
      "134\n",
      "134\n",
      "134\n",
      "134\n",
      "134\n",
      "134\n",
      "134\n",
      "134\n",
      "134\n",
      "134\n",
      "134\n",
      "134\n",
      "134\n",
      "134\n",
      "134\n",
      "134\n",
      "134\n",
      "134\n",
      "134\n",
      "134\n",
      "134\n",
      "12618\n",
      "12618\n"
     ]
    }
   ],
   "source": [
    "print(len(SCCs))\n",
    "for i, scc in enumerate(SCCs):\n",
    "    for as_tier1 in TIER1:\n",
    "        if vertex2ind[as_tier1] not in scc:\n",
    "            break\n",
    "        print(i)\n",
    "print(len(SCCs[134]))\n",
    "scc = SCCs[134]\n",
    "scc = set([ind2vertex[ind] for ind in scc])\n",
    "print(len(scc))"
   ]
  },
  {
   "cell_type": "code",
   "execution_count": 34,
   "metadata": {
    "ExecuteTime": {
     "end_time": "2019-01-05T10:48:39.959504Z",
     "start_time": "2019-01-05T10:48:39.759351Z"
    },
    "hidden": true
   },
   "outputs": [
    {
     "name": "stdout",
     "output_type": "stream",
     "text": [
      "383512\n",
      "numbr of edges 191756\n"
     ]
    }
   ],
   "source": [
    "cp_core = set()\n",
    "for pair in caida_p2p:\n",
    "    if pair[0] in scc and pair[1] in scc:\n",
    "        cp_core.add(pair)\n",
    "        cp_core.add((pair[1], pair[0]))\n",
    "print(len(cp_core))\n",
    "print(\"numbr of edges \" + str(len(cp_core)/2))"
   ]
  },
  {
   "cell_type": "markdown",
   "metadata": {
    "heading_collapsed": true
   },
   "source": [
    "## Create k_max-core"
   ]
  },
  {
   "cell_type": "code",
   "execution_count": 10,
   "metadata": {
    "ExecuteTime": {
     "end_time": "2019-12-28T17:22:27.788461Z",
     "start_time": "2019-12-28T17:22:27.760421Z"
    },
    "hidden": true
   },
   "outputs": [
    {
     "name": "stdout",
     "output_type": "stream",
     "text": [
      "21\n"
     ]
    }
   ],
   "source": [
    "k_max = max(k_shell.values())\n",
    "k_max_core = [vertex for vertex, k in k_shell.items() if k == k_max]\n",
    "print(len(k_max_core))"
   ]
  },
  {
   "cell_type": "code",
   "execution_count": 11,
   "metadata": {
    "ExecuteTime": {
     "end_time": "2019-12-28T17:22:45.563401Z",
     "start_time": "2019-12-28T17:22:33.935024Z"
    },
    "hidden": true
   },
   "outputs": [
    {
     "name": "stdout",
     "output_type": "stream",
     "text": [
      "420\n"
     ]
    }
   ],
   "source": [
    "k_max_edges = set()\n",
    "for i in range(len(k_max_core)):\n",
    "    for j in range(i):\n",
    "        if (k_max_core[i], k_max_core[j]) in x_training or (k_max_core[i], k_max_core[j]) in x_test:\n",
    "            k_max_edges.add((k_max_core[i], k_max_core[j]))\n",
    "        if (k_max_core[j], k_max_core[i]) in x_training or (k_max_core[j], k_max_core[i]) in x_test:\n",
    "            k_max_edges.add((k_max_core[j], k_max_core[i]))\n",
    "            \n",
    "print(len(k_max_edges))"
   ]
  },
  {
   "cell_type": "markdown",
   "metadata": {},
   "source": [
    "## Create x_training_core"
   ]
  },
  {
   "cell_type": "code",
   "execution_count": 8,
   "metadata": {
    "ExecuteTime": {
     "end_time": "2019-12-28T17:28:55.209836Z",
     "start_time": "2019-12-28T17:28:51.597945Z"
    }
   },
   "outputs": [
    {
     "name": "stdout",
     "output_type": "stream",
     "text": [
      "464609 57888\n"
     ]
    }
   ],
   "source": [
    "x_training_edges = set()\n",
    "x_training_vertecs = set()\n",
    "for pair in x_training:\n",
    "    x_training_edges.add((pair[0], pair[1]))\n",
    "    x_training_vertecs.add(pair[0])\n",
    "    x_training_vertecs.add(pair[1])\n",
    "print(len(x_training_edges), len(x_training_vertecs))"
   ]
  },
  {
   "cell_type": "markdown",
   "metadata": {},
   "source": [
    "## Run NDTOR_CP"
   ]
  },
  {
   "cell_type": "code",
   "execution_count": 9,
   "metadata": {
    "ExecuteTime": {
     "end_time": "2019-12-28T17:29:03.715060Z",
     "start_time": "2019-12-28T17:29:03.510984Z"
    },
    "code_folding": [
     23,
     29,
     105,
     127,
     161
    ]
   },
   "outputs": [],
   "source": [
    "class NDTOR_CP:\n",
    "    def __init__(self, core_verteces, core_edges, routing_tables, core_labels=None, is_core=True, threshold=0.85, k_shell=None):\n",
    "        if is_core:\n",
    "            self.tor_dict = self.__intialize_tor_dict_with_core(core_edges)\n",
    "            print('Finished __intialize_tor_dict_with_core')\n",
    "            self.pahse2_routes = self.__split_path_through_core(routing_tables, core_verteces)\n",
    "        else:\n",
    "            self.tor_dict = self.__intialize_tor_dict_with_training_set(core_edges, core_labels)\n",
    "            print('Finished __intialize_tor_dict_with_training_set')\n",
    "            self.pahse2_routes = routing_tables\n",
    "        print('Finished __split_path_through_core with ' + str(len(self.pahse2_routes)) + ' remaining for phase 2')\n",
    "        self.unclassified_pairs = self.__pahse2(threshold)\n",
    "        print('Finished __pahse2 with ' + str(len(self.unclassified_pairs)) + \" unclassified pairs\")\n",
    "        self.__pahse3()\n",
    "        print('Finished __pahse3 with ' + str(len(self.unclassified_pairs)) + \" unclassified pairs\")\n",
    "        \n",
    "        if len(self.unclassified_pairs) > 0:\n",
    "            if k_shell is None:\n",
    "                self.k_shell = self.__compute_k_shells(routing_tables)\n",
    "            else:\n",
    "                self.k_shell = k_shell\n",
    "            print(\"Finished __compute_k_shells\")\n",
    "            self.__compare_k_shells()\n",
    "            print(\"Finished __compare_k_shells\")\n",
    "    \n",
    "    \n",
    "    def __intialize_tor_dict_with_training_set(self, core_edges, core_labels):\n",
    "        tor_dict = dict()\n",
    "        for i, edge in enumerate(core_edges):\n",
    "            tor_dict[edge] = core_labels[i]\n",
    "        return tor_dict\n",
    "    \n",
    "\n",
    "    def __intialize_tor_dict_with_core(self, core_edges):\n",
    "        tor_dict = dict()\n",
    "        for edge in core_edges:\n",
    "            tor_dict[edge] = 0 # 0 - p2p\n",
    "        return tor_dict\n",
    "        \n",
    "    def __split_path_through_core(self, routes, core_verteces):\n",
    "        pahse2_routes = list()\n",
    "        for path in routes:\n",
    "            core_inds = list()\n",
    "            for j, vertex in enumerate(path):\n",
    "                if vertex in core_verteces:\n",
    "                    core_inds.append(j)\n",
    "            if len(core_inds) == 0:\n",
    "                pahse2_routes.append(path)\n",
    "            else:\n",
    "                for i in range(core_inds[0]):\n",
    "                    if (path[i], path[i+1]) not in self.tor_dict:\n",
    "                        self.tor_dict[(path[i], path[i+1])] = 1 # 1 - c2p\n",
    "                        self.tor_dict[(path[i+1], path[i])] = 3\n",
    "                for i in range(core_inds[0], core_inds[-1]):\n",
    "                    if (path[i], path[i+1]) not in self.tor_dict:\n",
    "                        self.tor_dict[(path[i], path[i+1])] = 0 # 0 - p2p\n",
    "                        self.tor_dict[(path[i+1], path[i])] = 0 \n",
    "                for i in range(core_inds[-1], len(path)-1):\n",
    "                    if (path[i], path[i+1]) not in self.tor_dict:\n",
    "                        self.tor_dict[(path[i], path[i+1])] = 3 # 0 - p2c\n",
    "                        self.tor_dict[(path[i+1], path[i])] = 1\n",
    "        return pahse2_routes\n",
    "    \n",
    "    \n",
    "    def __pahse2(self, threshold):\n",
    "        votings_p2c = defaultdict(lambda:0)\n",
    "        votings_c2p = defaultdict(lambda:0)\n",
    "        voting_pairs = set()\n",
    "        \n",
    "        for path in self.pahse2_routes:\n",
    "            pairs = list(zip(path[:-1], path[1:]))\n",
    "            pairs_tor = []\n",
    "            for i, pair in enumerate(pairs):\n",
    "                if pair in self.tor_dict:\n",
    "                    pairs_tor.append(self.tor_dict[pair])\n",
    "                else:\n",
    "                    pairs_tor.append(-1)\n",
    "                    voting_pairs.add(pair)\n",
    "            for i in range(len(pairs)):\n",
    "                if pairs_tor[i] == -1:\n",
    "                    if i > 1 and pairs_tor[i-1] == 3: #p2c\n",
    "                        pairs_tor[i] = 3\n",
    "                        votings_p2c[pairs[i]] += 1\n",
    "                    if i + 1 < len(pairs) and pairs_tor[i+1] == 1: #c2p\n",
    "                        pairs_tor[i] = 1\n",
    "                        votings_c2p[pairs[i]] += 1\n",
    "        \n",
    "        unclassified_pairs = set()\n",
    "        for pair in voting_pairs:\n",
    "            if (votings_p2c[pair] + votings_c2p[pair]) > 0:\n",
    "                rank = (votings_p2c[pair]*1.0)/(votings_p2c[pair] + votings_c2p[pair])\n",
    "                if rank >= threshold:\n",
    "                    self.tor_dict[pair] = 3\n",
    "                elif rank <= (1 - threshold):\n",
    "                    self.tor_dict[pair] = 1\n",
    "                else:\n",
    "                    unclassified_pairs.add(pair)\n",
    "            else:\n",
    "                unclassified_pairs.add(pair)\n",
    "        return unclassified_pairs\n",
    "    \n",
    "    def __pahse3(self):\n",
    "        for path in self.pahse2_routes:\n",
    "            pairs = list(zip(path[:-1], path[1:]))\n",
    "            if len(pairs) > 2: \n",
    "                for i in range(1,len(pairs)-1):\n",
    "                    if pairs[i] not in self.tor_dict and pairs[i-1] in self.tor_dict and pairs[i+1] in self.tor_dict:\n",
    "                        if self.tor_dict[pairs[i-1]] == 1 and self.tor_dict[pairs[i+1]] == 3:\n",
    "                            self.tor_dict[pairs[i]] = 0\n",
    "                            self.unclassified_pairs.remove(pairs[i])\n",
    "                        elif self.tor_dict[pairs[i-1]] == 3 and self.tor_dict[pairs[i+1]] == 1:\n",
    "                            self.tor_dict[pairs[i]] = 0\n",
    "                            self.unclassified_pairs.remove(pairs[i])\n",
    "    \n",
    "    \n",
    "    def __get_k_shell(self, k, edges, k_shell):\n",
    "        neighbors = defaultdict(set)\n",
    "        k_shell_verteces = set()\n",
    "        for edge in edges:\n",
    "            neighbors[edge[0]].add(edge)\n",
    "            neighbors[edge[1]].add(edge)\n",
    "        for asn, asn_edges in neighbors.items():\n",
    "            if len(asn_edges) <= k:\n",
    "                k_shell[asn] = k\n",
    "                k_shell_verteces.add(asn)\n",
    "                \n",
    "        return neighbors, k_shell_verteces\n",
    "    \n",
    "    \n",
    "    def __get_graph_for_routes(self, P):\n",
    "        edges = []\n",
    "        for route in P:\n",
    "            for edge in zip(route[:-1], route[1:]):\n",
    "                edges.append(edge)\n",
    "        return set(edges)\n",
    "                \n",
    "    \n",
    "    def __remove_k_shell_edges(self, edges, k_shell_verteces, neighbors):\n",
    "        for vertex in k_shell_verteces:\n",
    "            edges = edges - neighbors[vertex]\n",
    "        return edges\n",
    "                \n",
    "                \n",
    "    def __compute_k_shells(self, routes):\n",
    "        k_shell = dict()\n",
    "        k = 1\n",
    "        edges = self.__get_graph_for_routes(routes)\n",
    "        \n",
    "        while len(edges) > 0:\n",
    "            print(\"K: \" + str(k) + \" Start Iteration on \" + str(len(edges)) + \" edges\")\n",
    "            neighbors, k_shell_verteces = self.__get_k_shell(k, edges, k_shell)\n",
    "            k += 1\n",
    "            edges = self.__remove_k_shell_edges(edges, k_shell_verteces, neighbors)\n",
    "            print(\"Number of remaining edges: \" + str(len(edges)))\n",
    "            print()\n",
    "            \n",
    "        return k_shell\n",
    "        \n",
    "        \n",
    "    def __compare_k_shells(self):\n",
    "        for pair in self.unclassified_pairs:\n",
    "            try:\n",
    "                as0_k = self.k_shell[pair[0]]\n",
    "            except:\n",
    "                as0_k = 0\n",
    "            try:\n",
    "                as1_k = self.k_shell[pair[1]]\n",
    "            except:\n",
    "                as0_k = 0\n",
    "            if as0_k == as1_k:\n",
    "                self.tor_dict[pair] = 0 # p2p\n",
    "            elif as0_k > as1_k:\n",
    "                self.tor_dict[pair] = 3 # p2c\n",
    "            else:\n",
    "                self.tor_dict[pair] = 1 # c2p\n",
    "    \n",
    "                \n",
    "    def tor_dict2dataset(self):\n",
    "        dataset = []\n",
    "        labels = []\n",
    "        for pair, label in self.tor_dict.items():\n",
    "            dataset.append(np.asarray(pair))\n",
    "            labels.append(label)\n",
    "        print(\"Finished __tor_dict2dataset\")\n",
    "        return np.asarray(dataset), np.asarray(labels)\n",
    "\n",
    "\n",
    "    def generate_labels_for_set(self, pairs):\n",
    "        labels = []\n",
    "        for pair in pairs:\n",
    "            if (pair[0], pair[1]) in self.tor_dict:\n",
    "                labels.append(self.tor_dict[(pair[0], pair[1])])\n",
    "            elif (pair[1], pair[0]) in self.tor_dict:\n",
    "                if self.tor_dict[(pair[1], pair[0])] == 0 or self.tor_dict[(pair[1], pair[0])] == 2:\n",
    "                    labels.append(self.tor_dict[(pair[1], pair[0])])\n",
    "                else:\n",
    "                    labels.append((self.tor_dict[(pair[1], pair[0])] + 2)%4)\n",
    "            else:\n",
    "                labels.append(-1)\n",
    "        return np.asarray(labels)\n"
   ]
  },
  {
   "cell_type": "code",
   "execution_count": 27,
   "metadata": {
    "ExecuteTime": {
     "end_time": "2019-12-28T17:03:11.797765Z",
     "start_time": "2019-12-28T16:31:09.928989Z"
    }
   },
   "outputs": [
    {
     "name": "stdout",
     "output_type": "stream",
     "text": [
      "Finished __intialize_tor_dict_with_core\n",
      "Finished __split_path_through_core with 276 remaining for phase 2\n",
      "Finished __pahse2 with 142 unclassified pairs\n",
      "Finished __pahse3 with 142 unclassified pairs\n",
      "K: 1 Start Iteration on 147667 edges\n",
      "Number of remaining edges: 123786\n",
      "\n",
      "K: 2 Start Iteration on 123786 edges\n",
      "Number of remaining edges: 80747\n",
      "\n",
      "K: 3 Start Iteration on 80747 edges\n",
      "Number of remaining edges: 59956\n",
      "\n",
      "K: 4 Start Iteration on 59956 edges\n",
      "Number of remaining edges: 47881\n",
      "\n",
      "K: 5 Start Iteration on 47881 edges\n",
      "Number of remaining edges: 39960\n",
      "\n",
      "K: 6 Start Iteration on 39960 edges\n",
      "Number of remaining edges: 34330\n",
      "\n",
      "K: 7 Start Iteration on 34330 edges\n",
      "Number of remaining edges: 30048\n",
      "\n",
      "K: 8 Start Iteration on 30048 edges\n",
      "Number of remaining edges: 26555\n",
      "\n",
      "K: 9 Start Iteration on 26555 edges\n",
      "Number of remaining edges: 23538\n",
      "\n",
      "K: 10 Start Iteration on 23538 edges\n",
      "Number of remaining edges: 20722\n",
      "\n",
      "K: 11 Start Iteration on 20722 edges\n",
      "Number of remaining edges: 18171\n",
      "\n",
      "K: 12 Start Iteration on 18171 edges\n",
      "Number of remaining edges: 16102\n",
      "\n",
      "K: 13 Start Iteration on 16102 edges\n",
      "Number of remaining edges: 14291\n",
      "\n",
      "K: 14 Start Iteration on 14291 edges\n",
      "Number of remaining edges: 12517\n",
      "\n",
      "K: 15 Start Iteration on 12517 edges\n",
      "Number of remaining edges: 10872\n",
      "\n",
      "K: 16 Start Iteration on 10872 edges\n",
      "Number of remaining edges: 9525\n",
      "\n",
      "K: 17 Start Iteration on 9525 edges\n",
      "Number of remaining edges: 8561\n",
      "\n",
      "K: 18 Start Iteration on 8561 edges\n",
      "Number of remaining edges: 7541\n",
      "\n",
      "K: 19 Start Iteration on 7541 edges\n",
      "Number of remaining edges: 6955\n",
      "\n",
      "K: 20 Start Iteration on 6955 edges\n",
      "Number of remaining edges: 6518\n",
      "\n",
      "K: 21 Start Iteration on 6518 edges\n",
      "Number of remaining edges: 6108\n",
      "\n",
      "K: 22 Start Iteration on 6108 edges\n",
      "Number of remaining edges: 5780\n",
      "\n",
      "K: 23 Start Iteration on 5780 edges\n",
      "Number of remaining edges: 5393\n",
      "\n",
      "K: 24 Start Iteration on 5393 edges\n",
      "Number of remaining edges: 4987\n",
      "\n",
      "K: 25 Start Iteration on 4987 edges\n",
      "Number of remaining edges: 4614\n",
      "\n",
      "K: 26 Start Iteration on 4614 edges\n",
      "Number of remaining edges: 4356\n",
      "\n",
      "K: 27 Start Iteration on 4356 edges\n",
      "Number of remaining edges: 4142\n",
      "\n",
      "K: 28 Start Iteration on 4142 edges\n",
      "Number of remaining edges: 3835\n",
      "\n",
      "K: 29 Start Iteration on 3835 edges\n",
      "Number of remaining edges: 3662\n",
      "\n",
      "K: 30 Start Iteration on 3662 edges\n",
      "Number of remaining edges: 3485\n",
      "\n",
      "K: 31 Start Iteration on 3485 edges\n",
      "Number of remaining edges: 3213\n",
      "\n",
      "K: 32 Start Iteration on 3213 edges\n",
      "Number of remaining edges: 2938\n",
      "\n",
      "K: 33 Start Iteration on 2938 edges\n",
      "Number of remaining edges: 2648\n",
      "\n",
      "K: 34 Start Iteration on 2648 edges\n",
      "Number of remaining edges: 2327\n",
      "\n",
      "K: 35 Start Iteration on 2327 edges\n",
      "Number of remaining edges: 1926\n",
      "\n",
      "K: 36 Start Iteration on 1926 edges\n",
      "Number of remaining edges: 1664\n",
      "\n",
      "K: 37 Start Iteration on 1664 edges\n",
      "Number of remaining edges: 1262\n",
      "\n",
      "K: 38 Start Iteration on 1262 edges\n",
      "Number of remaining edges: 812\n",
      "\n",
      "K: 39 Start Iteration on 812 edges\n",
      "Number of remaining edges: 362\n",
      "\n",
      "K: 40 Start Iteration on 362 edges\n",
      "Number of remaining edges: 0\n",
      "\n",
      "Finished __compute_k_shells\n",
      "Finished __compare_k_shells\n"
     ]
    }
   ],
   "source": [
    "ndtor_cp = NDTOR_CP(scc, cp_core, bgp_routes,k_shell=k_shell)   # CP - Core"
   ]
  },
  {
   "cell_type": "code",
   "execution_count": 13,
   "metadata": {
    "ExecuteTime": {
     "end_time": "2019-12-28T17:23:57.124142Z",
     "start_time": "2019-12-28T17:23:03.552400Z"
    }
   },
   "outputs": [
    {
     "name": "stdout",
     "output_type": "stream",
     "text": [
      "Finished __intialize_tor_dict_with_core\n",
      "Finished __split_path_through_core with 372339 remaining for phase 2\n",
      "Finished __pahse2 with 17250 unclassified pairs\n",
      "Finished __pahse3 with 14158 unclassified pairs\n",
      "Finished __compute_k_shells\n",
      "Finished __compare_k_shells\n"
     ]
    }
   ],
   "source": [
    "ndtor_k_max_core = NDTOR_CP(k_max_core, k_max_edges, bgp_routes, k_shell=k_shell)   # k_max_core - Core"
   ]
  },
  {
   "cell_type": "code",
   "execution_count": 10,
   "metadata": {
    "ExecuteTime": {
     "end_time": "2019-12-28T17:31:02.633745Z",
     "start_time": "2019-12-28T17:29:26.409765Z"
    }
   },
   "outputs": [
    {
     "name": "stdout",
     "output_type": "stream",
     "text": [
      "Finished __intialize_tor_dict_with_training_set\n",
      "Finished __split_path_through_core with 3669655 remaining for phase 2\n",
      "Finished __pahse2 with 25145 unclassified pairs\n",
      "Finished __pahse3 with 23580 unclassified pairs\n",
      "Finished __compute_k_shells\n",
      "Finished __compare_k_shells\n"
     ]
    }
   ],
   "source": [
    "### Reverse to original labels\n",
    "core_labels = list()\n",
    "for label in y_training:\n",
    "    if label == 2:\n",
    "        core_labels.append(3)\n",
    "    else:\n",
    "        core_labels.append(label)\n",
    "\n",
    "ndtor_x_training_core = NDTOR_CP(x_training_vertecs, x_training_edges, bgp_routes, core_labels=core_labels, is_core=False, k_shell=k_shell)\n"
   ]
  },
  {
   "cell_type": "code",
   "execution_count": 42,
   "metadata": {
    "ExecuteTime": {
     "end_time": "2019-01-11T19:45:58.174139Z",
     "start_time": "2019-01-11T19:45:55.731185Z"
    }
   },
   "outputs": [],
   "source": [
    "# ToR_MODEL_NAME = \"Cleaned_Orig_3_ToR_Classification_NDToR_x_training_core\"\n",
    "\n",
    "# with open(MODELS_PATH + ToR_MODEL_NAME + '_tor_dict.pickle', 'wb') as handle:\n",
    "#     pickle.dump(ndtor_k_max_core.tor_dict, handle, protocol=pickle.HIGHEST_PROTOCOL)\n",
    "\n",
    "# # with open(MODELS_PATH + 'k_shell.pickle', 'wb') as handle:\n",
    "# #     pickle.dump(ndtor_cp.k_shell, handle, protocol=pickle.HIGHEST_PROTOCOL)"
   ]
  },
  {
   "cell_type": "code",
   "execution_count": 48,
   "metadata": {
    "ExecuteTime": {
     "end_time": "2019-01-05T13:45:11.237303Z",
     "start_time": "2019-01-05T13:45:11.213810Z"
    }
   },
   "outputs": [
    {
     "name": "stdout",
     "output_type": "stream",
     "text": [
      "21\n"
     ]
    }
   ],
   "source": [
    "# k_max = max(ndtor_cp.k_shell.values())\n",
    "# k_max_core = [vertex for vertex, k in ndtor_cp.k_shell.items() if k == k_max]\n",
    "# print(len(k_max_core))"
   ]
  },
  {
   "cell_type": "code",
   "execution_count": 49,
   "metadata": {
    "ExecuteTime": {
     "end_time": "2019-01-05T13:46:40.776218Z",
     "start_time": "2019-01-05T13:46:40.758274Z"
    }
   },
   "outputs": [
    {
     "name": "stdout",
     "output_type": "stream",
     "text": [
      "(3356,)\n",
      "(6939,)\n",
      "(1299,)\n",
      "(174,)\n",
      "(3257,)\n",
      "(2914,)\n",
      "(6453,)\n",
      "(209,)\n",
      "(1239,)\n",
      "(6762,)\n",
      "(9002,)\n",
      "(701,)\n",
      "(6461,)\n",
      "(4637,)\n",
      "(3491,)\n",
      "(286,)\n",
      "(37100,)\n",
      "(2497,)\n",
      "(3303,)\n",
      "(2516,)\n",
      "(1273,)\n"
     ]
    }
   ],
   "source": [
    "# index_ASN_map = {index: ASN for ASN, index in ASN_index_map.items()}\n",
    "\n",
    "# for ind in k_max_core:\n",
    "#     print(index_ASN_map[ind],)"
   ]
  },
  {
   "cell_type": "markdown",
   "metadata": {},
   "source": [
    "## Save kshell"
   ]
  },
  {
   "cell_type": "code",
   "execution_count": 11,
   "metadata": {
    "ExecuteTime": {
     "end_time": "2019-12-28T17:32:50.174001Z",
     "start_time": "2019-12-28T17:32:17.429691Z"
    }
   },
   "outputs": [],
   "source": [
    "with open(MODELS_PATH + ToR_MODEL_NAME + '_tor_dict.pickle', 'wb') as handle:\n",
    "    pickle.dump(ndtor_x_training_core.tor_dict, handle, protocol=pickle.HIGHEST_PROTOCOL)\n",
    "\n",
    "# with open(MODELS_PATH + ToR_MODEL_NAME + 's1_k_shell.pickle', 'wb') as handle:\n",
    "#     pickle.dump(ndtor_cp.k_shell, handle, protocol=pickle.HIGHEST_PROTOCOL)\n",
    "\n",
    "# with open(MODELS_PATH + 's1_k_shell.pickle', 'rb') as handle:\n",
    "#     k_shell = pickle.load(handle)\n",
    "# print(len(k_shell))"
   ]
  },
  {
   "cell_type": "markdown",
   "metadata": {
    "ExecuteTime": {
     "end_time": "2018-10-20T11:24:40.580036Z",
     "start_time": "2018-10-20T11:24:33.351927Z"
    }
   },
   "source": [
    "# Final evaluation of the model\n",
    "## Evaluate accuracy over the test set"
   ]
  },
  {
   "cell_type": "code",
   "execution_count": 12,
   "metadata": {
    "ExecuteTime": {
     "end_time": "2019-12-28T17:32:56.117758Z",
     "start_time": "2019-12-28T17:32:54.066759Z"
    }
   },
   "outputs": [],
   "source": [
    "y_test_prediction = ndtor_x_training_core.generate_labels_for_set(x_test)"
   ]
  },
  {
   "cell_type": "code",
   "execution_count": 13,
   "metadata": {
    "ExecuteTime": {
     "end_time": "2019-12-28T17:33:01.108958Z",
     "start_time": "2019-12-28T17:33:01.029163Z"
    }
   },
   "outputs": [
    {
     "name": "stdout",
     "output_type": "stream",
     "text": [
      "{0, 1, 3, -1}\n"
     ]
    }
   ],
   "source": [
    "print(set(y_test_prediction))"
   ]
  },
  {
   "cell_type": "code",
   "execution_count": 14,
   "metadata": {
    "ExecuteTime": {
     "end_time": "2019-12-28T17:33:05.820778Z",
     "start_time": "2019-12-28T17:33:05.224169Z"
    }
   },
   "outputs": [
    {
     "name": "stdout",
     "output_type": "stream",
     "text": [
      "116153\n",
      "116153\n"
     ]
    }
   ],
   "source": [
    "print(len(y_test_prediction))\n",
    "y_test_prediction_new = []\n",
    "for i in range(len(y_test_prediction)):\n",
    "    if y_test_prediction[i] %2 == 0:\n",
    "        y_test_prediction_new.append(0)\n",
    "    elif y_test_prediction[i] == 3:\n",
    "        y_test_prediction_new.append(2)\n",
    "    elif y_test_prediction[i] == 1:\n",
    "        y_test_prediction_new.append(1)\n",
    "    else:\n",
    "        y_test_prediction_new.append(-1)\n",
    "\n",
    "y_test_prediction_new = np.asarray(y_test_prediction_new)\n",
    "print(len(y_test_prediction_new))\n",
    "y_test_prediction = y_test_prediction_new"
   ]
  },
  {
   "cell_type": "code",
   "execution_count": 15,
   "metadata": {
    "ExecuteTime": {
     "end_time": "2019-12-28T17:33:10.792578Z",
     "start_time": "2019-12-28T17:33:10.707222Z"
    }
   },
   "outputs": [
    {
     "name": "stdout",
     "output_type": "stream",
     "text": [
      "{0, 1, 2, -1}\n"
     ]
    }
   ],
   "source": [
    "print(set(y_test_prediction))"
   ]
  },
  {
   "cell_type": "code",
   "execution_count": 16,
   "metadata": {
    "ExecuteTime": {
     "end_time": "2019-12-28T17:33:15.559734Z",
     "start_time": "2019-12-28T17:33:15.294353Z"
    }
   },
   "outputs": [
    {
     "name": "stdout",
     "output_type": "stream",
     "text": [
      "{0, 1, 2}\n",
      "102819 102819\n"
     ]
    }
   ],
   "source": [
    "y_test = [y_test[i] for i, label in enumerate(y_test_prediction) if label!=-1]\n",
    "y_test_prediction = [label for i, label in enumerate(y_test_prediction) if label!=-1]\n",
    "print(set(y_test_prediction))\n",
    "print(len(y_test), len(y_test_prediction))"
   ]
  },
  {
   "cell_type": "code",
   "execution_count": 17,
   "metadata": {
    "ExecuteTime": {
     "end_time": "2019-12-28T17:33:19.833889Z",
     "start_time": "2019-12-28T17:33:19.705298Z"
    }
   },
   "outputs": [
    {
     "name": "stdout",
     "output_type": "stream",
     "text": [
      "Accuracy: 56.15%\n"
     ]
    }
   ],
   "source": [
    "from sklearn.metrics import accuracy_score\n",
    "test_scores = accuracy_score(y_test, y_test_prediction)\n",
    "print(\"Accuracy: %.2f%%\" % (test_scores*100))"
   ]
  },
  {
   "cell_type": "code",
   "execution_count": null,
   "metadata": {
    "ExecuteTime": {
     "end_time": "2018-11-17T15:27:13.913361Z",
     "start_time": "2018-11-17T15:27:13.845207Z"
    }
   },
   "outputs": [],
   "source": [
    "# x_test_cleaned = np.asarray([np.asarray(x_test[i]) for i in range(len(x_test)) if y_test_prediction[i] != -1])\n",
    "# y_test_cleaned = np.asarray([y_test[i] for i in range(len(y_test)) if y_test_prediction[i] != -1])\n",
    "# y_test_prediction_cleaned = np.asarray([y_test_prediction[i] for i in range(len(y_test_prediction)) if y_test_prediction[i] != -1])"
   ]
  },
  {
   "cell_type": "code",
   "execution_count": null,
   "metadata": {
    "ExecuteTime": {
     "end_time": "2018-11-17T15:27:15.867226Z",
     "start_time": "2018-11-17T15:27:15.861071Z"
    }
   },
   "outputs": [],
   "source": [
    "# print(len(x_test_cleaned), len(y_test_cleaned), len(y_test_prediction_cleaned))"
   ]
  },
  {
   "cell_type": "code",
   "execution_count": null,
   "metadata": {
    "ExecuteTime": {
     "end_time": "2018-11-17T15:27:17.061659Z",
     "start_time": "2018-11-17T15:27:17.052861Z"
    }
   },
   "outputs": [],
   "source": [
    "# from sklearn.metrics import accuracy_score\n",
    "# test_scores = accuracy_score(y_test_cleaned, y_test_prediction_cleaned)\n",
    "# print(\"Accuracy: %.2f%%\" % (test_scores*100))"
   ]
  },
  {
   "cell_type": "markdown",
   "metadata": {},
   "source": [
    "## Test if by learning (asn1, asn2) -> p2c then (asn2, asn1) -> c2p and vice versa"
   ]
  },
  {
   "cell_type": "code",
   "execution_count": null,
   "metadata": {
    "ExecuteTime": {
     "end_time": "2019-01-04T17:50:32.317308Z",
     "start_time": "2019-01-04T17:50:32.017509Z"
    }
   },
   "outputs": [],
   "source": [
    "p2c = TOR_ORIG_LABELS_DICT['P2C']\n",
    "c2p = TOR_ORIG_LABELS_DICT['C2P']\n",
    "\n",
    "p2c_training = np.asarray([np.asarray(x_training[i]) for i in range(len(x_training)) if y_training[i] == p2c])\n",
    "p2c_training_oposite = np.asarray([np.asarray([pair[1], pair[0]]) for pair in p2c_training])\n",
    "p2c_training_labels = [p2c]*len(p2c_training)\n",
    "p2c_training_oposite_labels = [c2p]*len(p2c_training_oposite)\n",
    "print(p2c_training.shape, p2c_training_oposite.shape)"
   ]
  },
  {
   "cell_type": "code",
   "execution_count": null,
   "metadata": {
    "ExecuteTime": {
     "end_time": "2019-01-04T17:51:02.400638Z",
     "start_time": "2019-01-04T17:51:02.106675Z"
    }
   },
   "outputs": [],
   "source": [
    "p2c_training_labels_prediction = generate_labels_for_set(caida_tor_dict, p2c_training)\n",
    "p2c_training_scores = accuracy_score(p2c_training_labels, p2c_training_labels_prediction)\n",
    "print(\"Accuracy: %.2f%%\" % (p2c_training_scores*100))\n",
    "\n",
    "p2c_training_oposite_labels_prediction = generate_labels_for_set(caida_tor_dict, p2c_training_oposite)\n",
    "p2c_training_oposite_scores = accuracy_score(p2c_training_oposite_labels, p2c_training_oposite_labels_prediction)\n",
    "print(\"Accuracy: %.2f%%\" % (p2c_training_oposite_scores*100))"
   ]
  },
  {
   "cell_type": "markdown",
   "metadata": {},
   "source": [
    "## Plot and save a confusion matrix for results over the test set"
   ]
  },
  {
   "cell_type": "markdown",
   "metadata": {},
   "source": [
    "### Define a function"
   ]
  },
  {
   "cell_type": "code",
   "execution_count": 18,
   "metadata": {
    "ExecuteTime": {
     "end_time": "2019-12-28T17:33:25.319085Z",
     "start_time": "2019-12-28T17:33:24.639316Z"
    }
   },
   "outputs": [],
   "source": [
    "%matplotlib inline\n",
    "\n",
    "import matplotlib\n",
    "import pylab as pl\n",
    "from sklearn.metrics import confusion_matrix\n",
    "import itertools\n",
    "import matplotlib.pyplot as plt\n",
    "import matplotlib.cm as cm\n",
    "\n",
    "def plot_confusion_matrix(cm, classes,\n",
    "                          normalize=False,\n",
    "                          title='Confusion matrix',\n",
    "                          fname='Confusion matrix',\n",
    "                          cmap=plt.cm.Blues):\n",
    "    \"\"\"\n",
    "    This function prints and plots the confusion matrix.\n",
    "    Normalization can be applied by setting `normalize=True`.\n",
    "    \"\"\"\n",
    "    if normalize:\n",
    "        cm = cm.astype('float') / cm.sum(axis=1)[:, np.newaxis]\n",
    "        print(\"Normalized confusion matrix\")\n",
    "    else:\n",
    "        print('Confusion matrix, without normalization')\n",
    "\n",
    "#     print(cm)\n",
    "\n",
    "    plt.imshow(cm, interpolation='nearest', cmap=cmap)\n",
    "#     plt.title(title)\n",
    "    plt.colorbar()\n",
    "    tick_marks = np.arange(len(classes))\n",
    "    plt.xticks(tick_marks, classes, rotation=45)\n",
    "    plt.yticks(tick_marks, classes)\n",
    "\n",
    "    fmt = '.1f' if normalize else 'd'\n",
    "    thresh = cm.max() / 2.\n",
    "    for i, j in itertools.product(range(cm.shape[0]), range(cm.shape[1])):\n",
    "        if normalize:\n",
    "            plt.text(j, i, format(cm[i, j]*100, fmt) + '%',\n",
    "                 horizontalalignment=\"center\",\n",
    "                 color=\"white\" if cm[i, j] > thresh else \"black\")\n",
    "        else:\n",
    "            plt.text(j, i, format(cm[i, j], fmt),\n",
    "                 horizontalalignment=\"center\",\n",
    "                 color=\"white\" if cm[i, j] > thresh else \"black\")    \n",
    "        \n",
    "    plt.tight_layout()\n",
    "    plt.ylabel('True Label')\n",
    "    plt.xlabel('Predicted Label')\n",
    "    plt.savefig(fname, bbox_inches='tight')"
   ]
  },
  {
   "cell_type": "code",
   "execution_count": 19,
   "metadata": {
    "ExecuteTime": {
     "end_time": "2019-12-28T17:33:33.679660Z",
     "start_time": "2019-12-28T17:33:30.067959Z"
    }
   },
   "outputs": [
    {
     "name": "stdout",
     "output_type": "stream",
     "text": [
      "Confusion matrix, without normalization\n",
      "Normalized confusion matrix\n"
     ]
    },
    {
     "data": {
      "image/png": "[encoded data removed]",
      "text/plain": [
       "<Figure size 432x288 with 2 Axes>"
      ]
     },
     "metadata": {
      "needs_background": "light"
     },
     "output_type": "display_data"
    },
    {
     "data": {
      "image/png": "[encoded data removed]",
      "text/plain": [
       "<Figure size 432x288 with 2 Axes>"
      ]
     },
     "metadata": {
      "needs_background": "light"
     },
     "output_type": "display_data"
    }
   ],
   "source": [
    "# Compute confusion matrix\n",
    "cnf_matrix = confusion_matrix(y_test, y_test_prediction)\n",
    "np.set_printoptions(precision=2)\n",
    "\n",
    "# Plot non-normalized confusion matrix\n",
    "plt.figure()\n",
    "plot_confusion_matrix(cnf_matrix, classes=class_names,\n",
    "                      title='Confusion matrix, without normalization',\n",
    "                      fname=RESULTS_PATH + ToR_MODEL_NAME + \"_\" + 'Confusion_matrix_without_normalization')\n",
    "\n",
    "# Plot normalized confusion matrix\n",
    "plt.figure()\n",
    "plot_confusion_matrix(cnf_matrix, classes=class_names, normalize=True,\n",
    "                      title='Normalized Confusion Msatrix',\n",
    "                      fname=RESULTS_PATH +ToR_MODEL_NAME + \"_\" + 'Normalized_confusion_matrix')\n",
    "\n",
    "plt.show()"
   ]
  },
  {
   "cell_type": "markdown",
   "metadata": {
    "heading_collapsed": true
   },
   "source": [
    "# Export the model to a file"
   ]
  },
  {
   "cell_type": "code",
   "execution_count": null,
   "metadata": {
    "ExecuteTime": {
     "end_time": "2018-11-16T12:50:04.937659Z",
     "start_time": "2018-11-16T12:50:04.873865Z"
    },
    "hidden": true
   },
   "outputs": [],
   "source": [
    "model_json = pairs_model.to_json()\n",
    "with open(MODELS_PATH + ToR_MODEL_NAME + '.json', \"w\") as json_file:\n",
    "    json_file.write(model_json)\n",
    "pairs_model.save_weights(MODELS_PATH + ToR_MODEL_NAME + '.h5')\n",
    "print(\"Save Model\")"
   ]
  },
  {
   "cell_type": "markdown",
   "metadata": {},
   "source": [
    "# Export results to a csv file (with original ASNs)\n",
    "## Define functions"
   ]
  },
  {
   "cell_type": "code",
   "execution_count": null,
   "metadata": {
    "ExecuteTime": {
     "end_time": "2018-10-20T15:53:31.858073Z",
     "start_time": "2018-10-20T15:53:31.831311Z"
    }
   },
   "outputs": [],
   "source": [
    "def index2ASN(dataset_indexed, ASN_index_map):\n",
    "    dataset = []\n",
    "    index_ASN_map = {index: ASN for ASN, index in ASN_index_map.items()}\n",
    "    for row_indexed in dataset_indexed:\n",
    "        row = []\n",
    "        for index in row_indexed:\n",
    "            if index != 0:\n",
    "                row += [index_ASN_map[index]]\n",
    "        dataset.append(row)\n",
    "    \n",
    "    return dataset\n",
    "\n",
    "def index2ASN_labeled(dataset_indexed, labels_indexed, ASN_index_map):\n",
    "    dataset = []\n",
    "    index_ASN_map = {index: ASN for ASN, index in ASN_index_map.items()}\n",
    "    labels_colors_map = {0:'GREEN', 1:'RED'}\n",
    "    \n",
    "    for i, row_indexed in enumerate(dataset_indexed):\n",
    "        row = []\n",
    "        for index in row_indexed:\n",
    "            if index != 0:\n",
    "                row += [index_ASN_map[index]]\n",
    "        row += [labels_colors_map[labels_indexed[i]]]\n",
    "        dataset.append(row)\n",
    "    \n",
    "    return dataset\n",
    "\n",
    "import csv\n",
    "def export_csv(dataset, csv_name):\n",
    "    with open(csv_name + '.csv', 'wb') as csv_file:\n",
    "        csv_writer = csv.writer(csv_file)\n",
    "        for row in dataset:\n",
    "            csv_writer.writerow(row)"
   ]
  },
  {
   "cell_type": "markdown",
   "metadata": {
    "heading_collapsed": true
   },
   "source": [
    "## Load a relevant dataset {all, misclassified, decided, undecided} and get model predictions"
   ]
  },
  {
   "cell_type": "code",
   "execution_count": null,
   "metadata": {
    "ExecuteTime": {
     "end_time": "2018-10-20T15:35:46.412152Z",
     "start_time": "2018-10-20T15:30:04.317489Z"
    },
    "hidden": true
   },
   "outputs": [],
   "source": [
    "### misclassified from the entire dataset ###\n",
    "\n",
    "dataset = np.load(DATA_PATH + \"bgp_routes_indexed_dataset.npy\")\n",
    "labels = np.load(DATA_PATH + \"bgp_routes_labels.npy\")\n",
    "\n",
    "# remove UNDECIDED\n",
    "dataset = np.asarray([np.asarray(dataset[i]) for i in range(len(dataset)) if labels[i] != 2])\n",
    "labels = np.asarray([labels[i] for i in range(len(labels)) if labels[i] != 2])\n",
    "\n",
    "# pad sequences\n",
    "dataset = sequence.pad_sequences(dataset, maxlen=max_len)\n",
    "# Get Model Predictions\n",
    "predictions = model.predict_classes(dataset, verbose=1)"
   ]
  },
  {
   "cell_type": "code",
   "execution_count": null,
   "metadata": {
    "ExecuteTime": {
     "end_time": "2018-10-20T15:54:32.435559Z",
     "start_time": "2018-10-20T15:54:28.652217Z"
    },
    "hidden": true
   },
   "outputs": [],
   "source": [
    "# Create misclassified dataset\n",
    "x_misclassified = np.asarray([route for i,route in enumerate(dataset) if labels[i] != predictions[i]])\n",
    "y_misclassified_prediction = np.asarray([label for i,label in enumerate(predictions) if labels[i] != predictions[i]])\n",
    "print len(x_misclassified), len(y_misclassified_prediction)"
   ]
  },
  {
   "cell_type": "markdown",
   "metadata": {},
   "source": [
    "## Export Results"
   ]
  },
  {
   "cell_type": "code",
   "execution_count": null,
   "metadata": {
    "ExecuteTime": {
     "end_time": "2018-10-20T15:54:39.339072Z",
     "start_time": "2018-10-20T15:54:39.169037Z"
    }
   },
   "outputs": [],
   "source": [
    "dataset_misclassified = index2ASN_labeled(x_misclassified, y_misclassified_prediction, ASN_index_map)\n",
    "export_csv(dataset_misclassified, RESULTS_PATH + MODEL_NAME + \"_misclassified\")"
   ]
  }
 ],
 "metadata": {
  "kernelspec": {
   "display_name": "Python 3",
   "language": "python",
   "name": "python3"
  },
  "language_info": {
   "codemirror_mode": {
    "name": "ipython",
    "version": 3
   },
   "file_extension": ".py",
   "mimetype": "text/x-python",
   "name": "python",
   "nbconvert_exporter": "python",
   "pygments_lexer": "ipython3",
   "version": "3.7.3"
  },
  "toc": {
   "base_numbering": 1,
   "nav_menu": {},
   "number_sections": true,
   "sideBar": true,
   "skip_h1_title": false,
   "title_cell": "Table of Contents",
   "title_sidebar": "Contents",
   "toc_cell": false,
   "toc_position": {},
   "toc_section_display": true,
   "toc_window_display": true
  },
  "varInspector": {
   "cols": {
    "lenName": 16,
    "lenType": 16,
    "lenVar": 40
   },
   "kernels_config": {
    "python": {
     "delete_cmd_postfix": "",
     "delete_cmd_prefix": "del ",
     "library": "var_list.py",
     "varRefreshCmd": "print(var_dic_list())"
    },
    "r": {
     "delete_cmd_postfix": ") ",
     "delete_cmd_prefix": "rm(",
     "library": "var_list.r",
     "varRefreshCmd": "cat(var_dic_list()) "
    }
   },
   "types_to_exclude": [
    "module",
    "function",
    "builtin_function_or_method",
    "instance",
    "_Feature"
   ],
   "window_display": false
  }
 },
 "nbformat": 4,
 "nbformat_minor": 2
}
