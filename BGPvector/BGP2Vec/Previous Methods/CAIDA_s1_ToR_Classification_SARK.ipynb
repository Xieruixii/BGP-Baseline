{
 "cells": [
  {
   "cell_type": "markdown",
   "metadata": {},
   "source": [
    "# Import python packages"
   ]
  },
  {
   "cell_type": "code",
   "execution_count": 1,
   "metadata": {
    "ExecuteTime": {
     "end_time": "2019-12-30T06:46:11.401994Z",
     "start_time": "2019-12-30T06:46:10.771571Z"
    }
   },
   "outputs": [],
   "source": [
    "from run_sark import SARK\n",
    "\n",
    "import pickle\n",
    "import numpy as np\n",
    "from sklearn.model_selection import train_test_split\n",
    "from collections import Counter\n",
    "import random\n",
    "\n",
    "np.random.seed(7)"
   ]
  },
  {
   "cell_type": "markdown",
   "metadata": {},
   "source": [
    "# Define parameters and load bgp_routes and ToR datasets"
   ]
  },
  {
   "cell_type": "code",
   "execution_count": 2,
   "metadata": {
    "ExecuteTime": {
     "end_time": "2019-12-30T06:46:22.532525Z",
     "start_time": "2019-12-30T06:46:15.456574Z"
    }
   },
   "outputs": [
    {
     "name": "stdout",
     "output_type": "stream",
     "text": [
      "(3669655,) (3669655,)\n",
      "(580762, 2) (580762,)\n"
     ]
    }
   ],
   "source": [
    "ToR_MODEL_NAME = \"CAIDA_s1_ToR_Classification_SARK\"\n",
    "\n",
    "TEST_SIZE = 0.2\n",
    "TOR_LABELS_DICT = {'P2P':0, 'C2P': 1,'P2C': 2}\n",
    "class_names = ['P2P', 'C2P', 'P2C']\n",
    "DATA_PATH = '../../Data/'\n",
    "MODELS_PATH = '../../Models/'\n",
    "RESULTS_PATH = '../../Results/'\n",
    "\n",
    "\n",
    "bgp_routes = np.load(DATA_PATH + \"bgp_routes_dataset.npy\")\n",
    "bgp_routes_labels = np.load(DATA_PATH + \"bgp_routes_labels.npy\")\n",
    "print(bgp_routes.shape, bgp_routes_labels.shape)\n",
    "\n",
    "DATA = \"caida_s1_tor\"\n",
    "tor_dataset = np.load(DATA_PATH + DATA + \"_dataset.npy\")\n",
    "tor_labels = np.load(DATA_PATH + DATA + \"_labels.npy\")\n",
    "\n",
    "print(tor_dataset.shape, tor_labels.shape)"
   ]
  },
  {
   "cell_type": "markdown",
   "metadata": {},
   "source": [
    "# Generate training and test sets\n",
    "## Shauffle dataset"
   ]
  },
  {
   "cell_type": "code",
   "execution_count": 3,
   "metadata": {
    "ExecuteTime": {
     "end_time": "2019-12-30T06:46:22.621829Z",
     "start_time": "2019-12-30T06:46:22.545589Z"
    }
   },
   "outputs": [],
   "source": [
    "from sklearn.utils import shuffle\n",
    "dataset, labels = shuffle(tor_dataset, tor_labels, random_state=7)"
   ]
  },
  {
   "cell_type": "markdown",
   "metadata": {},
   "source": [
    "## Generate a balanced dataset"
   ]
  },
  {
   "cell_type": "code",
   "execution_count": null,
   "metadata": {
    "ExecuteTime": {
     "end_time": "2018-11-17T13:08:27.960627Z",
     "start_time": "2018-11-17T13:08:27.890678Z"
    }
   },
   "outputs": [],
   "source": [
    "# def generate_balanced_dataset(dataset, labels, labels_set):\n",
    "#     sets_dict = dict()\n",
    "#     for label in labels_set:\n",
    "#         sets_dict[label] = np.asarray([np.asarray(dataset[i]) for i in range(len(dataset)) if labels[i] == label])\n",
    "    \n",
    "#     min_set_len = min([len(label_set) for label_set in sets_dict.values()])\n",
    "    \n",
    "#     for label, label_set in sets_dict.iteritems():\n",
    "#         sets_dict[label] = label_set[np.random.choice(label_set.shape[0], min_set_len, replace=False)]\n",
    "    \n",
    "#     dataset = np.concatenate((sets_dict.values()))\n",
    "#     labels = []\n",
    "#     for label, label_set in sets_dict.iteritems():\n",
    "#         labels += [label]*len(label_set)\n",
    "#         print label, len(label_set)\n",
    "#     labels = np.asarray(labels)\n",
    "#     return shuffle(dataset, labels, random_state=7)\n",
    "\n",
    "# dataset, labels = generate_balanced_dataset(dataset, labels, (0,1,3))\n",
    "# print dataset.shape, labels.shape"
   ]
  },
  {
   "cell_type": "markdown",
   "metadata": {},
   "source": [
    "## Train Test Split"
   ]
  },
  {
   "cell_type": "code",
   "execution_count": 4,
   "metadata": {
    "ExecuteTime": {
     "end_time": "2019-12-30T06:46:22.710349Z",
     "start_time": "2019-12-30T06:46:22.632948Z"
    }
   },
   "outputs": [],
   "source": [
    "x_training, x_test, y_training, y_test = train_test_split(dataset, labels, test_size=TEST_SIZE)\n",
    "\n",
    "del dataset, labels"
   ]
  },
  {
   "cell_type": "code",
   "execution_count": 5,
   "metadata": {
    "ExecuteTime": {
     "end_time": "2019-12-30T06:46:22.727083Z",
     "start_time": "2019-12-30T06:46:22.720904Z"
    }
   },
   "outputs": [
    {
     "name": "stdout",
     "output_type": "stream",
     "text": [
      "(464609, 2) (464609,)\n",
      "(116153, 2) (116153,)\n"
     ]
    }
   ],
   "source": [
    "print(x_training.shape, y_training.shape)\n",
    "print(x_test.shape, y_test.shape)\n",
    "\n",
    "# print 1.0*len(x_training)/(len(x_test)+len(x_training))\n",
    "\n",
    "# from collections import Counter\n",
    "# training_c = Counter(y_training)\n",
    "# test_c = Counter(y_test)\n",
    "# print(training_c, test_c)"
   ]
  },
  {
   "cell_type": "code",
   "execution_count": null,
   "metadata": {
    "ExecuteTime": {
     "end_time": "2019-12-28T17:31:00.949800Z",
     "start_time": "2019-12-28T17:31:00.946345Z"
    }
   },
   "outputs": [],
   "source": [
    "# for k,v in training_c.iteritems():\n",
    "#     print k, 100.0*v/len(x_training)\n",
    "# print\n",
    "# for k,v in test_c.iteritems():\n",
    "#     print k, 100.0*v/len(x_test)"
   ]
  },
  {
   "cell_type": "markdown",
   "metadata": {},
   "source": [
    "# Run SARK Algorithm"
   ]
  },
  {
   "cell_type": "code",
   "execution_count": null,
   "metadata": {
    "ExecuteTime": {
     "start_time": "2019-12-29T07:00:06.881Z"
    }
   },
   "outputs": [
    {
     "name": "stdout",
     "output_type": "stream",
     "text": [
      "46\n",
      "Working on vantage number 0\n",
      "Start Iteration on 53344 Leaves\n",
      "Number of remaining edges: 17498\n",
      "Number of leaves: 5470\n",
      "\n",
      "Start Iteration on 5470 Leaves\n",
      "Number of remaining edges: 7825\n",
      "Number of leaves: 1393\n",
      "\n",
      "Start Iteration on 1393 Leaves\n",
      "Number of remaining edges: 4848\n",
      "Number of leaves: 439\n",
      "\n",
      "Start Iteration on 439 Leaves\n",
      "Number of remaining edges: 3843\n",
      "Number of leaves: 150\n",
      "\n",
      "Start Iteration on 150 Leaves\n",
      "Number of remaining edges: 3491\n",
      "Number of leaves: 35\n",
      "\n",
      "Start Iteration on 35 Leaves\n",
      "Number of remaining edges: 3397\n",
      "Number of leaves: 14\n",
      "\n",
      "Start Iteration on 14 Leaves\n",
      "Number of remaining edges: 3362\n",
      "Number of leaves: 5\n",
      "\n",
      "Start Iteration on 5 Leaves\n",
      "Number of remaining edges: 3356\n",
      "Number of leaves: 1\n",
      "\n",
      "Start Iteration on 1 Leaves\n",
      "Number of remaining edges: 3345\n",
      "Number of leaves: 1\n",
      "\n",
      "Start Iteration on 1 Leaves\n",
      "Number of remaining edges: 3341\n",
      "Number of leaves: 0\n",
      "\n",
      "Finished __get_ranking_for_vantage_garaph number 0\n",
      "Working on vantage number 1\n",
      "Start Iteration on 53579 Leaves\n",
      "Number of remaining edges: 17040\n",
      "Number of leaves: 5478\n",
      "\n",
      "Start Iteration on 5478 Leaves\n",
      "Number of remaining edges: 7299\n",
      "Number of leaves: 1325\n",
      "\n",
      "Start Iteration on 1325 Leaves\n",
      "Number of remaining edges: 4448\n",
      "Number of leaves: 401\n",
      "\n",
      "Start Iteration on 401 Leaves\n",
      "Number of remaining edges: 3500\n",
      "Number of leaves: 142\n",
      "\n",
      "Start Iteration on 142 Leaves\n",
      "Number of remaining edges: 3118\n",
      "Number of leaves: 38\n",
      "\n",
      "Start Iteration on 38 Leaves\n",
      "Number of remaining edges: 3025\n",
      "Number of leaves: 14\n",
      "\n",
      "Start Iteration on 14 Leaves\n",
      "Number of remaining edges: 2981\n",
      "Number of leaves: 6\n",
      "\n",
      "Start Iteration on 6 Leaves\n",
      "Number of remaining edges: 2972\n",
      "Number of leaves: 2\n",
      "\n",
      "Start Iteration on 2 Leaves\n",
      "Number of remaining edges: 2958\n",
      "Number of leaves: 2\n",
      "\n",
      "Start Iteration on 2 Leaves\n",
      "Number of remaining edges: 2954\n",
      "Number of leaves: 0\n",
      "\n",
      "Finished __get_ranking_for_vantage_garaph number 1\n",
      "Working on vantage number 2\n",
      "Start Iteration on 53454 Leaves\n",
      "Number of remaining edges: 17686\n",
      "Number of leaves: 5512\n",
      "\n",
      "Start Iteration on 5512 Leaves\n",
      "Number of remaining edges: 7695\n",
      "Number of leaves: 1353\n",
      "\n",
      "Start Iteration on 1353 Leaves\n",
      "Number of remaining edges: 4842\n",
      "Number of leaves: 408\n",
      "\n",
      "Start Iteration on 408 Leaves\n",
      "Number of remaining edges: 3914\n",
      "Number of leaves: 134\n",
      "\n",
      "Start Iteration on 134 Leaves\n",
      "Number of remaining edges: 3581\n",
      "Number of leaves: 37\n",
      "\n",
      "Start Iteration on 37 Leaves\n",
      "Number of remaining edges: 3490\n",
      "Number of leaves: 13\n",
      "\n",
      "Start Iteration on 13 Leaves\n",
      "Number of remaining edges: 3450\n",
      "Number of leaves: 8\n",
      "\n",
      "Start Iteration on 8 Leaves\n",
      "Number of remaining edges: 3438\n",
      "Number of leaves: 3\n",
      "\n",
      "Start Iteration on 3 Leaves\n",
      "Number of remaining edges: 3426\n",
      "Number of leaves: 1\n",
      "\n",
      "Start Iteration on 1 Leaves\n",
      "Number of remaining edges: 3422\n",
      "Number of leaves: 1\n",
      "\n",
      "Start Iteration on 1 Leaves\n",
      "Number of remaining edges: 3421\n",
      "Number of leaves: 0\n",
      "\n",
      "Finished __get_ranking_for_vantage_garaph number 2\n",
      "Working on vantage number 3\n",
      "Start Iteration on 53330 Leaves\n",
      "Number of remaining edges: 17669\n",
      "Number of leaves: 5449\n",
      "\n",
      "Start Iteration on 5449 Leaves\n",
      "Number of remaining edges: 8089\n",
      "Number of leaves: 1317\n",
      "\n",
      "Start Iteration on 1317 Leaves\n",
      "Number of remaining edges: 5335\n",
      "Number of leaves: 437\n",
      "\n",
      "Start Iteration on 437 Leaves\n",
      "Number of remaining edges: 4348\n",
      "Number of leaves: 154\n",
      "\n",
      "Start Iteration on 154 Leaves\n",
      "Number of remaining edges: 3970\n",
      "Number of leaves: 52\n",
      "\n",
      "Start Iteration on 52 Leaves\n",
      "Number of remaining edges: 3849\n",
      "Number of leaves: 22\n",
      "\n",
      "Start Iteration on 22 Leaves\n",
      "Number of remaining edges: 3775\n",
      "Number of leaves: 9\n",
      "\n",
      "Start Iteration on 9 Leaves\n",
      "Number of remaining edges: 3761\n",
      "Number of leaves: 3\n",
      "\n",
      "Start Iteration on 3 Leaves\n",
      "Number of remaining edges: 3744\n",
      "Number of leaves: 1\n",
      "\n",
      "Start Iteration on 1 Leaves\n",
      "Number of remaining edges: 3740\n",
      "Number of leaves: 0\n",
      "\n",
      "Finished __get_ranking_for_vantage_garaph number 3\n",
      "Working on vantage number 4\n",
      "Start Iteration on 53308 Leaves\n",
      "Number of remaining edges: 18032\n",
      "Number of leaves: 5503\n",
      "\n",
      "Start Iteration on 5503 Leaves\n",
      "Number of remaining edges: 8215\n",
      "Number of leaves: 1332\n",
      "\n",
      "Start Iteration on 1332 Leaves\n",
      "Number of remaining edges: 5422\n",
      "Number of leaves: 406\n",
      "\n",
      "Start Iteration on 406 Leaves\n",
      "Number of remaining edges: 4534\n",
      "Number of leaves: 126\n",
      "\n",
      "Start Iteration on 126 Leaves\n",
      "Number of remaining edges: 4238\n",
      "Number of leaves: 36\n",
      "\n",
      "Start Iteration on 36 Leaves\n",
      "Number of remaining edges: 4140\n",
      "Number of leaves: 21\n",
      "\n",
      "Start Iteration on 21 Leaves\n",
      "Number of remaining edges: 4066\n",
      "Number of leaves: 13\n",
      "\n",
      "Start Iteration on 13 Leaves\n",
      "Number of remaining edges: 4044\n",
      "Number of leaves: 4\n",
      "\n",
      "Start Iteration on 4 Leaves\n",
      "Number of remaining edges: 4025\n",
      "Number of leaves: 2\n",
      "\n",
      "Start Iteration on 2 Leaves\n",
      "Number of remaining edges: 4016\n",
      "Number of leaves: 0\n",
      "\n",
      "Finished __get_ranking_for_vantage_garaph number 4\n",
      "Working on vantage number 5\n",
      "Start Iteration on 53556 Leaves\n",
      "Number of remaining edges: 16910\n",
      "Number of leaves: 5497\n",
      "\n",
      "Start Iteration on 5497 Leaves\n",
      "Number of remaining edges: 7128\n",
      "Number of leaves: 1334\n",
      "\n",
      "Start Iteration on 1334 Leaves\n",
      "Number of remaining edges: 4307\n",
      "Number of leaves: 422\n",
      "\n",
      "Start Iteration on 422 Leaves\n",
      "Number of remaining edges: 3314\n",
      "Number of leaves: 146\n",
      "\n",
      "Start Iteration on 146 Leaves\n",
      "Number of remaining edges: 2933\n",
      "Number of leaves: 43\n",
      "\n",
      "Start Iteration on 43 Leaves\n",
      "Number of remaining edges: 2812\n",
      "Number of leaves: 22\n",
      "\n",
      "Start Iteration on 22 Leaves\n",
      "Number of remaining edges: 2749\n",
      "Number of leaves: 9\n",
      "\n",
      "Start Iteration on 9 Leaves\n",
      "Number of remaining edges: 2736\n",
      "Number of leaves: 4\n",
      "\n",
      "Start Iteration on 4 Leaves\n",
      "Number of remaining edges: 2719\n",
      "Number of leaves: 2\n",
      "\n",
      "Start Iteration on 2 Leaves\n",
      "Number of remaining edges: 2715\n",
      "Number of leaves: 0\n",
      "\n",
      "Finished __get_ranking_for_vantage_garaph number 5\n",
      "Working on vantage number 6\n",
      "Start Iteration on 53420 Leaves\n",
      "Number of remaining edges: 17492\n",
      "Number of leaves: 5483\n",
      "\n",
      "Start Iteration on 5483 Leaves\n",
      "Number of remaining edges: 7796\n",
      "Number of leaves: 1354\n",
      "\n",
      "Start Iteration on 1354 Leaves\n",
      "Number of remaining edges: 5003\n",
      "Number of leaves: 419\n",
      "\n",
      "Start Iteration on 419 Leaves\n",
      "Number of remaining edges: 4041\n",
      "Number of leaves: 152\n",
      "\n",
      "Start Iteration on 152 Leaves\n",
      "Number of remaining edges: 3673\n",
      "Number of leaves: 47\n",
      "\n",
      "Start Iteration on 47 Leaves\n",
      "Number of remaining edges: 3561\n",
      "Number of leaves: 18\n",
      "\n",
      "Start Iteration on 18 Leaves\n",
      "Number of remaining edges: 3509\n",
      "Number of leaves: 7\n",
      "\n",
      "Start Iteration on 7 Leaves\n",
      "Number of remaining edges: 3499\n",
      "Number of leaves: 3\n",
      "\n",
      "Start Iteration on 3 Leaves\n",
      "Number of remaining edges: 3483\n",
      "Number of leaves: 1\n",
      "\n",
      "Start Iteration on 1 Leaves\n",
      "Number of remaining edges: 3479\n",
      "Number of leaves: 0\n",
      "\n",
      "Finished __get_ranking_for_vantage_garaph number 6\n",
      "Working on vantage number 7\n",
      "Start Iteration on 53359 Leaves\n",
      "Number of remaining edges: 17696\n",
      "Number of leaves: 5493\n",
      "\n",
      "Start Iteration on 5493 Leaves\n",
      "Number of remaining edges: 8007\n",
      "Number of leaves: 1337\n",
      "\n",
      "Start Iteration on 1337 Leaves\n",
      "Number of remaining edges: 5144\n",
      "Number of leaves: 411\n",
      "\n",
      "Start Iteration on 411 Leaves\n",
      "Number of remaining edges: 4198\n",
      "Number of leaves: 148\n",
      "\n",
      "Start Iteration on 148 Leaves\n",
      "Number of remaining edges: 3832\n",
      "Number of leaves: 43\n",
      "\n",
      "Start Iteration on 43 Leaves\n",
      "Number of remaining edges: 3723\n",
      "Number of leaves: 19\n",
      "\n",
      "Start Iteration on 19 Leaves\n",
      "Number of remaining edges: 3665\n",
      "Number of leaves: 7\n",
      "\n",
      "Start Iteration on 7 Leaves\n",
      "Number of remaining edges: 3655\n",
      "Number of leaves: 3\n",
      "\n",
      "Start Iteration on 3 Leaves\n",
      "Number of remaining edges: 3641\n",
      "Number of leaves: 1\n",
      "\n",
      "Start Iteration on 1 Leaves\n",
      "Number of remaining edges: 3637\n",
      "Number of leaves: 0\n",
      "\n",
      "Finished __get_ranking_for_vantage_garaph number 7\n",
      "Working on vantage number 8\n",
      "Start Iteration on 53449 Leaves\n",
      "Number of remaining edges: 18723\n",
      "Number of leaves: 5484\n",
      "\n",
      "Start Iteration on 5484 Leaves\n",
      "Number of remaining edges: 8644\n",
      "Number of leaves: 1317\n",
      "\n",
      "Start Iteration on 1317 Leaves\n",
      "Number of remaining edges: 5755\n",
      "Number of leaves: 396\n",
      "\n",
      "Start Iteration on 396 Leaves\n",
      "Number of remaining edges: 4759\n",
      "Number of leaves: 128\n",
      "\n",
      "Start Iteration on 128 Leaves\n",
      "Number of remaining edges: 4419\n",
      "Number of leaves: 36\n",
      "\n",
      "Start Iteration on 36 Leaves\n",
      "Number of remaining edges: 4331\n",
      "Number of leaves: 10\n",
      "\n",
      "Start Iteration on 10 Leaves\n",
      "Number of remaining edges: 4299\n",
      "Number of leaves: 6\n",
      "\n",
      "Start Iteration on 6 Leaves\n",
      "Number of remaining edges: 4286\n",
      "Number of leaves: 0\n",
      "\n",
      "Finished __get_ranking_for_vantage_garaph number 8\n",
      "Working on vantage number 9\n"
     ]
    },
    {
     "name": "stdout",
     "output_type": "stream",
     "text": [
      "Start Iteration on 53315 Leaves\n",
      "Number of remaining edges: 17990\n",
      "Number of leaves: 5453\n",
      "\n",
      "Start Iteration on 5453 Leaves\n",
      "Number of remaining edges: 8315\n",
      "Number of leaves: 1358\n",
      "\n",
      "Start Iteration on 1358 Leaves\n",
      "Number of remaining edges: 5464\n",
      "Number of leaves: 434\n",
      "\n",
      "Start Iteration on 434 Leaves\n",
      "Number of remaining edges: 4480\n",
      "Number of leaves: 134\n",
      "\n",
      "Start Iteration on 134 Leaves\n",
      "Number of remaining edges: 4133\n",
      "Number of leaves: 31\n",
      "\n",
      "Start Iteration on 31 Leaves\n",
      "Number of remaining edges: 4050\n",
      "Number of leaves: 17\n",
      "\n",
      "Start Iteration on 17 Leaves\n",
      "Number of remaining edges: 4000\n",
      "Number of leaves: 7\n",
      "\n",
      "Start Iteration on 7 Leaves\n",
      "Number of remaining edges: 3989\n",
      "Number of leaves: 3\n",
      "\n",
      "Start Iteration on 3 Leaves\n",
      "Number of remaining edges: 3975\n",
      "Number of leaves: 0\n",
      "\n",
      "Finished __get_ranking_for_vantage_garaph number 9\n",
      "Working on vantage number 10\n",
      "Start Iteration on 53448 Leaves\n",
      "Number of remaining edges: 17850\n",
      "Number of leaves: 5482\n",
      "\n",
      "Start Iteration on 5482 Leaves\n",
      "Number of remaining edges: 8010\n",
      "Number of leaves: 1372\n",
      "\n",
      "Start Iteration on 1372 Leaves\n",
      "Number of remaining edges: 5059\n",
      "Number of leaves: 420\n",
      "\n",
      "Start Iteration on 420 Leaves\n",
      "Number of remaining edges: 4035\n",
      "Number of leaves: 151\n",
      "\n",
      "Start Iteration on 151 Leaves\n",
      "Number of remaining edges: 3628\n",
      "Number of leaves: 47\n",
      "\n",
      "Start Iteration on 47 Leaves\n",
      "Number of remaining edges: 3518\n",
      "Number of leaves: 17\n",
      "\n",
      "Start Iteration on 17 Leaves\n",
      "Number of remaining edges: 3461\n",
      "Number of leaves: 7\n",
      "\n",
      "Start Iteration on 7 Leaves\n",
      "Number of remaining edges: 3445\n",
      "Number of leaves: 5\n",
      "\n",
      "Start Iteration on 5 Leaves\n",
      "Number of remaining edges: 3438\n",
      "Number of leaves: 1\n",
      "\n",
      "Start Iteration on 1 Leaves\n",
      "Number of remaining edges: 3435\n",
      "Number of leaves: 0\n",
      "\n",
      "Finished __get_ranking_for_vantage_garaph number 10\n",
      "Working on vantage number 11\n",
      "Start Iteration on 26754 Leaves\n",
      "Number of remaining edges: 10368\n",
      "Number of leaves: 3767\n",
      "\n",
      "Start Iteration on 3767 Leaves\n",
      "Number of remaining edges: 4364\n",
      "Number of leaves: 896\n",
      "\n",
      "Start Iteration on 896 Leaves\n",
      "Number of remaining edges: 2589\n",
      "Number of leaves: 270\n",
      "\n",
      "Start Iteration on 270 Leaves\n",
      "Number of remaining edges: 1992\n",
      "Number of leaves: 89\n",
      "\n",
      "Start Iteration on 89 Leaves\n",
      "Number of remaining edges: 1767\n",
      "Number of leaves: 40\n",
      "\n",
      "Start Iteration on 40 Leaves\n",
      "Number of remaining edges: 1669\n",
      "Number of leaves: 19\n",
      "\n",
      "Start Iteration on 19 Leaves\n",
      "Number of remaining edges: 1625\n",
      "Number of leaves: 8\n",
      "\n",
      "Start Iteration on 8 Leaves\n",
      "Number of remaining edges: 1610\n",
      "Number of leaves: 4\n",
      "\n",
      "Start Iteration on 4 Leaves\n",
      "Number of remaining edges: 1604\n",
      "Number of leaves: 1\n",
      "\n",
      "Start Iteration on 1 Leaves\n",
      "Number of remaining edges: 1601\n",
      "Number of leaves: 0\n",
      "\n",
      "Finished __get_ranking_for_vantage_garaph number 11\n",
      "Working on vantage number 12\n",
      "Start Iteration on 53411 Leaves\n",
      "Number of remaining edges: 17728\n",
      "Number of leaves: 5482\n",
      "\n",
      "Start Iteration on 5482 Leaves\n",
      "Number of remaining edges: 7959\n",
      "Number of leaves: 1340\n",
      "\n",
      "Start Iteration on 1340 Leaves\n",
      "Number of remaining edges: 5065\n",
      "Number of leaves: 423\n",
      "\n",
      "Start Iteration on 423 Leaves\n",
      "Number of remaining edges: 4064\n",
      "Number of leaves: 149\n",
      "\n",
      "Start Iteration on 149 Leaves\n",
      "Number of remaining edges: 3688\n",
      "Number of leaves: 41\n",
      "\n",
      "Start Iteration on 41 Leaves\n",
      "Number of remaining edges: 3585\n",
      "Number of leaves: 19\n",
      "\n",
      "Start Iteration on 19 Leaves\n",
      "Number of remaining edges: 3528\n",
      "Number of leaves: 9\n",
      "\n",
      "Start Iteration on 9 Leaves\n",
      "Number of remaining edges: 3512\n",
      "Number of leaves: 4\n",
      "\n",
      "Start Iteration on 4 Leaves\n",
      "Number of remaining edges: 3496\n",
      "Number of leaves: 3\n",
      "\n",
      "Start Iteration on 3 Leaves\n",
      "Number of remaining edges: 3488\n",
      "Number of leaves: 0\n",
      "\n",
      "Finished __get_ranking_for_vantage_garaph number 12\n",
      "Working on vantage number 13\n",
      "Start Iteration on 53344 Leaves\n"
     ]
    }
   ],
   "source": [
    "sark = SARK(bgp_routes)"
   ]
  },
  {
   "cell_type": "code",
   "execution_count": 7,
   "metadata": {
    "ExecuteTime": {
     "end_time": "2019-12-29T12:27:35.965876Z",
     "start_time": "2019-12-29T12:27:35.950021Z"
    }
   },
   "outputs": [
    {
     "ename": "NameError",
     "evalue": "name 'sark' is not defined",
     "output_type": "error",
     "traceback": [
      "\u001b[0;31m---------------------------------------------------------------------------\u001b[0m",
      "\u001b[0;31mNameError\u001b[0m                                 Traceback (most recent call last)",
      "\u001b[0;32m<ipython-input-7-881511527008>\u001b[0m in \u001b[0;36m<module>\u001b[0;34m\u001b[0m\n\u001b[1;32m      1\u001b[0m \u001b[0;32mwith\u001b[0m \u001b[0mopen\u001b[0m\u001b[0;34m(\u001b[0m\u001b[0mMODELS_PATH\u001b[0m \u001b[0;34m+\u001b[0m \u001b[0mToR_MODEL_NAME\u001b[0m \u001b[0;34m+\u001b[0m \u001b[0;34m'_tor_dict.pickle'\u001b[0m\u001b[0;34m,\u001b[0m \u001b[0;34m'wb'\u001b[0m\u001b[0;34m)\u001b[0m \u001b[0;32mas\u001b[0m \u001b[0mhandle\u001b[0m\u001b[0;34m:\u001b[0m\u001b[0;34m\u001b[0m\u001b[0;34m\u001b[0m\u001b[0m\n\u001b[0;32m----> 2\u001b[0;31m             \u001b[0mpickle\u001b[0m\u001b[0;34m.\u001b[0m\u001b[0mdump\u001b[0m\u001b[0;34m(\u001b[0m\u001b[0msark\u001b[0m\u001b[0;34m.\u001b[0m\u001b[0mtor_dict\u001b[0m\u001b[0;34m,\u001b[0m \u001b[0mhandle\u001b[0m\u001b[0;34m,\u001b[0m \u001b[0mprotocol\u001b[0m\u001b[0;34m=\u001b[0m\u001b[0mpickle\u001b[0m\u001b[0;34m.\u001b[0m\u001b[0mHIGHEST_PROTOCOL\u001b[0m\u001b[0;34m)\u001b[0m\u001b[0;34m\u001b[0m\u001b[0;34m\u001b[0m\u001b[0m\n\u001b[0m",
      "\u001b[0;31mNameError\u001b[0m: name 'sark' is not defined"
     ]
    }
   ],
   "source": [
    "with open(MODELS_PATH + ToR_MODEL_NAME + '_tor_dict.pickle', 'wb') as handle:\n",
    "            pickle.dump(sark.tor_dict, handle, protocol=pickle.HIGHEST_PROTOCOL)"
   ]
  },
  {
   "cell_type": "markdown",
   "metadata": {},
   "source": [
    "# Load SARK Results"
   ]
  },
  {
   "cell_type": "code",
   "execution_count": 6,
   "metadata": {
    "ExecuteTime": {
     "end_time": "2019-12-30T06:46:53.021218Z",
     "start_time": "2019-12-30T06:46:52.913945Z"
    }
   },
   "outputs": [],
   "source": [
    "# OLD_ToR_MODEL_NAME = \"Orig_ToR_Classification_SARK\"\n",
    "with open(MODELS_PATH + ToR_MODEL_NAME + '_tor_dict.pickle', 'rb') as handle:\n",
    "    sark_tor_dict = pickle.load(handle)"
   ]
  },
  {
   "cell_type": "markdown",
   "metadata": {
    "ExecuteTime": {
     "end_time": "2018-10-20T11:24:40.580036Z",
     "start_time": "2018-10-20T11:24:33.351927Z"
    }
   },
   "source": [
    "# Final evaluation of the model\n",
    "## Evaluate accuracy over the test set"
   ]
  },
  {
   "cell_type": "code",
   "execution_count": 7,
   "metadata": {
    "ExecuteTime": {
     "end_time": "2019-12-30T06:47:01.330014Z",
     "start_time": "2019-12-30T06:47:01.322428Z"
    }
   },
   "outputs": [],
   "source": [
    "def generate_labels_for_set(tor_dict, pairs):\n",
    "    labels = []\n",
    "    for pair in pairs:\n",
    "        if (pair[0], pair[1]) in tor_dict:\n",
    "            labels.append(tor_dict[(pair[0], pair[1])])\n",
    "        elif (pair[1], pair[0]) in tor_dict:\n",
    "            if tor_dict[(pair[1], pair[0])] == 0 or tor_dict[(pair[1], pair[0])] == 2:\n",
    "                labels.append(tor_dict[(pair[1], pair[0])])\n",
    "            else:\n",
    "                labels.append((tor_dict[(pair[1], pair[0])] + 2)%4)\n",
    "        else:\n",
    "            labels.append(-1)\n",
    "    return np.asarray(labels)"
   ]
  },
  {
   "cell_type": "code",
   "execution_count": 8,
   "metadata": {
    "ExecuteTime": {
     "end_time": "2019-12-30T06:47:09.505851Z",
     "start_time": "2019-12-30T06:47:08.878091Z"
    }
   },
   "outputs": [
    {
     "name": "stdout",
     "output_type": "stream",
     "text": [
      "116153\n",
      "116153\n"
     ]
    }
   ],
   "source": [
    "y_test_prediction = generate_labels_for_set(sark_tor_dict, x_test)\n",
    "\n",
    "print(len(y_test_prediction))\n",
    "y_test_prediction_new = []\n",
    "for i in range(len(y_test_prediction)):\n",
    "    if y_test_prediction[i] %2 == 0:\n",
    "        y_test_prediction_new.append(0)\n",
    "    elif y_test_prediction[i] == 3:\n",
    "        y_test_prediction_new.append(2)\n",
    "    elif y_test_prediction[i] == 1:\n",
    "        y_test_prediction_new.append(1)\n",
    "    else:\n",
    "        y_test_prediction_new.append(-1)\n",
    "\n",
    "y_test_prediction_new = np.asarray(y_test_prediction_new)\n",
    "print(len(y_test_prediction_new))\n",
    "y_test_prediction = y_test_prediction_new"
   ]
  },
  {
   "cell_type": "code",
   "execution_count": null,
   "metadata": {
    "ExecuteTime": {
     "end_time": "2019-01-05T14:22:38.465648Z",
     "start_time": "2019-01-05T14:22:38.348441Z"
    }
   },
   "outputs": [],
   "source": [
    "# y_test_prediction = sark.generate_labels_for_set(x_test)"
   ]
  },
  {
   "cell_type": "code",
   "execution_count": 9,
   "metadata": {
    "ExecuteTime": {
     "end_time": "2019-12-30T06:47:37.541836Z",
     "start_time": "2019-12-30T06:47:37.534487Z"
    }
   },
   "outputs": [
    {
     "name": "stdout",
     "output_type": "stream",
     "text": [
      "49550\n"
     ]
    }
   ],
   "source": [
    "y_test_prediction_eval = y_test_prediction[np.where(y_test_prediction!=-1)]\n",
    "y_test_eval = y_test[np.where(y_test_prediction!=-1)]\n",
    "\n",
    "print(len(y_test_prediction_eval))"
   ]
  },
  {
   "cell_type": "code",
   "execution_count": 10,
   "metadata": {
    "ExecuteTime": {
     "end_time": "2019-12-30T06:47:42.585135Z",
     "start_time": "2019-12-30T06:47:42.576877Z"
    }
   },
   "outputs": [
    {
     "name": "stdout",
     "output_type": "stream",
     "text": [
      "Accuracy: 81.85%\n"
     ]
    }
   ],
   "source": [
    "from sklearn.metrics import accuracy_score\n",
    "# test_scores = accuracy_score(y_test, y_test_prediction)\n",
    "# print(\"Accuracy: %.2f%%\" % (test_scores*100))\n",
    "\n",
    "test_scores = accuracy_score(y_test_eval, y_test_prediction_eval)\n",
    "print(\"Accuracy: %.2f%%\" % (test_scores*100))"
   ]
  },
  {
   "cell_type": "code",
   "execution_count": null,
   "metadata": {
    "ExecuteTime": {
     "end_time": "2018-11-17T15:27:13.913361Z",
     "start_time": "2018-11-17T15:27:13.845207Z"
    }
   },
   "outputs": [],
   "source": [
    "# x_test_cleaned = np.asarray([np.asarray(x_test[i]) for i in range(len(x_test)) if y_test_prediction[i] != -1])\n",
    "# y_test_cleaned = np.asarray([y_test[i] for i in range(len(y_test)) if y_test_prediction[i] != -1])\n",
    "# y_test_prediction_cleaned = np.asarray([y_test_prediction[i] for i in range(len(y_test_prediction)) if y_test_prediction[i] != -1])"
   ]
  },
  {
   "cell_type": "code",
   "execution_count": null,
   "metadata": {
    "ExecuteTime": {
     "end_time": "2018-11-17T15:27:15.867226Z",
     "start_time": "2018-11-17T15:27:15.861071Z"
    }
   },
   "outputs": [],
   "source": [
    "# print(len(x_test_cleaned), len(y_test_cleaned), len(y_test_prediction_cleaned))"
   ]
  },
  {
   "cell_type": "code",
   "execution_count": null,
   "metadata": {
    "ExecuteTime": {
     "end_time": "2018-11-17T15:27:17.061659Z",
     "start_time": "2018-11-17T15:27:17.052861Z"
    }
   },
   "outputs": [],
   "source": [
    "# from sklearn.metrics import accuracy_score\n",
    "# test_scores = accuracy_score(y_test_cleaned, y_test_prediction_cleaned)\n",
    "# print(\"Accuracy: %.2f%%\" % (test_scores*100))"
   ]
  },
  {
   "cell_type": "markdown",
   "metadata": {},
   "source": [
    "## Test if by learning (asn1, asn2) -> p2c then (asn2, asn1) -> c2p and vice versa"
   ]
  },
  {
   "cell_type": "code",
   "execution_count": null,
   "metadata": {
    "ExecuteTime": {
     "end_time": "2018-11-17T15:34:36.931489Z",
     "start_time": "2018-11-17T15:34:36.651143Z"
    }
   },
   "outputs": [],
   "source": [
    "p2c = TOR_ORIG_LABELS_DICT['P2C']\n",
    "c2p = TOR_ORIG_LABELS_DICT['C2P']\n",
    "\n",
    "p2c_training = np.asarray([np.asarray(x_training[i]) for i in range(len(x_training)) if y_training[i] == p2c])\n",
    "p2c_training_oposite = np.asarray([np.asarray([pair[1], pair[0]]) for pair in p2c_training])\n",
    "p2c_training_labels = [p2c]*len(p2c_training)\n",
    "p2c_training_oposite_labels = [c2p]*len(p2c_training_oposite)\n",
    "print(p2c_training.shape, p2c_training_oposite.shape)"
   ]
  },
  {
   "cell_type": "code",
   "execution_count": null,
   "metadata": {
    "ExecuteTime": {
     "end_time": "2018-11-17T15:34:38.408003Z",
     "start_time": "2018-11-17T15:34:38.009050Z"
    }
   },
   "outputs": [],
   "source": [
    "p2c_training_labels_prediction = gao.generate_labels_for_set(p2c_training)\n",
    "p2c_training_scores = accuracy_score(p2c_training_labels, p2c_training_labels_prediction)\n",
    "print(\"Accuracy: %.2f%%\" % (p2c_training_scores*100))\n",
    "\n",
    "p2c_training_oposite_labels_prediction = gao.generate_labels_for_set(p2c_training_oposite)\n",
    "p2c_training_oposite_scores = accuracy_score(p2c_training_oposite_labels, p2c_training_oposite_labels_prediction)\n",
    "print(\"Accuracy: %.2f%%\" % (p2c_training_oposite_scores*100))"
   ]
  },
  {
   "cell_type": "markdown",
   "metadata": {},
   "source": [
    "## Plot and save a confusion matrix for results over the test set"
   ]
  },
  {
   "cell_type": "markdown",
   "metadata": {},
   "source": [
    "### Define a function"
   ]
  },
  {
   "cell_type": "code",
   "execution_count": 11,
   "metadata": {
    "ExecuteTime": {
     "end_time": "2019-12-30T06:47:50.451417Z",
     "start_time": "2019-12-30T06:47:50.226495Z"
    }
   },
   "outputs": [],
   "source": [
    "%matplotlib inline\n",
    "\n",
    "import matplotlib\n",
    "import pylab as pl\n",
    "from sklearn.metrics import confusion_matrix\n",
    "import itertools\n",
    "import matplotlib.pyplot as plt\n",
    "import matplotlib.cm as cm\n",
    "\n",
    "def plot_confusion_matrix(cm, classes,\n",
    "                          normalize=False,\n",
    "                          title='Confusion matrix',\n",
    "                          fname='Confusion matrix',\n",
    "                          cmap=plt.cm.Blues):\n",
    "    \"\"\"\n",
    "    This function prints and plots the confusion matrix.\n",
    "    Normalization can be applied by setting `normalize=True`.\n",
    "    \"\"\"\n",
    "    if normalize:\n",
    "        cm = cm.astype('float') / cm.sum(axis=1)[:, np.newaxis]\n",
    "        print(\"Normalized confusion matrix\")\n",
    "    else:\n",
    "        print('Confusion matrix, without normalization')\n",
    "\n",
    "#     print(cm)\n",
    "\n",
    "    plt.imshow(cm, interpolation='nearest', cmap=cmap)\n",
    "#     plt.title(title)\n",
    "    plt.colorbar()\n",
    "    tick_marks = np.arange(len(classes))\n",
    "    plt.xticks(tick_marks, classes, rotation=45)\n",
    "    plt.yticks(tick_marks, classes)\n",
    "\n",
    "    fmt = '.1f' if normalize else 'd'\n",
    "    thresh = cm.max() / 2.\n",
    "    for i, j in itertools.product(range(cm.shape[0]), range(cm.shape[1])):\n",
    "        if normalize:\n",
    "            plt.text(j, i, format(cm[i, j]*100, fmt) + '%',\n",
    "                 horizontalalignment=\"center\",\n",
    "                 color=\"white\" if cm[i, j] > thresh else \"black\")\n",
    "        else:\n",
    "            plt.text(j, i, format(cm[i, j], fmt),\n",
    "                 horizontalalignment=\"center\",\n",
    "                 color=\"white\" if cm[i, j] > thresh else \"black\")    \n",
    "        \n",
    "    plt.tight_layout()\n",
    "    plt.ylabel('True Label')\n",
    "    plt.xlabel('Predicted Label')\n",
    "    plt.savefig(fname, bbox_inches='tight')"
   ]
  },
  {
   "cell_type": "code",
   "execution_count": 12,
   "metadata": {
    "ExecuteTime": {
     "end_time": "2019-12-30T06:47:53.433341Z",
     "start_time": "2019-12-30T06:47:52.534383Z"
    }
   },
   "outputs": [
    {
     "name": "stdout",
     "output_type": "stream",
     "text": [
      "Confusion matrix, without normalization\n",
      "Normalized confusion matrix\n"
     ]
    },
    {
     "data": {
      "image/png": "[encoded data removed]",
      "text/plain": [
       "<Figure size 432x288 with 2 Axes>"
      ]
     },
     "metadata": {
      "needs_background": "light"
     },
     "output_type": "display_data"
    },
    {
     "data": {
      "image/png": "[encoded data removed]",
      "text/plain": [
       "<Figure size 432x288 with 2 Axes>"
      ]
     },
     "metadata": {
      "needs_background": "light"
     },
     "output_type": "display_data"
    }
   ],
   "source": [
    "# Compute confusion matrix\n",
    "cnf_matrix = confusion_matrix(y_test_eval, y_test_prediction_eval)\n",
    "np.set_printoptions(precision=2)\n",
    "\n",
    "# Plot non-normalized confusion matrix\n",
    "plt.figure()\n",
    "plot_confusion_matrix(cnf_matrix, classes=class_names,\n",
    "                      title='Confusion matrix, without normalization',\n",
    "                      fname=RESULTS_PATH + ToR_MODEL_NAME + \"_\" + 'Confusion_matrix_without_normalization')\n",
    "\n",
    "# Plot normalized confusion matrix\n",
    "plt.figure()\n",
    "plot_confusion_matrix(cnf_matrix, classes=class_names, normalize=True,\n",
    "                      title='Normalized Confusion Msatrix',\n",
    "                      fname=RESULTS_PATH +ToR_MODEL_NAME + \"_\" + 'Normalized_confusion_matrix')\n",
    "\n",
    "plt.show()"
   ]
  },
  {
   "cell_type": "markdown",
   "metadata": {
    "heading_collapsed": true
   },
   "source": [
    "# Export the model to a file"
   ]
  },
  {
   "cell_type": "code",
   "execution_count": null,
   "metadata": {
    "ExecuteTime": {
     "end_time": "2018-11-16T12:50:04.937659Z",
     "start_time": "2018-11-16T12:50:04.873865Z"
    },
    "hidden": true
   },
   "outputs": [],
   "source": [
    "model_json = pairs_model.to_json()\n",
    "with open(MODELS_PATH + ToR_MODEL_NAME + '.json', \"w\") as json_file:\n",
    "    json_file.write(model_json)\n",
    "pairs_model.save_weights(MODELS_PATH + ToR_MODEL_NAME + '.h5')\n",
    "print(\"Save Model\")"
   ]
  },
  {
   "cell_type": "markdown",
   "metadata": {
    "heading_collapsed": true
   },
   "source": [
    "# Export results to a csv file (with original ASNs)\n",
    "## Define functions"
   ]
  },
  {
   "cell_type": "code",
   "execution_count": null,
   "metadata": {
    "ExecuteTime": {
     "end_time": "2018-10-20T15:53:31.858073Z",
     "start_time": "2018-10-20T15:53:31.831311Z"
    },
    "hidden": true
   },
   "outputs": [],
   "source": [
    "def index2ASN(dataset_indexed, ASN_index_map):\n",
    "    dataset = []\n",
    "    index_ASN_map = {index: ASN for ASN, index in ASN_index_map.iteritems()}\n",
    "    for row_indexed in dataset_indexed:\n",
    "        row = []\n",
    "        for index in row_indexed:\n",
    "            if index != 0:\n",
    "                row += [index_ASN_map[index]]\n",
    "        dataset.append(row)\n",
    "    \n",
    "    return dataset\n",
    "\n",
    "def index2ASN_labeled(dataset_indexed, labels_indexed, ASN_index_map):\n",
    "    dataset = []\n",
    "    index_ASN_map = {index: ASN for ASN, index in ASN_index_map.iteritems()}\n",
    "    labels_colors_map = {0:'GREEN', 1:'RED'}\n",
    "    \n",
    "    for i, row_indexed in enumerate(dataset_indexed):\n",
    "        row = []\n",
    "        for index in row_indexed:\n",
    "            if index != 0:\n",
    "                row += [index_ASN_map[index]]\n",
    "        row += [labels_colors_map[labels_indexed[i]]]\n",
    "        dataset.append(row)\n",
    "    \n",
    "    return dataset\n",
    "\n",
    "import csv\n",
    "def export_csv(dataset, csv_name):\n",
    "    with open(csv_name + '.csv', 'wb') as csv_file:\n",
    "        csv_writer = csv.writer(csv_file)\n",
    "        for row in dataset:\n",
    "            csv_writer.writerow(row)"
   ]
  },
  {
   "cell_type": "markdown",
   "metadata": {
    "heading_collapsed": true,
    "hidden": true
   },
   "source": [
    "## Load a relevant dataset {all, misclassified, decided, undecided} and get model predictions"
   ]
  },
  {
   "cell_type": "code",
   "execution_count": null,
   "metadata": {
    "ExecuteTime": {
     "end_time": "2018-10-20T15:35:46.412152Z",
     "start_time": "2018-10-20T15:30:04.317489Z"
    },
    "hidden": true
   },
   "outputs": [],
   "source": [
    "### misclassified from the entire dataset ###\n",
    "\n",
    "dataset = np.load(DATA_PATH + \"bgp_routes_indexed_dataset.npy\")\n",
    "labels = np.load(DATA_PATH + \"bgp_routes_labels.npy\")\n",
    "\n",
    "# remove UNDECIDED\n",
    "dataset = np.asarray([np.asarray(dataset[i]) for i in range(len(dataset)) if labels[i] != 2])\n",
    "labels = np.asarray([labels[i] for i in range(len(labels)) if labels[i] != 2])\n",
    "\n",
    "# pad sequences\n",
    "dataset = sequence.pad_sequences(dataset, maxlen=max_len)\n",
    "# Get Model Predictions\n",
    "predictions = model.predict_classes(dataset, verbose=1)"
   ]
  },
  {
   "cell_type": "code",
   "execution_count": null,
   "metadata": {
    "ExecuteTime": {
     "end_time": "2018-10-20T15:54:32.435559Z",
     "start_time": "2018-10-20T15:54:28.652217Z"
    },
    "hidden": true
   },
   "outputs": [],
   "source": [
    "# Create misclassified dataset\n",
    "x_misclassified = np.asarray([route for i,route in enumerate(dataset) if labels[i] != predictions[i]])\n",
    "y_misclassified_prediction = np.asarray([label for i,label in enumerate(predictions) if labels[i] != predictions[i]])\n",
    "print len(x_misclassified), len(y_misclassified_prediction)"
   ]
  },
  {
   "cell_type": "markdown",
   "metadata": {
    "hidden": true
   },
   "source": [
    "## Export Results"
   ]
  },
  {
   "cell_type": "code",
   "execution_count": null,
   "metadata": {
    "ExecuteTime": {
     "end_time": "2018-10-20T15:54:39.339072Z",
     "start_time": "2018-10-20T15:54:39.169037Z"
    },
    "hidden": true
   },
   "outputs": [],
   "source": [
    "dataset_misclassified = index2ASN_labeled(x_misclassified, y_misclassified_prediction, ASN_index_map)\n",
    "export_csv(dataset_misclassified, RESULTS_PATH + MODEL_NAME + \"_misclassified\")"
   ]
  }
 ],
 "metadata": {
  "kernelspec": {
   "display_name": "Python 3",
   "language": "python",
   "name": "python3"
  },
  "language_info": {
   "codemirror_mode": {
    "name": "ipython",
    "version": 3
   },
   "file_extension": ".py",
   "mimetype": "text/x-python",
   "name": "python",
   "nbconvert_exporter": "python",
   "pygments_lexer": "ipython3",
   "version": "3.7.3"
  },
  "toc": {
   "base_numbering": 1,
   "nav_menu": {},
   "number_sections": true,
   "sideBar": true,
   "skip_h1_title": false,
   "title_cell": "Table of Contents",
   "title_sidebar": "Contents",
   "toc_cell": false,
   "toc_position": {},
   "toc_section_display": true,
   "toc_window_display": true
  },
  "varInspector": {
   "cols": {
    "lenName": 16,
    "lenType": 16,
    "lenVar": 40
   },
   "kernels_config": {
    "python": {
     "delete_cmd_postfix": "",
     "delete_cmd_prefix": "del ",
     "library": "var_list.py",
     "varRefreshCmd": "print(var_dic_list())"
    },
    "r": {
     "delete_cmd_postfix": ") ",
     "delete_cmd_prefix": "rm(",
     "library": "var_list.r",
     "varRefreshCmd": "cat(var_dic_list()) "
    }
   },
   "types_to_exclude": [
    "module",
    "function",
    "builtin_function_or_method",
    "instance",
    "_Feature"
   ],
   "window_display": false
  }
 },
 "nbformat": 4,
 "nbformat_minor": 2
}
